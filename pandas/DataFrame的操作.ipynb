{
 "nbformat": 4,
 "nbformat_minor": 2,
 "metadata": {
  "language_info": {
   "name": "python",
   "codemirror_mode": {
    "name": "ipython",
    "version": 3
   },
   "version": "3.7.4-final"
  },
  "orig_nbformat": 2,
  "file_extension": ".py",
  "mimetype": "text/x-python",
  "name": "python",
  "npconvert_exporter": "python",
  "pygments_lexer": "ipython3",
  "version": 3,
  "kernelspec": {
   "name": "python37464bitbaseconda66695521631d4bbc9bdbdac638dcafef",
   "display_name": "Python 3.7.4 64-bit ('base': conda)"
  }
 },
 "cells": [
  {
   "cell_type": "code",
   "execution_count": 2,
   "metadata": {},
   "outputs": [],
   "source": [
    "import pandas as pd\n",
    "import numpy as np"
   ]
  },
  {
   "cell_type": "code",
   "execution_count": 3,
   "metadata": {},
   "outputs": [],
   "source": [
    "dates = ['2016-01-01','2016-01-02','2016-01-03','2016-01-04',\n",
    "'2016-01-05','2016-01-06']"
   ]
  },
  {
   "cell_type": "code",
   "execution_count": 4,
   "metadata": {},
   "outputs": [],
   "source": [
    "dates = pd.to_datetime(dates)"
   ]
  },
  {
   "cell_type": "code",
   "execution_count": 5,
   "metadata": {},
   "outputs": [],
   "source": [
    "df = pd.DataFrame(np.random.randn(6,4), index=dates, columns=list('ABCD'))"
   ]
  },
  {
   "cell_type": "code",
   "execution_count": 6,
   "metadata": {},
   "outputs": [
    {
     "data": {
      "text/html": "<div>\n<style scoped>\n    .dataframe tbody tr th:only-of-type {\n        vertical-align: middle;\n    }\n\n    .dataframe tbody tr th {\n        vertical-align: top;\n    }\n\n    .dataframe thead th {\n        text-align: right;\n    }\n</style>\n<table border=\"1\" class=\"dataframe\">\n  <thead>\n    <tr style=\"text-align: right;\">\n      <th></th>\n      <th>A</th>\n      <th>B</th>\n      <th>C</th>\n      <th>D</th>\n    </tr>\n  </thead>\n  <tbody>\n    <tr>\n      <td>2016-01-01</td>\n      <td>-0.590942</td>\n      <td>1.590224</td>\n      <td>0.202867</td>\n      <td>0.666715</td>\n    </tr>\n    <tr>\n      <td>2016-01-02</td>\n      <td>-1.687778</td>\n      <td>0.348293</td>\n      <td>0.133713</td>\n      <td>-1.449037</td>\n    </tr>\n    <tr>\n      <td>2016-01-03</td>\n      <td>0.990828</td>\n      <td>0.203789</td>\n      <td>-0.569202</td>\n      <td>0.726566</td>\n    </tr>\n    <tr>\n      <td>2016-01-04</td>\n      <td>-0.104094</td>\n      <td>0.978840</td>\n      <td>-0.772355</td>\n      <td>1.892260</td>\n    </tr>\n    <tr>\n      <td>2016-01-05</td>\n      <td>-0.018626</td>\n      <td>-1.540238</td>\n      <td>-1.637691</td>\n      <td>-1.187670</td>\n    </tr>\n    <tr>\n      <td>2016-01-06</td>\n      <td>-0.554504</td>\n      <td>0.528030</td>\n      <td>0.515184</td>\n      <td>-2.294399</td>\n    </tr>\n  </tbody>\n</table>\n</div>",
      "text/plain": "                   A         B         C         D\n2016-01-01 -0.590942  1.590224  0.202867  0.666715\n2016-01-02 -1.687778  0.348293  0.133713 -1.449037\n2016-01-03  0.990828  0.203789 -0.569202  0.726566\n2016-01-04 -0.104094  0.978840 -0.772355  1.892260\n2016-01-05 -0.018626 -1.540238 -1.637691 -1.187670\n2016-01-06 -0.554504  0.528030  0.515184 -2.294399"
     },
     "execution_count": 6,
     "metadata": {},
     "output_type": "execute_result"
    }
   ],
   "source": [
    "df"
   ]
  },
  {
   "cell_type": "code",
   "execution_count": 7,
   "metadata": {},
   "outputs": [
    {
     "data": {
      "text/html": "<div>\n<style scoped>\n    .dataframe tbody tr th:only-of-type {\n        vertical-align: middle;\n    }\n\n    .dataframe tbody tr th {\n        vertical-align: top;\n    }\n\n    .dataframe thead th {\n        text-align: right;\n    }\n</style>\n<table border=\"1\" class=\"dataframe\">\n  <thead>\n    <tr style=\"text-align: right;\">\n      <th></th>\n      <th>2016-01-01</th>\n      <th>2016-01-02</th>\n      <th>2016-01-03</th>\n      <th>2016-01-04</th>\n      <th>2016-01-05</th>\n      <th>2016-01-06</th>\n    </tr>\n  </thead>\n  <tbody>\n    <tr>\n      <td>A</td>\n      <td>-0.590942</td>\n      <td>-1.687778</td>\n      <td>0.990828</td>\n      <td>-0.104094</td>\n      <td>-0.018626</td>\n      <td>-0.554504</td>\n    </tr>\n    <tr>\n      <td>B</td>\n      <td>1.590224</td>\n      <td>0.348293</td>\n      <td>0.203789</td>\n      <td>0.978840</td>\n      <td>-1.540238</td>\n      <td>0.528030</td>\n    </tr>\n    <tr>\n      <td>C</td>\n      <td>0.202867</td>\n      <td>0.133713</td>\n      <td>-0.569202</td>\n      <td>-0.772355</td>\n      <td>-1.637691</td>\n      <td>0.515184</td>\n    </tr>\n    <tr>\n      <td>D</td>\n      <td>0.666715</td>\n      <td>-1.449037</td>\n      <td>0.726566</td>\n      <td>1.892260</td>\n      <td>-1.187670</td>\n      <td>-2.294399</td>\n    </tr>\n  </tbody>\n</table>\n</div>",
      "text/plain": "   2016-01-01  2016-01-02  2016-01-03  2016-01-04  2016-01-05  2016-01-06\nA   -0.590942   -1.687778    0.990828   -0.104094   -0.018626   -0.554504\nB    1.590224    0.348293    0.203789    0.978840   -1.540238    0.528030\nC    0.202867    0.133713   -0.569202   -0.772355   -1.637691    0.515184\nD    0.666715   -1.449037    0.726566    1.892260   -1.187670   -2.294399"
     },
     "execution_count": 7,
     "metadata": {},
     "output_type": "execute_result"
    }
   ],
   "source": [
    "df.T"
   ]
  },
  {
   "cell_type": "code",
   "execution_count": 8,
   "metadata": {},
   "outputs": [
    {
     "data": {
      "text/html": "<div>\n<style scoped>\n    .dataframe tbody tr th:only-of-type {\n        vertical-align: middle;\n    }\n\n    .dataframe tbody tr th {\n        vertical-align: top;\n    }\n\n    .dataframe thead th {\n        text-align: right;\n    }\n</style>\n<table border=\"1\" class=\"dataframe\">\n  <thead>\n    <tr style=\"text-align: right;\">\n      <th></th>\n      <th>A</th>\n      <th>B</th>\n      <th>C</th>\n      <th>D</th>\n    </tr>\n  </thead>\n  <tbody>\n    <tr>\n      <td>2016-01-02</td>\n      <td>-1.687778</td>\n      <td>0.348293</td>\n      <td>0.133713</td>\n      <td>-1.449037</td>\n    </tr>\n    <tr>\n      <td>2016-01-01</td>\n      <td>-0.590942</td>\n      <td>1.590224</td>\n      <td>0.202867</td>\n      <td>0.666715</td>\n    </tr>\n    <tr>\n      <td>2016-01-06</td>\n      <td>-0.554504</td>\n      <td>0.528030</td>\n      <td>0.515184</td>\n      <td>-2.294399</td>\n    </tr>\n    <tr>\n      <td>2016-01-04</td>\n      <td>-0.104094</td>\n      <td>0.978840</td>\n      <td>-0.772355</td>\n      <td>1.892260</td>\n    </tr>\n    <tr>\n      <td>2016-01-05</td>\n      <td>-0.018626</td>\n      <td>-1.540238</td>\n      <td>-1.637691</td>\n      <td>-1.187670</td>\n    </tr>\n    <tr>\n      <td>2016-01-03</td>\n      <td>0.990828</td>\n      <td>0.203789</td>\n      <td>-0.569202</td>\n      <td>0.726566</td>\n    </tr>\n  </tbody>\n</table>\n</div>",
      "text/plain": "                   A         B         C         D\n2016-01-02 -1.687778  0.348293  0.133713 -1.449037\n2016-01-01 -0.590942  1.590224  0.202867  0.666715\n2016-01-06 -0.554504  0.528030  0.515184 -2.294399\n2016-01-04 -0.104094  0.978840 -0.772355  1.892260\n2016-01-05 -0.018626 -1.540238 -1.637691 -1.187670\n2016-01-03  0.990828  0.203789 -0.569202  0.726566"
     },
     "execution_count": 8,
     "metadata": {},
     "output_type": "execute_result"
    }
   ],
   "source": [
    "df.sort_values(by=['A'], axis=0, ascending=True)"
   ]
  },
  {
   "cell_type": "code",
   "execution_count": 9,
   "metadata": {},
   "outputs": [
    {
     "data": {
      "text/html": "<div>\n<style scoped>\n    .dataframe tbody tr th:only-of-type {\n        vertical-align: middle;\n    }\n\n    .dataframe tbody tr th {\n        vertical-align: top;\n    }\n\n    .dataframe thead th {\n        text-align: right;\n    }\n</style>\n<table border=\"1\" class=\"dataframe\">\n  <thead>\n    <tr style=\"text-align: right;\">\n      <th></th>\n      <th>A</th>\n      <th>B</th>\n      <th>C</th>\n      <th>D</th>\n    </tr>\n  </thead>\n  <tbody>\n    <tr>\n      <td>2016-01-06</td>\n      <td>-0.554504</td>\n      <td>0.528030</td>\n      <td>0.515184</td>\n      <td>-2.294399</td>\n    </tr>\n    <tr>\n      <td>2016-01-05</td>\n      <td>-0.018626</td>\n      <td>-1.540238</td>\n      <td>-1.637691</td>\n      <td>-1.187670</td>\n    </tr>\n    <tr>\n      <td>2016-01-04</td>\n      <td>-0.104094</td>\n      <td>0.978840</td>\n      <td>-0.772355</td>\n      <td>1.892260</td>\n    </tr>\n    <tr>\n      <td>2016-01-03</td>\n      <td>0.990828</td>\n      <td>0.203789</td>\n      <td>-0.569202</td>\n      <td>0.726566</td>\n    </tr>\n    <tr>\n      <td>2016-01-02</td>\n      <td>-1.687778</td>\n      <td>0.348293</td>\n      <td>0.133713</td>\n      <td>-1.449037</td>\n    </tr>\n    <tr>\n      <td>2016-01-01</td>\n      <td>-0.590942</td>\n      <td>1.590224</td>\n      <td>0.202867</td>\n      <td>0.666715</td>\n    </tr>\n  </tbody>\n</table>\n</div>",
      "text/plain": "                   A         B         C         D\n2016-01-06 -0.554504  0.528030  0.515184 -2.294399\n2016-01-05 -0.018626 -1.540238 -1.637691 -1.187670\n2016-01-04 -0.104094  0.978840 -0.772355  1.892260\n2016-01-03  0.990828  0.203789 -0.569202  0.726566\n2016-01-02 -1.687778  0.348293  0.133713 -1.449037\n2016-01-01 -0.590942  1.590224  0.202867  0.666715"
     },
     "execution_count": 9,
     "metadata": {},
     "output_type": "execute_result"
    }
   ],
   "source": [
    "df.sort_index(ascending=False)"
   ]
  },
  {
   "cell_type": "code",
   "execution_count": 10,
   "metadata": {},
   "outputs": [
    {
     "data": {
      "text/html": "<div>\n<style scoped>\n    .dataframe tbody tr th:only-of-type {\n        vertical-align: middle;\n    }\n\n    .dataframe tbody tr th {\n        vertical-align: top;\n    }\n\n    .dataframe thead th {\n        text-align: right;\n    }\n</style>\n<table border=\"1\" class=\"dataframe\">\n  <thead>\n    <tr style=\"text-align: right;\">\n      <th></th>\n      <th>A</th>\n      <th>B</th>\n      <th>C</th>\n      <th>D</th>\n    </tr>\n  </thead>\n  <tbody>\n    <tr>\n      <td>2016-01-01</td>\n      <td>-0.590942</td>\n      <td>1.590224</td>\n      <td>0.202867</td>\n      <td>0.666715</td>\n    </tr>\n    <tr>\n      <td>2016-01-02</td>\n      <td>-1.687778</td>\n      <td>0.348293</td>\n      <td>0.133713</td>\n      <td>-1.449037</td>\n    </tr>\n    <tr>\n      <td>2016-01-03</td>\n      <td>0.990828</td>\n      <td>0.203789</td>\n      <td>-0.569202</td>\n      <td>0.726566</td>\n    </tr>\n    <tr>\n      <td>2016-01-04</td>\n      <td>-0.104094</td>\n      <td>0.978840</td>\n      <td>-0.772355</td>\n      <td>1.892260</td>\n    </tr>\n    <tr>\n      <td>2016-01-05</td>\n      <td>-0.018626</td>\n      <td>-1.540238</td>\n      <td>-1.637691</td>\n      <td>-1.187670</td>\n    </tr>\n    <tr>\n      <td>2016-01-06</td>\n      <td>-0.554504</td>\n      <td>0.528030</td>\n      <td>0.515184</td>\n      <td>-2.294399</td>\n    </tr>\n  </tbody>\n</table>\n</div>",
      "text/plain": "                   A         B         C         D\n2016-01-01 -0.590942  1.590224  0.202867  0.666715\n2016-01-02 -1.687778  0.348293  0.133713 -1.449037\n2016-01-03  0.990828  0.203789 -0.569202  0.726566\n2016-01-04 -0.104094  0.978840 -0.772355  1.892260\n2016-01-05 -0.018626 -1.540238 -1.637691 -1.187670\n2016-01-06 -0.554504  0.528030  0.515184 -2.294399"
     },
     "execution_count": 10,
     "metadata": {},
     "output_type": "execute_result"
    }
   ],
   "source": [
    "df.sort_index(ascending=True)"
   ]
  },
  {
   "cell_type": "code",
   "execution_count": 11,
   "metadata": {},
   "outputs": [
    {
     "data": {
      "text/html": "<div>\n<style scoped>\n    .dataframe tbody tr th:only-of-type {\n        vertical-align: middle;\n    }\n\n    .dataframe tbody tr th {\n        vertical-align: top;\n    }\n\n    .dataframe thead th {\n        text-align: right;\n    }\n</style>\n<table border=\"1\" class=\"dataframe\">\n  <thead>\n    <tr style=\"text-align: right;\">\n      <th></th>\n      <th>A</th>\n      <th>B</th>\n      <th>C</th>\n      <th>D</th>\n    </tr>\n  </thead>\n  <tbody>\n    <tr>\n      <td>2016-01-05</td>\n      <td>-0.018626</td>\n      <td>-1.540238</td>\n      <td>-1.637691</td>\n      <td>-1.187670</td>\n    </tr>\n    <tr>\n      <td>2016-01-03</td>\n      <td>0.990828</td>\n      <td>0.203789</td>\n      <td>-0.569202</td>\n      <td>0.726566</td>\n    </tr>\n    <tr>\n      <td>2016-01-02</td>\n      <td>-1.687778</td>\n      <td>0.348293</td>\n      <td>0.133713</td>\n      <td>-1.449037</td>\n    </tr>\n    <tr>\n      <td>2016-01-06</td>\n      <td>-0.554504</td>\n      <td>0.528030</td>\n      <td>0.515184</td>\n      <td>-2.294399</td>\n    </tr>\n    <tr>\n      <td>2016-01-04</td>\n      <td>-0.104094</td>\n      <td>0.978840</td>\n      <td>-0.772355</td>\n      <td>1.892260</td>\n    </tr>\n    <tr>\n      <td>2016-01-01</td>\n      <td>-0.590942</td>\n      <td>1.590224</td>\n      <td>0.202867</td>\n      <td>0.666715</td>\n    </tr>\n  </tbody>\n</table>\n</div>",
      "text/plain": "                   A         B         C         D\n2016-01-05 -0.018626 -1.540238 -1.637691 -1.187670\n2016-01-03  0.990828  0.203789 -0.569202  0.726566\n2016-01-02 -1.687778  0.348293  0.133713 -1.449037\n2016-01-06 -0.554504  0.528030  0.515184 -2.294399\n2016-01-04 -0.104094  0.978840 -0.772355  1.892260\n2016-01-01 -0.590942  1.590224  0.202867  0.666715"
     },
     "execution_count": 11,
     "metadata": {},
     "output_type": "execute_result"
    }
   ],
   "source": [
    "df.sort_values(by=['B'], ascending=True)"
   ]
  },
  {
   "cell_type": "code",
   "execution_count": 12,
   "metadata": {},
   "outputs": [
    {
     "data": {
      "text/html": "<div>\n<style scoped>\n    .dataframe tbody tr th:only-of-type {\n        vertical-align: middle;\n    }\n\n    .dataframe tbody tr th {\n        vertical-align: top;\n    }\n\n    .dataframe thead th {\n        text-align: right;\n    }\n</style>\n<table border=\"1\" class=\"dataframe\">\n  <thead>\n    <tr style=\"text-align: right;\">\n      <th></th>\n      <th>A</th>\n      <th>B</th>\n      <th>C</th>\n      <th>D</th>\n    </tr>\n  </thead>\n  <tbody>\n    <tr>\n      <td>2016-01-01</td>\n      <td>2.0</td>\n      <td>6.0</td>\n      <td>5.0</td>\n      <td>4.0</td>\n    </tr>\n    <tr>\n      <td>2016-01-02</td>\n      <td>1.0</td>\n      <td>3.0</td>\n      <td>4.0</td>\n      <td>2.0</td>\n    </tr>\n    <tr>\n      <td>2016-01-03</td>\n      <td>6.0</td>\n      <td>2.0</td>\n      <td>3.0</td>\n      <td>5.0</td>\n    </tr>\n    <tr>\n      <td>2016-01-04</td>\n      <td>4.0</td>\n      <td>5.0</td>\n      <td>2.0</td>\n      <td>6.0</td>\n    </tr>\n    <tr>\n      <td>2016-01-05</td>\n      <td>5.0</td>\n      <td>1.0</td>\n      <td>1.0</td>\n      <td>3.0</td>\n    </tr>\n    <tr>\n      <td>2016-01-06</td>\n      <td>3.0</td>\n      <td>4.0</td>\n      <td>6.0</td>\n      <td>1.0</td>\n    </tr>\n  </tbody>\n</table>\n</div>",
      "text/plain": "              A    B    C    D\n2016-01-01  2.0  6.0  5.0  4.0\n2016-01-02  1.0  3.0  4.0  2.0\n2016-01-03  6.0  2.0  3.0  5.0\n2016-01-04  4.0  5.0  2.0  6.0\n2016-01-05  5.0  1.0  1.0  3.0\n2016-01-06  3.0  4.0  6.0  1.0"
     },
     "execution_count": 12,
     "metadata": {},
     "output_type": "execute_result"
    }
   ],
   "source": [
    "# 每列按升序排名\n",
    "df.rank(axis=0)"
   ]
  },
  {
   "cell_type": "code",
   "execution_count": 13,
   "metadata": {},
   "outputs": [
    {
     "data": {
      "text/html": "<div>\n<style scoped>\n    .dataframe tbody tr th:only-of-type {\n        vertical-align: middle;\n    }\n\n    .dataframe tbody tr th {\n        vertical-align: top;\n    }\n\n    .dataframe thead th {\n        text-align: right;\n    }\n</style>\n<table border=\"1\" class=\"dataframe\">\n  <thead>\n    <tr style=\"text-align: right;\">\n      <th></th>\n      <th>A</th>\n      <th>B</th>\n      <th>C</th>\n      <th>D</th>\n    </tr>\n  </thead>\n  <tbody>\n    <tr>\n      <td>2016-01-01</td>\n      <td>4.0</td>\n      <td>1.0</td>\n      <td>3.0</td>\n      <td>2.0</td>\n    </tr>\n    <tr>\n      <td>2016-01-02</td>\n      <td>4.0</td>\n      <td>1.0</td>\n      <td>2.0</td>\n      <td>3.0</td>\n    </tr>\n    <tr>\n      <td>2016-01-03</td>\n      <td>1.0</td>\n      <td>3.0</td>\n      <td>4.0</td>\n      <td>2.0</td>\n    </tr>\n    <tr>\n      <td>2016-01-04</td>\n      <td>3.0</td>\n      <td>2.0</td>\n      <td>4.0</td>\n      <td>1.0</td>\n    </tr>\n    <tr>\n      <td>2016-01-05</td>\n      <td>1.0</td>\n      <td>3.0</td>\n      <td>4.0</td>\n      <td>2.0</td>\n    </tr>\n    <tr>\n      <td>2016-01-06</td>\n      <td>3.0</td>\n      <td>1.0</td>\n      <td>2.0</td>\n      <td>4.0</td>\n    </tr>\n  </tbody>\n</table>\n</div>",
      "text/plain": "              A    B    C    D\n2016-01-01  4.0  1.0  3.0  2.0\n2016-01-02  4.0  1.0  2.0  3.0\n2016-01-03  1.0  3.0  4.0  2.0\n2016-01-04  3.0  2.0  4.0  1.0\n2016-01-05  1.0  3.0  4.0  2.0\n2016-01-06  3.0  1.0  2.0  4.0"
     },
     "execution_count": 13,
     "metadata": {},
     "output_type": "execute_result"
    }
   ],
   "source": [
    "# 每月按降序排名\n",
    "df.rank(axis=1, ascending=False)"
   ]
  },
  {
   "cell_type": "code",
   "execution_count": 14,
   "metadata": {},
   "outputs": [],
   "source": [
    "s1 = pd.Series([1,2,3,4,5,6], index=pd.date_range('20160102',periods=6))"
   ]
  },
  {
   "cell_type": "code",
   "execution_count": 15,
   "metadata": {},
   "outputs": [
    {
     "data": {
      "text/plain": "2016-01-02    1\n2016-01-03    2\n2016-01-04    3\n2016-01-05    4\n2016-01-06    5\n2016-01-07    6\nFreq: D, dtype: int64"
     },
     "execution_count": 15,
     "metadata": {},
     "output_type": "execute_result"
    }
   ],
   "source": [
    "s1"
   ]
  },
  {
   "cell_type": "code",
   "execution_count": 16,
   "metadata": {},
   "outputs": [],
   "source": [
    "df['E'] = s1"
   ]
  },
  {
   "cell_type": "code",
   "execution_count": 17,
   "metadata": {},
   "outputs": [
    {
     "data": {
      "text/html": "<div>\n<style scoped>\n    .dataframe tbody tr th:only-of-type {\n        vertical-align: middle;\n    }\n\n    .dataframe tbody tr th {\n        vertical-align: top;\n    }\n\n    .dataframe thead th {\n        text-align: right;\n    }\n</style>\n<table border=\"1\" class=\"dataframe\">\n  <thead>\n    <tr style=\"text-align: right;\">\n      <th></th>\n      <th>A</th>\n      <th>B</th>\n      <th>C</th>\n      <th>D</th>\n      <th>E</th>\n    </tr>\n  </thead>\n  <tbody>\n    <tr>\n      <td>2016-01-01</td>\n      <td>-0.590942</td>\n      <td>1.590224</td>\n      <td>0.202867</td>\n      <td>0.666715</td>\n      <td>NaN</td>\n    </tr>\n    <tr>\n      <td>2016-01-02</td>\n      <td>-1.687778</td>\n      <td>0.348293</td>\n      <td>0.133713</td>\n      <td>-1.449037</td>\n      <td>1.0</td>\n    </tr>\n    <tr>\n      <td>2016-01-03</td>\n      <td>0.990828</td>\n      <td>0.203789</td>\n      <td>-0.569202</td>\n      <td>0.726566</td>\n      <td>2.0</td>\n    </tr>\n    <tr>\n      <td>2016-01-04</td>\n      <td>-0.104094</td>\n      <td>0.978840</td>\n      <td>-0.772355</td>\n      <td>1.892260</td>\n      <td>3.0</td>\n    </tr>\n    <tr>\n      <td>2016-01-05</td>\n      <td>-0.018626</td>\n      <td>-1.540238</td>\n      <td>-1.637691</td>\n      <td>-1.187670</td>\n      <td>4.0</td>\n    </tr>\n    <tr>\n      <td>2016-01-06</td>\n      <td>-0.554504</td>\n      <td>0.528030</td>\n      <td>0.515184</td>\n      <td>-2.294399</td>\n      <td>5.0</td>\n    </tr>\n  </tbody>\n</table>\n</div>",
      "text/plain": "                   A         B         C         D    E\n2016-01-01 -0.590942  1.590224  0.202867  0.666715  NaN\n2016-01-02 -1.687778  0.348293  0.133713 -1.449037  1.0\n2016-01-03  0.990828  0.203789 -0.569202  0.726566  2.0\n2016-01-04 -0.104094  0.978840 -0.772355  1.892260  3.0\n2016-01-05 -0.018626 -1.540238 -1.637691 -1.187670  4.0\n2016-01-06 -0.554504  0.528030  0.515184 -2.294399  5.0"
     },
     "execution_count": 17,
     "metadata": {},
     "output_type": "execute_result"
    }
   ],
   "source": [
    "df"
   ]
  },
  {
   "cell_type": "code",
   "execution_count": 18,
   "metadata": {},
   "outputs": [],
   "source": [
    "df=df[list('ABCD')]"
   ]
  },
  {
   "cell_type": "code",
   "execution_count": 19,
   "metadata": {},
   "outputs": [
    {
     "data": {
      "text/html": "<div>\n<style scoped>\n    .dataframe tbody tr th:only-of-type {\n        vertical-align: middle;\n    }\n\n    .dataframe tbody tr th {\n        vertical-align: top;\n    }\n\n    .dataframe thead th {\n        text-align: right;\n    }\n</style>\n<table border=\"1\" class=\"dataframe\">\n  <thead>\n    <tr style=\"text-align: right;\">\n      <th></th>\n      <th>A</th>\n      <th>B</th>\n      <th>C</th>\n      <th>D</th>\n    </tr>\n  </thead>\n  <tbody>\n    <tr>\n      <td>2016-01-01</td>\n      <td>-0.590942</td>\n      <td>1.590224</td>\n      <td>0.202867</td>\n      <td>0.666715</td>\n    </tr>\n    <tr>\n      <td>2016-01-02</td>\n      <td>-1.687778</td>\n      <td>0.348293</td>\n      <td>0.133713</td>\n      <td>-1.449037</td>\n    </tr>\n    <tr>\n      <td>2016-01-03</td>\n      <td>0.990828</td>\n      <td>0.203789</td>\n      <td>-0.569202</td>\n      <td>0.726566</td>\n    </tr>\n    <tr>\n      <td>2016-01-04</td>\n      <td>-0.104094</td>\n      <td>0.978840</td>\n      <td>-0.772355</td>\n      <td>1.892260</td>\n    </tr>\n    <tr>\n      <td>2016-01-05</td>\n      <td>-0.018626</td>\n      <td>-1.540238</td>\n      <td>-1.637691</td>\n      <td>-1.187670</td>\n    </tr>\n    <tr>\n      <td>2016-01-06</td>\n      <td>-0.554504</td>\n      <td>0.528030</td>\n      <td>0.515184</td>\n      <td>-2.294399</td>\n    </tr>\n  </tbody>\n</table>\n</div>",
      "text/plain": "                   A         B         C         D\n2016-01-01 -0.590942  1.590224  0.202867  0.666715\n2016-01-02 -1.687778  0.348293  0.133713 -1.449037\n2016-01-03  0.990828  0.203789 -0.569202  0.726566\n2016-01-04 -0.104094  0.978840 -0.772355  1.892260\n2016-01-05 -0.018626 -1.540238 -1.637691 -1.187670\n2016-01-06 -0.554504  0.528030  0.515184 -2.294399"
     },
     "execution_count": 19,
     "metadata": {},
     "output_type": "execute_result"
    }
   ],
   "source": [
    "df"
   ]
  },
  {
   "cell_type": "code",
   "execution_count": 20,
   "metadata": {},
   "outputs": [],
   "source": [
    "df=df[list('ABCD')]"
   ]
  },
  {
   "cell_type": "code",
   "execution_count": 21,
   "metadata": {},
   "outputs": [
    {
     "data": {
      "text/html": "<div>\n<style scoped>\n    .dataframe tbody tr th:only-of-type {\n        vertical-align: middle;\n    }\n\n    .dataframe tbody tr th {\n        vertical-align: top;\n    }\n\n    .dataframe thead th {\n        text-align: right;\n    }\n</style>\n<table border=\"1\" class=\"dataframe\">\n  <thead>\n    <tr style=\"text-align: right;\">\n      <th></th>\n      <th>A</th>\n      <th>B</th>\n      <th>C</th>\n      <th>D</th>\n      <th>0</th>\n    </tr>\n  </thead>\n  <tbody>\n    <tr>\n      <td>2016-01-01</td>\n      <td>-0.590942</td>\n      <td>1.590224</td>\n      <td>0.202867</td>\n      <td>0.666715</td>\n      <td>NaN</td>\n    </tr>\n    <tr>\n      <td>2016-01-02</td>\n      <td>-1.687778</td>\n      <td>0.348293</td>\n      <td>0.133713</td>\n      <td>-1.449037</td>\n      <td>1.0</td>\n    </tr>\n    <tr>\n      <td>2016-01-03</td>\n      <td>0.990828</td>\n      <td>0.203789</td>\n      <td>-0.569202</td>\n      <td>0.726566</td>\n      <td>2.0</td>\n    </tr>\n    <tr>\n      <td>2016-01-04</td>\n      <td>-0.104094</td>\n      <td>0.978840</td>\n      <td>-0.772355</td>\n      <td>1.892260</td>\n      <td>3.0</td>\n    </tr>\n    <tr>\n      <td>2016-01-05</td>\n      <td>-0.018626</td>\n      <td>-1.540238</td>\n      <td>-1.637691</td>\n      <td>-1.187670</td>\n      <td>4.0</td>\n    </tr>\n    <tr>\n      <td>2016-01-06</td>\n      <td>-0.554504</td>\n      <td>0.528030</td>\n      <td>0.515184</td>\n      <td>-2.294399</td>\n      <td>5.0</td>\n    </tr>\n    <tr>\n      <td>2016-01-07</td>\n      <td>NaN</td>\n      <td>NaN</td>\n      <td>NaN</td>\n      <td>NaN</td>\n      <td>6.0</td>\n    </tr>\n  </tbody>\n</table>\n</div>",
      "text/plain": "                   A         B         C         D    0\n2016-01-01 -0.590942  1.590224  0.202867  0.666715  NaN\n2016-01-02 -1.687778  0.348293  0.133713 -1.449037  1.0\n2016-01-03  0.990828  0.203789 -0.569202  0.726566  2.0\n2016-01-04 -0.104094  0.978840 -0.772355  1.892260  3.0\n2016-01-05 -0.018626 -1.540238 -1.637691 -1.187670  4.0\n2016-01-06 -0.554504  0.528030  0.515184 -2.294399  5.0\n2016-01-07       NaN       NaN       NaN       NaN  6.0"
     },
     "execution_count": 21,
     "metadata": {},
     "output_type": "execute_result"
    }
   ],
   "source": [
    "pd.concat([df, s1], axis=1)"
   ]
  },
  {
   "cell_type": "code",
   "execution_count": 22,
   "metadata": {},
   "outputs": [],
   "source": [
    "df1=pd.DataFrame({'A':[1,2,3], 'B':[4,5,6], 'C':[7,8,9]}, index=pd.date_range('20160110', periods=3))"
   ]
  },
  {
   "cell_type": "code",
   "execution_count": 23,
   "metadata": {},
   "outputs": [
    {
     "data": {
      "text/html": "<div>\n<style scoped>\n    .dataframe tbody tr th:only-of-type {\n        vertical-align: middle;\n    }\n\n    .dataframe tbody tr th {\n        vertical-align: top;\n    }\n\n    .dataframe thead th {\n        text-align: right;\n    }\n</style>\n<table border=\"1\" class=\"dataframe\">\n  <thead>\n    <tr style=\"text-align: right;\">\n      <th></th>\n      <th>A</th>\n      <th>B</th>\n      <th>C</th>\n    </tr>\n  </thead>\n  <tbody>\n    <tr>\n      <td>2016-01-10</td>\n      <td>1</td>\n      <td>4</td>\n      <td>7</td>\n    </tr>\n    <tr>\n      <td>2016-01-11</td>\n      <td>2</td>\n      <td>5</td>\n      <td>8</td>\n    </tr>\n    <tr>\n      <td>2016-01-12</td>\n      <td>3</td>\n      <td>6</td>\n      <td>9</td>\n    </tr>\n  </tbody>\n</table>\n</div>",
      "text/plain": "            A  B  C\n2016-01-10  1  4  7\n2016-01-11  2  5  8\n2016-01-12  3  6  9"
     },
     "execution_count": 23,
     "metadata": {},
     "output_type": "execute_result"
    }
   ],
   "source": [
    "df1"
   ]
  },
  {
   "cell_type": "code",
   "execution_count": 24,
   "metadata": {},
   "outputs": [
    {
     "data": {
      "text/html": "<div>\n<style scoped>\n    .dataframe tbody tr th:only-of-type {\n        vertical-align: middle;\n    }\n\n    .dataframe tbody tr th {\n        vertical-align: top;\n    }\n\n    .dataframe thead th {\n        text-align: right;\n    }\n</style>\n<table border=\"1\" class=\"dataframe\">\n  <thead>\n    <tr style=\"text-align: right;\">\n      <th></th>\n      <th>A</th>\n      <th>B</th>\n      <th>C</th>\n      <th>D</th>\n    </tr>\n  </thead>\n  <tbody>\n    <tr>\n      <td>2016-01-01</td>\n      <td>-0.590942</td>\n      <td>1.590224</td>\n      <td>0.202867</td>\n      <td>0.666715</td>\n    </tr>\n    <tr>\n      <td>2016-01-02</td>\n      <td>-1.687778</td>\n      <td>0.348293</td>\n      <td>0.133713</td>\n      <td>-1.449037</td>\n    </tr>\n    <tr>\n      <td>2016-01-03</td>\n      <td>0.990828</td>\n      <td>0.203789</td>\n      <td>-0.569202</td>\n      <td>0.726566</td>\n    </tr>\n    <tr>\n      <td>2016-01-04</td>\n      <td>-0.104094</td>\n      <td>0.978840</td>\n      <td>-0.772355</td>\n      <td>1.892260</td>\n    </tr>\n    <tr>\n      <td>2016-01-05</td>\n      <td>-0.018626</td>\n      <td>-1.540238</td>\n      <td>-1.637691</td>\n      <td>-1.187670</td>\n    </tr>\n    <tr>\n      <td>2016-01-06</td>\n      <td>-0.554504</td>\n      <td>0.528030</td>\n      <td>0.515184</td>\n      <td>-2.294399</td>\n    </tr>\n    <tr>\n      <td>2016-01-10</td>\n      <td>1.000000</td>\n      <td>4.000000</td>\n      <td>7.000000</td>\n      <td>NaN</td>\n    </tr>\n    <tr>\n      <td>2016-01-11</td>\n      <td>2.000000</td>\n      <td>5.000000</td>\n      <td>8.000000</td>\n      <td>NaN</td>\n    </tr>\n    <tr>\n      <td>2016-01-12</td>\n      <td>3.000000</td>\n      <td>6.000000</td>\n      <td>9.000000</td>\n      <td>NaN</td>\n    </tr>\n  </tbody>\n</table>\n</div>",
      "text/plain": "                   A         B         C         D\n2016-01-01 -0.590942  1.590224  0.202867  0.666715\n2016-01-02 -1.687778  0.348293  0.133713 -1.449037\n2016-01-03  0.990828  0.203789 -0.569202  0.726566\n2016-01-04 -0.104094  0.978840 -0.772355  1.892260\n2016-01-05 -0.018626 -1.540238 -1.637691 -1.187670\n2016-01-06 -0.554504  0.528030  0.515184 -2.294399\n2016-01-10  1.000000  4.000000  7.000000       NaN\n2016-01-11  2.000000  5.000000  8.000000       NaN\n2016-01-12  3.000000  6.000000  9.000000       NaN"
     },
     "execution_count": 24,
     "metadata": {},
     "output_type": "execute_result"
    }
   ],
   "source": [
    "df.append(df1)"
   ]
  },
  {
   "cell_type": "code",
   "execution_count": 25,
   "metadata": {},
   "outputs": [
    {
     "data": {
      "text/html": "<div>\n<style scoped>\n    .dataframe tbody tr th:only-of-type {\n        vertical-align: middle;\n    }\n\n    .dataframe tbody tr th {\n        vertical-align: top;\n    }\n\n    .dataframe thead th {\n        text-align: right;\n    }\n</style>\n<table border=\"1\" class=\"dataframe\">\n  <thead>\n    <tr style=\"text-align: right;\">\n      <th></th>\n      <th>A</th>\n      <th>B</th>\n      <th>C</th>\n    </tr>\n  </thead>\n  <tbody>\n    <tr>\n      <td>2016-01-01</td>\n      <td>-0.590942</td>\n      <td>1.590224</td>\n      <td>0.202867</td>\n    </tr>\n    <tr>\n      <td>2016-01-02</td>\n      <td>-1.687778</td>\n      <td>0.348293</td>\n      <td>0.133713</td>\n    </tr>\n    <tr>\n      <td>2016-01-03</td>\n      <td>0.990828</td>\n      <td>0.203789</td>\n      <td>-0.569202</td>\n    </tr>\n    <tr>\n      <td>2016-01-04</td>\n      <td>-0.104094</td>\n      <td>0.978840</td>\n      <td>-0.772355</td>\n    </tr>\n    <tr>\n      <td>2016-01-05</td>\n      <td>-0.018626</td>\n      <td>-1.540238</td>\n      <td>-1.637691</td>\n    </tr>\n    <tr>\n      <td>2016-01-06</td>\n      <td>-0.554504</td>\n      <td>0.528030</td>\n      <td>0.515184</td>\n    </tr>\n    <tr>\n      <td>2016-01-10</td>\n      <td>1.000000</td>\n      <td>4.000000</td>\n      <td>7.000000</td>\n    </tr>\n    <tr>\n      <td>2016-01-11</td>\n      <td>2.000000</td>\n      <td>5.000000</td>\n      <td>8.000000</td>\n    </tr>\n    <tr>\n      <td>2016-01-12</td>\n      <td>3.000000</td>\n      <td>6.000000</td>\n      <td>9.000000</td>\n    </tr>\n  </tbody>\n</table>\n</div>",
      "text/plain": "                   A         B         C\n2016-01-01 -0.590942  1.590224  0.202867\n2016-01-02 -1.687778  0.348293  0.133713\n2016-01-03  0.990828  0.203789 -0.569202\n2016-01-04 -0.104094  0.978840 -0.772355\n2016-01-05 -0.018626 -1.540238 -1.637691\n2016-01-06 -0.554504  0.528030  0.515184\n2016-01-10  1.000000  4.000000  7.000000\n2016-01-11  2.000000  5.000000  8.000000\n2016-01-12  3.000000  6.000000  9.000000"
     },
     "execution_count": 25,
     "metadata": {},
     "output_type": "execute_result"
    }
   ],
   "source": [
    "pd.concat([df, df1], join='inner')"
   ]
  },
  {
   "cell_type": "code",
   "execution_count": 27,
   "metadata": {},
   "outputs": [
    {
     "data": {
      "text/html": "<div>\n<style scoped>\n    .dataframe tbody tr th:only-of-type {\n        vertical-align: middle;\n    }\n\n    .dataframe tbody tr th {\n        vertical-align: top;\n    }\n\n    .dataframe thead th {\n        text-align: right;\n    }\n</style>\n<table border=\"1\" class=\"dataframe\">\n  <thead>\n    <tr style=\"text-align: right;\">\n      <th></th>\n      <th>A</th>\n      <th>B</th>\n      <th>C</th>\n      <th>D</th>\n    </tr>\n  </thead>\n  <tbody>\n    <tr>\n      <td>2016-01-01</td>\n      <td>-0.590942</td>\n      <td>1.590224</td>\n      <td>0.202867</td>\n      <td>0.666715</td>\n    </tr>\n    <tr>\n      <td>2016-01-04</td>\n      <td>-0.104094</td>\n      <td>0.978840</td>\n      <td>-0.772355</td>\n      <td>1.892260</td>\n    </tr>\n    <tr>\n      <td>2016-01-05</td>\n      <td>-0.018626</td>\n      <td>-1.540238</td>\n      <td>-1.637691</td>\n      <td>-1.187670</td>\n    </tr>\n    <tr>\n      <td>2016-01-06</td>\n      <td>-0.554504</td>\n      <td>0.528030</td>\n      <td>0.515184</td>\n      <td>-2.294399</td>\n    </tr>\n  </tbody>\n</table>\n</div>",
      "text/plain": "                   A         B         C         D\n2016-01-01 -0.590942  1.590224  0.202867  0.666715\n2016-01-04 -0.104094  0.978840 -0.772355  1.892260\n2016-01-05 -0.018626 -1.540238 -1.637691 -1.187670\n2016-01-06 -0.554504  0.528030  0.515184 -2.294399"
     },
     "execution_count": 27,
     "metadata": {},
     "output_type": "execute_result"
    }
   ],
   "source": [
    "df.drop(dates[1:3])"
   ]
  },
  {
   "cell_type": "code",
   "execution_count": 28,
   "metadata": {},
   "outputs": [
    {
     "data": {
      "text/html": "<div>\n<style scoped>\n    .dataframe tbody tr th:only-of-type {\n        vertical-align: middle;\n    }\n\n    .dataframe tbody tr th {\n        vertical-align: top;\n    }\n\n    .dataframe thead th {\n        text-align: right;\n    }\n</style>\n<table border=\"1\" class=\"dataframe\">\n  <thead>\n    <tr style=\"text-align: right;\">\n      <th></th>\n      <th>B</th>\n      <th>C</th>\n      <th>D</th>\n    </tr>\n  </thead>\n  <tbody>\n    <tr>\n      <td>2016-01-01</td>\n      <td>1.590224</td>\n      <td>0.202867</td>\n      <td>0.666715</td>\n    </tr>\n    <tr>\n      <td>2016-01-02</td>\n      <td>0.348293</td>\n      <td>0.133713</td>\n      <td>-1.449037</td>\n    </tr>\n    <tr>\n      <td>2016-01-03</td>\n      <td>0.203789</td>\n      <td>-0.569202</td>\n      <td>0.726566</td>\n    </tr>\n    <tr>\n      <td>2016-01-04</td>\n      <td>0.978840</td>\n      <td>-0.772355</td>\n      <td>1.892260</td>\n    </tr>\n    <tr>\n      <td>2016-01-05</td>\n      <td>-1.540238</td>\n      <td>-1.637691</td>\n      <td>-1.187670</td>\n    </tr>\n    <tr>\n      <td>2016-01-06</td>\n      <td>0.528030</td>\n      <td>0.515184</td>\n      <td>-2.294399</td>\n    </tr>\n  </tbody>\n</table>\n</div>",
      "text/plain": "                   B         C         D\n2016-01-01  1.590224  0.202867  0.666715\n2016-01-02  0.348293  0.133713 -1.449037\n2016-01-03  0.203789 -0.569202  0.726566\n2016-01-04  0.978840 -0.772355  1.892260\n2016-01-05 -1.540238 -1.637691 -1.187670\n2016-01-06  0.528030  0.515184 -2.294399"
     },
     "execution_count": 28,
     "metadata": {},
     "output_type": "execute_result"
    }
   ],
   "source": [
    "df.drop('A', axis=1)"
   ]
  },
  {
   "cell_type": "code",
   "execution_count": 29,
   "metadata": {},
   "outputs": [],
   "source": [
    "del df['A']"
   ]
  },
  {
   "cell_type": "code",
   "execution_count": 30,
   "metadata": {},
   "outputs": [
    {
     "data": {
      "text/html": "<div>\n<style scoped>\n    .dataframe tbody tr th:only-of-type {\n        vertical-align: middle;\n    }\n\n    .dataframe tbody tr th {\n        vertical-align: top;\n    }\n\n    .dataframe thead th {\n        text-align: right;\n    }\n</style>\n<table border=\"1\" class=\"dataframe\">\n  <thead>\n    <tr style=\"text-align: right;\">\n      <th></th>\n      <th>B</th>\n      <th>C</th>\n      <th>D</th>\n    </tr>\n  </thead>\n  <tbody>\n    <tr>\n      <td>2016-01-01</td>\n      <td>1.590224</td>\n      <td>0.202867</td>\n      <td>0.666715</td>\n    </tr>\n    <tr>\n      <td>2016-01-02</td>\n      <td>0.348293</td>\n      <td>0.133713</td>\n      <td>-1.449037</td>\n    </tr>\n    <tr>\n      <td>2016-01-03</td>\n      <td>0.203789</td>\n      <td>-0.569202</td>\n      <td>0.726566</td>\n    </tr>\n    <tr>\n      <td>2016-01-04</td>\n      <td>0.978840</td>\n      <td>-0.772355</td>\n      <td>1.892260</td>\n    </tr>\n    <tr>\n      <td>2016-01-05</td>\n      <td>-1.540238</td>\n      <td>-1.637691</td>\n      <td>-1.187670</td>\n    </tr>\n    <tr>\n      <td>2016-01-06</td>\n      <td>0.528030</td>\n      <td>0.515184</td>\n      <td>-2.294399</td>\n    </tr>\n  </tbody>\n</table>\n</div>",
      "text/plain": "                   B         C         D\n2016-01-01  1.590224  0.202867  0.666715\n2016-01-02  0.348293  0.133713 -1.449037\n2016-01-03  0.203789 -0.569202  0.726566\n2016-01-04  0.978840 -0.772355  1.892260\n2016-01-05 -1.540238 -1.637691 -1.187670\n2016-01-06  0.528030  0.515184 -2.294399"
     },
     "execution_count": 30,
     "metadata": {},
     "output_type": "execute_result"
    }
   ],
   "source": [
    "df"
   ]
  },
  {
   "cell_type": "code",
   "execution_count": 31,
   "metadata": {},
   "outputs": [],
   "source": [
    "df.loc[dates[2], 'C'] = 0"
   ]
  },
  {
   "cell_type": "code",
   "execution_count": null,
   "metadata": {},
   "outputs": [],
   "source": []
  }
 ]
}