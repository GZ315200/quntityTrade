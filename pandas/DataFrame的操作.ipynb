{
 "nbformat": 4,
 "nbformat_minor": 2,
 "metadata": {
  "language_info": {
   "name": "python",
   "codemirror_mode": {
    "name": "ipython",
    "version": 3
   },
   "version": "3.7.4-final"
  },
  "orig_nbformat": 2,
  "file_extension": ".py",
  "mimetype": "text/x-python",
  "name": "python",
  "npconvert_exporter": "python",
  "pygments_lexer": "ipython3",
  "version": 3,
  "kernelspec": {
   "name": "python37464bitbaseconda66695521631d4bbc9bdbdac638dcafef",
   "display_name": "Python 3.7.4 64-bit ('base': conda)"
  }
 },
 "cells": [
  {
   "cell_type": "code",
   "execution_count": 2,
   "metadata": {},
   "outputs": [],
   "source": [
    "import pandas as pd\n",
    "import numpy as np"
   ]
  },
  {
   "cell_type": "code",
   "execution_count": 3,
   "metadata": {},
   "outputs": [],
   "source": [
    "dates = ['2016-01-01','2016-01-02','2016-01-03','2016-01-04',\n",
    "'2016-01-05','2016-01-06']"
   ]
  },
  {
   "cell_type": "code",
   "execution_count": 4,
   "metadata": {},
   "outputs": [],
   "source": [
    "dates = pd.to_datetime(dates)"
   ]
  },
  {
   "cell_type": "code",
   "execution_count": 5,
   "metadata": {},
   "outputs": [],
   "source": [
    "df = pd.DataFrame(np.random.randn(6,4), index=dates, columns=list('ABCD'))"
   ]
  },
  {
   "cell_type": "code",
   "execution_count": 6,
   "metadata": {},
   "outputs": [
    {
     "data": {
      "text/html": "<div>\n<style scoped>\n    .dataframe tbody tr th:only-of-type {\n        vertical-align: middle;\n    }\n\n    .dataframe tbody tr th {\n        vertical-align: top;\n    }\n\n    .dataframe thead th {\n        text-align: right;\n    }\n</style>\n<table border=\"1\" class=\"dataframe\">\n  <thead>\n    <tr style=\"text-align: right;\">\n      <th></th>\n      <th>A</th>\n      <th>B</th>\n      <th>C</th>\n      <th>D</th>\n    </tr>\n  </thead>\n  <tbody>\n    <tr>\n      <td>2016-01-01</td>\n      <td>-0.737599</td>\n      <td>-0.312377</td>\n      <td>-0.839038</td>\n      <td>-0.721511</td>\n    </tr>\n    <tr>\n      <td>2016-01-02</td>\n      <td>-1.509901</td>\n      <td>-0.703198</td>\n      <td>0.606135</td>\n      <td>2.212736</td>\n    </tr>\n    <tr>\n      <td>2016-01-03</td>\n      <td>-0.567123</td>\n      <td>1.678127</td>\n      <td>-2.346891</td>\n      <td>1.222404</td>\n    </tr>\n    <tr>\n      <td>2016-01-04</td>\n      <td>0.182049</td>\n      <td>-0.343537</td>\n      <td>-0.029914</td>\n      <td>-1.117301</td>\n    </tr>\n    <tr>\n      <td>2016-01-05</td>\n      <td>-0.497160</td>\n      <td>0.292088</td>\n      <td>0.769916</td>\n      <td>0.454676</td>\n    </tr>\n    <tr>\n      <td>2016-01-06</td>\n      <td>-0.224989</td>\n      <td>0.195870</td>\n      <td>-0.364358</td>\n      <td>-0.442326</td>\n    </tr>\n  </tbody>\n</table>\n</div>",
      "text/plain": "                   A         B         C         D\n2016-01-01 -0.737599 -0.312377 -0.839038 -0.721511\n2016-01-02 -1.509901 -0.703198  0.606135  2.212736\n2016-01-03 -0.567123  1.678127 -2.346891  1.222404\n2016-01-04  0.182049 -0.343537 -0.029914 -1.117301\n2016-01-05 -0.497160  0.292088  0.769916  0.454676\n2016-01-06 -0.224989  0.195870 -0.364358 -0.442326"
     },
     "execution_count": 6,
     "metadata": {},
     "output_type": "execute_result"
    }
   ],
   "source": [
    "df"
   ]
  },
  {
   "cell_type": "code",
   "execution_count": 7,
   "metadata": {},
   "outputs": [
    {
     "data": {
      "text/html": "<div>\n<style scoped>\n    .dataframe tbody tr th:only-of-type {\n        vertical-align: middle;\n    }\n\n    .dataframe tbody tr th {\n        vertical-align: top;\n    }\n\n    .dataframe thead th {\n        text-align: right;\n    }\n</style>\n<table border=\"1\" class=\"dataframe\">\n  <thead>\n    <tr style=\"text-align: right;\">\n      <th></th>\n      <th>2016-01-01</th>\n      <th>2016-01-02</th>\n      <th>2016-01-03</th>\n      <th>2016-01-04</th>\n      <th>2016-01-05</th>\n      <th>2016-01-06</th>\n    </tr>\n  </thead>\n  <tbody>\n    <tr>\n      <td>A</td>\n      <td>-0.737599</td>\n      <td>-1.509901</td>\n      <td>-0.567123</td>\n      <td>0.182049</td>\n      <td>-0.497160</td>\n      <td>-0.224989</td>\n    </tr>\n    <tr>\n      <td>B</td>\n      <td>-0.312377</td>\n      <td>-0.703198</td>\n      <td>1.678127</td>\n      <td>-0.343537</td>\n      <td>0.292088</td>\n      <td>0.195870</td>\n    </tr>\n    <tr>\n      <td>C</td>\n      <td>-0.839038</td>\n      <td>0.606135</td>\n      <td>-2.346891</td>\n      <td>-0.029914</td>\n      <td>0.769916</td>\n      <td>-0.364358</td>\n    </tr>\n    <tr>\n      <td>D</td>\n      <td>-0.721511</td>\n      <td>2.212736</td>\n      <td>1.222404</td>\n      <td>-1.117301</td>\n      <td>0.454676</td>\n      <td>-0.442326</td>\n    </tr>\n  </tbody>\n</table>\n</div>",
      "text/plain": "   2016-01-01  2016-01-02  2016-01-03  2016-01-04  2016-01-05  2016-01-06\nA   -0.737599   -1.509901   -0.567123    0.182049   -0.497160   -0.224989\nB   -0.312377   -0.703198    1.678127   -0.343537    0.292088    0.195870\nC   -0.839038    0.606135   -2.346891   -0.029914    0.769916   -0.364358\nD   -0.721511    2.212736    1.222404   -1.117301    0.454676   -0.442326"
     },
     "execution_count": 7,
     "metadata": {},
     "output_type": "execute_result"
    }
   ],
   "source": [
    "df.T"
   ]
  },
  {
   "cell_type": "code",
   "execution_count": 8,
   "metadata": {},
   "outputs": [
    {
     "data": {
      "text/html": "<div>\n<style scoped>\n    .dataframe tbody tr th:only-of-type {\n        vertical-align: middle;\n    }\n\n    .dataframe tbody tr th {\n        vertical-align: top;\n    }\n\n    .dataframe thead th {\n        text-align: right;\n    }\n</style>\n<table border=\"1\" class=\"dataframe\">\n  <thead>\n    <tr style=\"text-align: right;\">\n      <th></th>\n      <th>A</th>\n      <th>B</th>\n      <th>C</th>\n      <th>D</th>\n    </tr>\n  </thead>\n  <tbody>\n    <tr>\n      <td>2016-01-02</td>\n      <td>-1.509901</td>\n      <td>-0.703198</td>\n      <td>0.606135</td>\n      <td>2.212736</td>\n    </tr>\n    <tr>\n      <td>2016-01-01</td>\n      <td>-0.737599</td>\n      <td>-0.312377</td>\n      <td>-0.839038</td>\n      <td>-0.721511</td>\n    </tr>\n    <tr>\n      <td>2016-01-03</td>\n      <td>-0.567123</td>\n      <td>1.678127</td>\n      <td>-2.346891</td>\n      <td>1.222404</td>\n    </tr>\n    <tr>\n      <td>2016-01-05</td>\n      <td>-0.497160</td>\n      <td>0.292088</td>\n      <td>0.769916</td>\n      <td>0.454676</td>\n    </tr>\n    <tr>\n      <td>2016-01-06</td>\n      <td>-0.224989</td>\n      <td>0.195870</td>\n      <td>-0.364358</td>\n      <td>-0.442326</td>\n    </tr>\n    <tr>\n      <td>2016-01-04</td>\n      <td>0.182049</td>\n      <td>-0.343537</td>\n      <td>-0.029914</td>\n      <td>-1.117301</td>\n    </tr>\n  </tbody>\n</table>\n</div>",
      "text/plain": "                   A         B         C         D\n2016-01-02 -1.509901 -0.703198  0.606135  2.212736\n2016-01-01 -0.737599 -0.312377 -0.839038 -0.721511\n2016-01-03 -0.567123  1.678127 -2.346891  1.222404\n2016-01-05 -0.497160  0.292088  0.769916  0.454676\n2016-01-06 -0.224989  0.195870 -0.364358 -0.442326\n2016-01-04  0.182049 -0.343537 -0.029914 -1.117301"
     },
     "execution_count": 8,
     "metadata": {},
     "output_type": "execute_result"
    }
   ],
   "source": [
    "df.sort_values(by=['A'], axis=0, ascending=True)"
   ]
  },
  {
   "cell_type": "code",
   "execution_count": 9,
   "metadata": {},
   "outputs": [
    {
     "data": {
      "text/html": "<div>\n<style scoped>\n    .dataframe tbody tr th:only-of-type {\n        vertical-align: middle;\n    }\n\n    .dataframe tbody tr th {\n        vertical-align: top;\n    }\n\n    .dataframe thead th {\n        text-align: right;\n    }\n</style>\n<table border=\"1\" class=\"dataframe\">\n  <thead>\n    <tr style=\"text-align: right;\">\n      <th></th>\n      <th>A</th>\n      <th>B</th>\n      <th>C</th>\n      <th>D</th>\n    </tr>\n  </thead>\n  <tbody>\n    <tr>\n      <td>2016-01-06</td>\n      <td>-0.224989</td>\n      <td>0.195870</td>\n      <td>-0.364358</td>\n      <td>-0.442326</td>\n    </tr>\n    <tr>\n      <td>2016-01-05</td>\n      <td>-0.497160</td>\n      <td>0.292088</td>\n      <td>0.769916</td>\n      <td>0.454676</td>\n    </tr>\n    <tr>\n      <td>2016-01-04</td>\n      <td>0.182049</td>\n      <td>-0.343537</td>\n      <td>-0.029914</td>\n      <td>-1.117301</td>\n    </tr>\n    <tr>\n      <td>2016-01-03</td>\n      <td>-0.567123</td>\n      <td>1.678127</td>\n      <td>-2.346891</td>\n      <td>1.222404</td>\n    </tr>\n    <tr>\n      <td>2016-01-02</td>\n      <td>-1.509901</td>\n      <td>-0.703198</td>\n      <td>0.606135</td>\n      <td>2.212736</td>\n    </tr>\n    <tr>\n      <td>2016-01-01</td>\n      <td>-0.737599</td>\n      <td>-0.312377</td>\n      <td>-0.839038</td>\n      <td>-0.721511</td>\n    </tr>\n  </tbody>\n</table>\n</div>",
      "text/plain": "                   A         B         C         D\n2016-01-06 -0.224989  0.195870 -0.364358 -0.442326\n2016-01-05 -0.497160  0.292088  0.769916  0.454676\n2016-01-04  0.182049 -0.343537 -0.029914 -1.117301\n2016-01-03 -0.567123  1.678127 -2.346891  1.222404\n2016-01-02 -1.509901 -0.703198  0.606135  2.212736\n2016-01-01 -0.737599 -0.312377 -0.839038 -0.721511"
     },
     "execution_count": 9,
     "metadata": {},
     "output_type": "execute_result"
    }
   ],
   "source": [
    "df.sort_index(ascending=False)"
   ]
  },
  {
   "cell_type": "code",
   "execution_count": 10,
   "metadata": {},
   "outputs": [
    {
     "data": {
      "text/html": "<div>\n<style scoped>\n    .dataframe tbody tr th:only-of-type {\n        vertical-align: middle;\n    }\n\n    .dataframe tbody tr th {\n        vertical-align: top;\n    }\n\n    .dataframe thead th {\n        text-align: right;\n    }\n</style>\n<table border=\"1\" class=\"dataframe\">\n  <thead>\n    <tr style=\"text-align: right;\">\n      <th></th>\n      <th>A</th>\n      <th>B</th>\n      <th>C</th>\n      <th>D</th>\n    </tr>\n  </thead>\n  <tbody>\n    <tr>\n      <td>2016-01-01</td>\n      <td>-0.737599</td>\n      <td>-0.312377</td>\n      <td>-0.839038</td>\n      <td>-0.721511</td>\n    </tr>\n    <tr>\n      <td>2016-01-02</td>\n      <td>-1.509901</td>\n      <td>-0.703198</td>\n      <td>0.606135</td>\n      <td>2.212736</td>\n    </tr>\n    <tr>\n      <td>2016-01-03</td>\n      <td>-0.567123</td>\n      <td>1.678127</td>\n      <td>-2.346891</td>\n      <td>1.222404</td>\n    </tr>\n    <tr>\n      <td>2016-01-04</td>\n      <td>0.182049</td>\n      <td>-0.343537</td>\n      <td>-0.029914</td>\n      <td>-1.117301</td>\n    </tr>\n    <tr>\n      <td>2016-01-05</td>\n      <td>-0.497160</td>\n      <td>0.292088</td>\n      <td>0.769916</td>\n      <td>0.454676</td>\n    </tr>\n    <tr>\n      <td>2016-01-06</td>\n      <td>-0.224989</td>\n      <td>0.195870</td>\n      <td>-0.364358</td>\n      <td>-0.442326</td>\n    </tr>\n  </tbody>\n</table>\n</div>",
      "text/plain": "                   A         B         C         D\n2016-01-01 -0.737599 -0.312377 -0.839038 -0.721511\n2016-01-02 -1.509901 -0.703198  0.606135  2.212736\n2016-01-03 -0.567123  1.678127 -2.346891  1.222404\n2016-01-04  0.182049 -0.343537 -0.029914 -1.117301\n2016-01-05 -0.497160  0.292088  0.769916  0.454676\n2016-01-06 -0.224989  0.195870 -0.364358 -0.442326"
     },
     "execution_count": 10,
     "metadata": {},
     "output_type": "execute_result"
    }
   ],
   "source": [
    "df.sort_index(ascending=True)"
   ]
  },
  {
   "cell_type": "code",
   "execution_count": 11,
   "metadata": {},
   "outputs": [
    {
     "data": {
      "text/html": "<div>\n<style scoped>\n    .dataframe tbody tr th:only-of-type {\n        vertical-align: middle;\n    }\n\n    .dataframe tbody tr th {\n        vertical-align: top;\n    }\n\n    .dataframe thead th {\n        text-align: right;\n    }\n</style>\n<table border=\"1\" class=\"dataframe\">\n  <thead>\n    <tr style=\"text-align: right;\">\n      <th></th>\n      <th>A</th>\n      <th>B</th>\n      <th>C</th>\n      <th>D</th>\n    </tr>\n  </thead>\n  <tbody>\n    <tr>\n      <td>2016-01-02</td>\n      <td>-1.509901</td>\n      <td>-0.703198</td>\n      <td>0.606135</td>\n      <td>2.212736</td>\n    </tr>\n    <tr>\n      <td>2016-01-04</td>\n      <td>0.182049</td>\n      <td>-0.343537</td>\n      <td>-0.029914</td>\n      <td>-1.117301</td>\n    </tr>\n    <tr>\n      <td>2016-01-01</td>\n      <td>-0.737599</td>\n      <td>-0.312377</td>\n      <td>-0.839038</td>\n      <td>-0.721511</td>\n    </tr>\n    <tr>\n      <td>2016-01-06</td>\n      <td>-0.224989</td>\n      <td>0.195870</td>\n      <td>-0.364358</td>\n      <td>-0.442326</td>\n    </tr>\n    <tr>\n      <td>2016-01-05</td>\n      <td>-0.497160</td>\n      <td>0.292088</td>\n      <td>0.769916</td>\n      <td>0.454676</td>\n    </tr>\n    <tr>\n      <td>2016-01-03</td>\n      <td>-0.567123</td>\n      <td>1.678127</td>\n      <td>-2.346891</td>\n      <td>1.222404</td>\n    </tr>\n  </tbody>\n</table>\n</div>",
      "text/plain": "                   A         B         C         D\n2016-01-02 -1.509901 -0.703198  0.606135  2.212736\n2016-01-04  0.182049 -0.343537 -0.029914 -1.117301\n2016-01-01 -0.737599 -0.312377 -0.839038 -0.721511\n2016-01-06 -0.224989  0.195870 -0.364358 -0.442326\n2016-01-05 -0.497160  0.292088  0.769916  0.454676\n2016-01-03 -0.567123  1.678127 -2.346891  1.222404"
     },
     "execution_count": 11,
     "metadata": {},
     "output_type": "execute_result"
    }
   ],
   "source": [
    "df.sort_values(by=['B'], ascending=True)"
   ]
  },
  {
   "cell_type": "code",
   "execution_count": 12,
   "metadata": {},
   "outputs": [
    {
     "data": {
      "text/html": "<div>\n<style scoped>\n    .dataframe tbody tr th:only-of-type {\n        vertical-align: middle;\n    }\n\n    .dataframe tbody tr th {\n        vertical-align: top;\n    }\n\n    .dataframe thead th {\n        text-align: right;\n    }\n</style>\n<table border=\"1\" class=\"dataframe\">\n  <thead>\n    <tr style=\"text-align: right;\">\n      <th></th>\n      <th>A</th>\n      <th>B</th>\n      <th>C</th>\n      <th>D</th>\n    </tr>\n  </thead>\n  <tbody>\n    <tr>\n      <td>2016-01-01</td>\n      <td>2.0</td>\n      <td>3.0</td>\n      <td>2.0</td>\n      <td>2.0</td>\n    </tr>\n    <tr>\n      <td>2016-01-02</td>\n      <td>1.0</td>\n      <td>1.0</td>\n      <td>5.0</td>\n      <td>6.0</td>\n    </tr>\n    <tr>\n      <td>2016-01-03</td>\n      <td>3.0</td>\n      <td>6.0</td>\n      <td>1.0</td>\n      <td>5.0</td>\n    </tr>\n    <tr>\n      <td>2016-01-04</td>\n      <td>6.0</td>\n      <td>2.0</td>\n      <td>4.0</td>\n      <td>1.0</td>\n    </tr>\n    <tr>\n      <td>2016-01-05</td>\n      <td>4.0</td>\n      <td>5.0</td>\n      <td>6.0</td>\n      <td>4.0</td>\n    </tr>\n    <tr>\n      <td>2016-01-06</td>\n      <td>5.0</td>\n      <td>4.0</td>\n      <td>3.0</td>\n      <td>3.0</td>\n    </tr>\n  </tbody>\n</table>\n</div>",
      "text/plain": "              A    B    C    D\n2016-01-01  2.0  3.0  2.0  2.0\n2016-01-02  1.0  1.0  5.0  6.0\n2016-01-03  3.0  6.0  1.0  5.0\n2016-01-04  6.0  2.0  4.0  1.0\n2016-01-05  4.0  5.0  6.0  4.0\n2016-01-06  5.0  4.0  3.0  3.0"
     },
     "execution_count": 12,
     "metadata": {},
     "output_type": "execute_result"
    }
   ],
   "source": [
    "# 每列按升序排名\n",
    "df.rank(axis=0)"
   ]
  },
  {
   "cell_type": "code",
   "execution_count": 13,
   "metadata": {},
   "outputs": [
    {
     "data": {
      "text/html": "<div>\n<style scoped>\n    .dataframe tbody tr th:only-of-type {\n        vertical-align: middle;\n    }\n\n    .dataframe tbody tr th {\n        vertical-align: top;\n    }\n\n    .dataframe thead th {\n        text-align: right;\n    }\n</style>\n<table border=\"1\" class=\"dataframe\">\n  <thead>\n    <tr style=\"text-align: right;\">\n      <th></th>\n      <th>A</th>\n      <th>B</th>\n      <th>C</th>\n      <th>D</th>\n    </tr>\n  </thead>\n  <tbody>\n    <tr>\n      <td>2016-01-01</td>\n      <td>3.0</td>\n      <td>1.0</td>\n      <td>4.0</td>\n      <td>2.0</td>\n    </tr>\n    <tr>\n      <td>2016-01-02</td>\n      <td>4.0</td>\n      <td>3.0</td>\n      <td>2.0</td>\n      <td>1.0</td>\n    </tr>\n    <tr>\n      <td>2016-01-03</td>\n      <td>3.0</td>\n      <td>1.0</td>\n      <td>4.0</td>\n      <td>2.0</td>\n    </tr>\n    <tr>\n      <td>2016-01-04</td>\n      <td>1.0</td>\n      <td>3.0</td>\n      <td>2.0</td>\n      <td>4.0</td>\n    </tr>\n    <tr>\n      <td>2016-01-05</td>\n      <td>4.0</td>\n      <td>3.0</td>\n      <td>1.0</td>\n      <td>2.0</td>\n    </tr>\n    <tr>\n      <td>2016-01-06</td>\n      <td>2.0</td>\n      <td>1.0</td>\n      <td>3.0</td>\n      <td>4.0</td>\n    </tr>\n  </tbody>\n</table>\n</div>",
      "text/plain": "              A    B    C    D\n2016-01-01  3.0  1.0  4.0  2.0\n2016-01-02  4.0  3.0  2.0  1.0\n2016-01-03  3.0  1.0  4.0  2.0\n2016-01-04  1.0  3.0  2.0  4.0\n2016-01-05  4.0  3.0  1.0  2.0\n2016-01-06  2.0  1.0  3.0  4.0"
     },
     "execution_count": 13,
     "metadata": {},
     "output_type": "execute_result"
    }
   ],
   "source": [
    "# 每月按降序排名\n",
    "df.rank(axis=1, ascending=False)"
   ]
  },
  {
   "cell_type": "code",
   "execution_count": 14,
   "metadata": {},
   "outputs": [],
   "source": [
    "s1 = pd.Series([1,2,3,4,5,6], index=pd.date_range('20160102',periods=6))"
   ]
  },
  {
   "cell_type": "code",
   "execution_count": 15,
   "metadata": {},
   "outputs": [
    {
     "data": {
      "text/plain": "2016-01-02    1\n2016-01-03    2\n2016-01-04    3\n2016-01-05    4\n2016-01-06    5\n2016-01-07    6\nFreq: D, dtype: int64"
     },
     "execution_count": 15,
     "metadata": {},
     "output_type": "execute_result"
    }
   ],
   "source": [
    "s1"
   ]
  },
  {
   "cell_type": "code",
   "execution_count": 16,
   "metadata": {},
   "outputs": [],
   "source": [
    "df['E'] = s1"
   ]
  },
  {
   "cell_type": "code",
   "execution_count": 17,
   "metadata": {},
   "outputs": [
    {
     "data": {
      "text/html": "<div>\n<style scoped>\n    .dataframe tbody tr th:only-of-type {\n        vertical-align: middle;\n    }\n\n    .dataframe tbody tr th {\n        vertical-align: top;\n    }\n\n    .dataframe thead th {\n        text-align: right;\n    }\n</style>\n<table border=\"1\" class=\"dataframe\">\n  <thead>\n    <tr style=\"text-align: right;\">\n      <th></th>\n      <th>A</th>\n      <th>B</th>\n      <th>C</th>\n      <th>D</th>\n      <th>E</th>\n    </tr>\n  </thead>\n  <tbody>\n    <tr>\n      <td>2016-01-01</td>\n      <td>-0.737599</td>\n      <td>-0.312377</td>\n      <td>-0.839038</td>\n      <td>-0.721511</td>\n      <td>NaN</td>\n    </tr>\n    <tr>\n      <td>2016-01-02</td>\n      <td>-1.509901</td>\n      <td>-0.703198</td>\n      <td>0.606135</td>\n      <td>2.212736</td>\n      <td>1.0</td>\n    </tr>\n    <tr>\n      <td>2016-01-03</td>\n      <td>-0.567123</td>\n      <td>1.678127</td>\n      <td>-2.346891</td>\n      <td>1.222404</td>\n      <td>2.0</td>\n    </tr>\n    <tr>\n      <td>2016-01-04</td>\n      <td>0.182049</td>\n      <td>-0.343537</td>\n      <td>-0.029914</td>\n      <td>-1.117301</td>\n      <td>3.0</td>\n    </tr>\n    <tr>\n      <td>2016-01-05</td>\n      <td>-0.497160</td>\n      <td>0.292088</td>\n      <td>0.769916</td>\n      <td>0.454676</td>\n      <td>4.0</td>\n    </tr>\n    <tr>\n      <td>2016-01-06</td>\n      <td>-0.224989</td>\n      <td>0.195870</td>\n      <td>-0.364358</td>\n      <td>-0.442326</td>\n      <td>5.0</td>\n    </tr>\n  </tbody>\n</table>\n</div>",
      "text/plain": "                   A         B         C         D    E\n2016-01-01 -0.737599 -0.312377 -0.839038 -0.721511  NaN\n2016-01-02 -1.509901 -0.703198  0.606135  2.212736  1.0\n2016-01-03 -0.567123  1.678127 -2.346891  1.222404  2.0\n2016-01-04  0.182049 -0.343537 -0.029914 -1.117301  3.0\n2016-01-05 -0.497160  0.292088  0.769916  0.454676  4.0\n2016-01-06 -0.224989  0.195870 -0.364358 -0.442326  5.0"
     },
     "execution_count": 17,
     "metadata": {},
     "output_type": "execute_result"
    }
   ],
   "source": [
    "df"
   ]
  },
  {
   "cell_type": "code",
   "execution_count": 18,
   "metadata": {},
   "outputs": [],
   "source": [
    "df=df[list('ABCD')]"
   ]
  },
  {
   "cell_type": "code",
   "execution_count": 19,
   "metadata": {},
   "outputs": [
    {
     "data": {
      "text/html": "<div>\n<style scoped>\n    .dataframe tbody tr th:only-of-type {\n        vertical-align: middle;\n    }\n\n    .dataframe tbody tr th {\n        vertical-align: top;\n    }\n\n    .dataframe thead th {\n        text-align: right;\n    }\n</style>\n<table border=\"1\" class=\"dataframe\">\n  <thead>\n    <tr style=\"text-align: right;\">\n      <th></th>\n      <th>A</th>\n      <th>B</th>\n      <th>C</th>\n      <th>D</th>\n    </tr>\n  </thead>\n  <tbody>\n    <tr>\n      <td>2016-01-01</td>\n      <td>-0.737599</td>\n      <td>-0.312377</td>\n      <td>-0.839038</td>\n      <td>-0.721511</td>\n    </tr>\n    <tr>\n      <td>2016-01-02</td>\n      <td>-1.509901</td>\n      <td>-0.703198</td>\n      <td>0.606135</td>\n      <td>2.212736</td>\n    </tr>\n    <tr>\n      <td>2016-01-03</td>\n      <td>-0.567123</td>\n      <td>1.678127</td>\n      <td>-2.346891</td>\n      <td>1.222404</td>\n    </tr>\n    <tr>\n      <td>2016-01-04</td>\n      <td>0.182049</td>\n      <td>-0.343537</td>\n      <td>-0.029914</td>\n      <td>-1.117301</td>\n    </tr>\n    <tr>\n      <td>2016-01-05</td>\n      <td>-0.497160</td>\n      <td>0.292088</td>\n      <td>0.769916</td>\n      <td>0.454676</td>\n    </tr>\n    <tr>\n      <td>2016-01-06</td>\n      <td>-0.224989</td>\n      <td>0.195870</td>\n      <td>-0.364358</td>\n      <td>-0.442326</td>\n    </tr>\n  </tbody>\n</table>\n</div>",
      "text/plain": "                   A         B         C         D\n2016-01-01 -0.737599 -0.312377 -0.839038 -0.721511\n2016-01-02 -1.509901 -0.703198  0.606135  2.212736\n2016-01-03 -0.567123  1.678127 -2.346891  1.222404\n2016-01-04  0.182049 -0.343537 -0.029914 -1.117301\n2016-01-05 -0.497160  0.292088  0.769916  0.454676\n2016-01-06 -0.224989  0.195870 -0.364358 -0.442326"
     },
     "execution_count": 19,
     "metadata": {},
     "output_type": "execute_result"
    }
   ],
   "source": [
    "df"
   ]
  },
  {
   "cell_type": "code",
   "execution_count": 20,
   "metadata": {},
   "outputs": [],
   "source": [
    "df=df[list('ABCD')]"
   ]
  },
  {
   "cell_type": "code",
   "execution_count": 21,
   "metadata": {},
   "outputs": [
    {
     "data": {
      "text/html": "<div>\n<style scoped>\n    .dataframe tbody tr th:only-of-type {\n        vertical-align: middle;\n    }\n\n    .dataframe tbody tr th {\n        vertical-align: top;\n    }\n\n    .dataframe thead th {\n        text-align: right;\n    }\n</style>\n<table border=\"1\" class=\"dataframe\">\n  <thead>\n    <tr style=\"text-align: right;\">\n      <th></th>\n      <th>A</th>\n      <th>B</th>\n      <th>C</th>\n      <th>D</th>\n      <th>0</th>\n    </tr>\n  </thead>\n  <tbody>\n    <tr>\n      <td>2016-01-01</td>\n      <td>-0.737599</td>\n      <td>-0.312377</td>\n      <td>-0.839038</td>\n      <td>-0.721511</td>\n      <td>NaN</td>\n    </tr>\n    <tr>\n      <td>2016-01-02</td>\n      <td>-1.509901</td>\n      <td>-0.703198</td>\n      <td>0.606135</td>\n      <td>2.212736</td>\n      <td>1.0</td>\n    </tr>\n    <tr>\n      <td>2016-01-03</td>\n      <td>-0.567123</td>\n      <td>1.678127</td>\n      <td>-2.346891</td>\n      <td>1.222404</td>\n      <td>2.0</td>\n    </tr>\n    <tr>\n      <td>2016-01-04</td>\n      <td>0.182049</td>\n      <td>-0.343537</td>\n      <td>-0.029914</td>\n      <td>-1.117301</td>\n      <td>3.0</td>\n    </tr>\n    <tr>\n      <td>2016-01-05</td>\n      <td>-0.497160</td>\n      <td>0.292088</td>\n      <td>0.769916</td>\n      <td>0.454676</td>\n      <td>4.0</td>\n    </tr>\n    <tr>\n      <td>2016-01-06</td>\n      <td>-0.224989</td>\n      <td>0.195870</td>\n      <td>-0.364358</td>\n      <td>-0.442326</td>\n      <td>5.0</td>\n    </tr>\n    <tr>\n      <td>2016-01-07</td>\n      <td>NaN</td>\n      <td>NaN</td>\n      <td>NaN</td>\n      <td>NaN</td>\n      <td>6.0</td>\n    </tr>\n  </tbody>\n</table>\n</div>",
      "text/plain": "                   A         B         C         D    0\n2016-01-01 -0.737599 -0.312377 -0.839038 -0.721511  NaN\n2016-01-02 -1.509901 -0.703198  0.606135  2.212736  1.0\n2016-01-03 -0.567123  1.678127 -2.346891  1.222404  2.0\n2016-01-04  0.182049 -0.343537 -0.029914 -1.117301  3.0\n2016-01-05 -0.497160  0.292088  0.769916  0.454676  4.0\n2016-01-06 -0.224989  0.195870 -0.364358 -0.442326  5.0\n2016-01-07       NaN       NaN       NaN       NaN  6.0"
     },
     "execution_count": 21,
     "metadata": {},
     "output_type": "execute_result"
    }
   ],
   "source": [
    "pd.concat([df, s1], axis=1)"
   ]
  },
  {
   "cell_type": "code",
   "execution_count": 22,
   "metadata": {},
   "outputs": [],
   "source": [
    "df1=pd.DataFrame({'A':[1,2,3], 'B':[4,5,6], 'C':[7,8,9]}, index=pd.date_range('20160110', periods=3))"
   ]
  },
  {
   "cell_type": "code",
   "execution_count": 23,
   "metadata": {},
   "outputs": [
    {
     "data": {
      "text/html": "<div>\n<style scoped>\n    .dataframe tbody tr th:only-of-type {\n        vertical-align: middle;\n    }\n\n    .dataframe tbody tr th {\n        vertical-align: top;\n    }\n\n    .dataframe thead th {\n        text-align: right;\n    }\n</style>\n<table border=\"1\" class=\"dataframe\">\n  <thead>\n    <tr style=\"text-align: right;\">\n      <th></th>\n      <th>A</th>\n      <th>B</th>\n      <th>C</th>\n    </tr>\n  </thead>\n  <tbody>\n    <tr>\n      <td>2016-01-10</td>\n      <td>1</td>\n      <td>4</td>\n      <td>7</td>\n    </tr>\n    <tr>\n      <td>2016-01-11</td>\n      <td>2</td>\n      <td>5</td>\n      <td>8</td>\n    </tr>\n    <tr>\n      <td>2016-01-12</td>\n      <td>3</td>\n      <td>6</td>\n      <td>9</td>\n    </tr>\n  </tbody>\n</table>\n</div>",
      "text/plain": "            A  B  C\n2016-01-10  1  4  7\n2016-01-11  2  5  8\n2016-01-12  3  6  9"
     },
     "execution_count": 23,
     "metadata": {},
     "output_type": "execute_result"
    }
   ],
   "source": [
    "df1"
   ]
  },
  {
   "cell_type": "code",
   "execution_count": 24,
   "metadata": {},
   "outputs": [
    {
     "data": {
      "text/html": "<div>\n<style scoped>\n    .dataframe tbody tr th:only-of-type {\n        vertical-align: middle;\n    }\n\n    .dataframe tbody tr th {\n        vertical-align: top;\n    }\n\n    .dataframe thead th {\n        text-align: right;\n    }\n</style>\n<table border=\"1\" class=\"dataframe\">\n  <thead>\n    <tr style=\"text-align: right;\">\n      <th></th>\n      <th>A</th>\n      <th>B</th>\n      <th>C</th>\n      <th>D</th>\n    </tr>\n  </thead>\n  <tbody>\n    <tr>\n      <td>2016-01-01</td>\n      <td>-0.737599</td>\n      <td>-0.312377</td>\n      <td>-0.839038</td>\n      <td>-0.721511</td>\n    </tr>\n    <tr>\n      <td>2016-01-02</td>\n      <td>-1.509901</td>\n      <td>-0.703198</td>\n      <td>0.606135</td>\n      <td>2.212736</td>\n    </tr>\n    <tr>\n      <td>2016-01-03</td>\n      <td>-0.567123</td>\n      <td>1.678127</td>\n      <td>-2.346891</td>\n      <td>1.222404</td>\n    </tr>\n    <tr>\n      <td>2016-01-04</td>\n      <td>0.182049</td>\n      <td>-0.343537</td>\n      <td>-0.029914</td>\n      <td>-1.117301</td>\n    </tr>\n    <tr>\n      <td>2016-01-05</td>\n      <td>-0.497160</td>\n      <td>0.292088</td>\n      <td>0.769916</td>\n      <td>0.454676</td>\n    </tr>\n    <tr>\n      <td>2016-01-06</td>\n      <td>-0.224989</td>\n      <td>0.195870</td>\n      <td>-0.364358</td>\n      <td>-0.442326</td>\n    </tr>\n    <tr>\n      <td>2016-01-10</td>\n      <td>1.000000</td>\n      <td>4.000000</td>\n      <td>7.000000</td>\n      <td>NaN</td>\n    </tr>\n    <tr>\n      <td>2016-01-11</td>\n      <td>2.000000</td>\n      <td>5.000000</td>\n      <td>8.000000</td>\n      <td>NaN</td>\n    </tr>\n    <tr>\n      <td>2016-01-12</td>\n      <td>3.000000</td>\n      <td>6.000000</td>\n      <td>9.000000</td>\n      <td>NaN</td>\n    </tr>\n  </tbody>\n</table>\n</div>",
      "text/plain": "                   A         B         C         D\n2016-01-01 -0.737599 -0.312377 -0.839038 -0.721511\n2016-01-02 -1.509901 -0.703198  0.606135  2.212736\n2016-01-03 -0.567123  1.678127 -2.346891  1.222404\n2016-01-04  0.182049 -0.343537 -0.029914 -1.117301\n2016-01-05 -0.497160  0.292088  0.769916  0.454676\n2016-01-06 -0.224989  0.195870 -0.364358 -0.442326\n2016-01-10  1.000000  4.000000  7.000000       NaN\n2016-01-11  2.000000  5.000000  8.000000       NaN\n2016-01-12  3.000000  6.000000  9.000000       NaN"
     },
     "execution_count": 24,
     "metadata": {},
     "output_type": "execute_result"
    }
   ],
   "source": [
    "df.append(df1)"
   ]
  },
  {
   "cell_type": "code",
   "execution_count": 25,
   "metadata": {},
   "outputs": [
    {
     "data": {
      "text/html": "<div>\n<style scoped>\n    .dataframe tbody tr th:only-of-type {\n        vertical-align: middle;\n    }\n\n    .dataframe tbody tr th {\n        vertical-align: top;\n    }\n\n    .dataframe thead th {\n        text-align: right;\n    }\n</style>\n<table border=\"1\" class=\"dataframe\">\n  <thead>\n    <tr style=\"text-align: right;\">\n      <th></th>\n      <th>A</th>\n      <th>B</th>\n      <th>C</th>\n    </tr>\n  </thead>\n  <tbody>\n    <tr>\n      <td>2016-01-01</td>\n      <td>-0.737599</td>\n      <td>-0.312377</td>\n      <td>-0.839038</td>\n    </tr>\n    <tr>\n      <td>2016-01-02</td>\n      <td>-1.509901</td>\n      <td>-0.703198</td>\n      <td>0.606135</td>\n    </tr>\n    <tr>\n      <td>2016-01-03</td>\n      <td>-0.567123</td>\n      <td>1.678127</td>\n      <td>-2.346891</td>\n    </tr>\n    <tr>\n      <td>2016-01-04</td>\n      <td>0.182049</td>\n      <td>-0.343537</td>\n      <td>-0.029914</td>\n    </tr>\n    <tr>\n      <td>2016-01-05</td>\n      <td>-0.497160</td>\n      <td>0.292088</td>\n      <td>0.769916</td>\n    </tr>\n    <tr>\n      <td>2016-01-06</td>\n      <td>-0.224989</td>\n      <td>0.195870</td>\n      <td>-0.364358</td>\n    </tr>\n    <tr>\n      <td>2016-01-10</td>\n      <td>1.000000</td>\n      <td>4.000000</td>\n      <td>7.000000</td>\n    </tr>\n    <tr>\n      <td>2016-01-11</td>\n      <td>2.000000</td>\n      <td>5.000000</td>\n      <td>8.000000</td>\n    </tr>\n    <tr>\n      <td>2016-01-12</td>\n      <td>3.000000</td>\n      <td>6.000000</td>\n      <td>9.000000</td>\n    </tr>\n  </tbody>\n</table>\n</div>",
      "text/plain": "                   A         B         C\n2016-01-01 -0.737599 -0.312377 -0.839038\n2016-01-02 -1.509901 -0.703198  0.606135\n2016-01-03 -0.567123  1.678127 -2.346891\n2016-01-04  0.182049 -0.343537 -0.029914\n2016-01-05 -0.497160  0.292088  0.769916\n2016-01-06 -0.224989  0.195870 -0.364358\n2016-01-10  1.000000  4.000000  7.000000\n2016-01-11  2.000000  5.000000  8.000000\n2016-01-12  3.000000  6.000000  9.000000"
     },
     "execution_count": 25,
     "metadata": {},
     "output_type": "execute_result"
    }
   ],
   "source": [
    "pd.concat([df, df1], join='inner')"
   ]
  },
  {
   "cell_type": "code",
   "execution_count": 26,
   "metadata": {},
   "outputs": [
    {
     "data": {
      "text/html": "<div>\n<style scoped>\n    .dataframe tbody tr th:only-of-type {\n        vertical-align: middle;\n    }\n\n    .dataframe tbody tr th {\n        vertical-align: top;\n    }\n\n    .dataframe thead th {\n        text-align: right;\n    }\n</style>\n<table border=\"1\" class=\"dataframe\">\n  <thead>\n    <tr style=\"text-align: right;\">\n      <th></th>\n      <th>A</th>\n      <th>B</th>\n      <th>C</th>\n      <th>D</th>\n    </tr>\n  </thead>\n  <tbody>\n    <tr>\n      <td>2016-01-01</td>\n      <td>-0.737599</td>\n      <td>-0.312377</td>\n      <td>-0.839038</td>\n      <td>-0.721511</td>\n    </tr>\n    <tr>\n      <td>2016-01-04</td>\n      <td>0.182049</td>\n      <td>-0.343537</td>\n      <td>-0.029914</td>\n      <td>-1.117301</td>\n    </tr>\n    <tr>\n      <td>2016-01-05</td>\n      <td>-0.497160</td>\n      <td>0.292088</td>\n      <td>0.769916</td>\n      <td>0.454676</td>\n    </tr>\n    <tr>\n      <td>2016-01-06</td>\n      <td>-0.224989</td>\n      <td>0.195870</td>\n      <td>-0.364358</td>\n      <td>-0.442326</td>\n    </tr>\n  </tbody>\n</table>\n</div>",
      "text/plain": "                   A         B         C         D\n2016-01-01 -0.737599 -0.312377 -0.839038 -0.721511\n2016-01-04  0.182049 -0.343537 -0.029914 -1.117301\n2016-01-05 -0.497160  0.292088  0.769916  0.454676\n2016-01-06 -0.224989  0.195870 -0.364358 -0.442326"
     },
     "execution_count": 26,
     "metadata": {},
     "output_type": "execute_result"
    }
   ],
   "source": [
    "df.drop(dates[1:3])"
   ]
  },
  {
   "cell_type": "code",
   "execution_count": 27,
   "metadata": {},
   "outputs": [
    {
     "data": {
      "text/html": "<div>\n<style scoped>\n    .dataframe tbody tr th:only-of-type {\n        vertical-align: middle;\n    }\n\n    .dataframe tbody tr th {\n        vertical-align: top;\n    }\n\n    .dataframe thead th {\n        text-align: right;\n    }\n</style>\n<table border=\"1\" class=\"dataframe\">\n  <thead>\n    <tr style=\"text-align: right;\">\n      <th></th>\n      <th>B</th>\n      <th>C</th>\n      <th>D</th>\n    </tr>\n  </thead>\n  <tbody>\n    <tr>\n      <td>2016-01-01</td>\n      <td>-0.312377</td>\n      <td>-0.839038</td>\n      <td>-0.721511</td>\n    </tr>\n    <tr>\n      <td>2016-01-02</td>\n      <td>-0.703198</td>\n      <td>0.606135</td>\n      <td>2.212736</td>\n    </tr>\n    <tr>\n      <td>2016-01-03</td>\n      <td>1.678127</td>\n      <td>-2.346891</td>\n      <td>1.222404</td>\n    </tr>\n    <tr>\n      <td>2016-01-04</td>\n      <td>-0.343537</td>\n      <td>-0.029914</td>\n      <td>-1.117301</td>\n    </tr>\n    <tr>\n      <td>2016-01-05</td>\n      <td>0.292088</td>\n      <td>0.769916</td>\n      <td>0.454676</td>\n    </tr>\n    <tr>\n      <td>2016-01-06</td>\n      <td>0.195870</td>\n      <td>-0.364358</td>\n      <td>-0.442326</td>\n    </tr>\n  </tbody>\n</table>\n</div>",
      "text/plain": "                   B         C         D\n2016-01-01 -0.312377 -0.839038 -0.721511\n2016-01-02 -0.703198  0.606135  2.212736\n2016-01-03  1.678127 -2.346891  1.222404\n2016-01-04 -0.343537 -0.029914 -1.117301\n2016-01-05  0.292088  0.769916  0.454676\n2016-01-06  0.195870 -0.364358 -0.442326"
     },
     "execution_count": 27,
     "metadata": {},
     "output_type": "execute_result"
    }
   ],
   "source": [
    "df.drop('A', axis=1)"
   ]
  },
  {
   "cell_type": "code",
   "execution_count": 28,
   "metadata": {},
   "outputs": [],
   "source": [
    "del df['A']"
   ]
  },
  {
   "cell_type": "code",
   "execution_count": 29,
   "metadata": {},
   "outputs": [
    {
     "data": {
      "text/html": "<div>\n<style scoped>\n    .dataframe tbody tr th:only-of-type {\n        vertical-align: middle;\n    }\n\n    .dataframe tbody tr th {\n        vertical-align: top;\n    }\n\n    .dataframe thead th {\n        text-align: right;\n    }\n</style>\n<table border=\"1\" class=\"dataframe\">\n  <thead>\n    <tr style=\"text-align: right;\">\n      <th></th>\n      <th>B</th>\n      <th>C</th>\n      <th>D</th>\n    </tr>\n  </thead>\n  <tbody>\n    <tr>\n      <td>2016-01-01</td>\n      <td>-0.312377</td>\n      <td>-0.839038</td>\n      <td>-0.721511</td>\n    </tr>\n    <tr>\n      <td>2016-01-02</td>\n      <td>-0.703198</td>\n      <td>0.606135</td>\n      <td>2.212736</td>\n    </tr>\n    <tr>\n      <td>2016-01-03</td>\n      <td>1.678127</td>\n      <td>-2.346891</td>\n      <td>1.222404</td>\n    </tr>\n    <tr>\n      <td>2016-01-04</td>\n      <td>-0.343537</td>\n      <td>-0.029914</td>\n      <td>-1.117301</td>\n    </tr>\n    <tr>\n      <td>2016-01-05</td>\n      <td>0.292088</td>\n      <td>0.769916</td>\n      <td>0.454676</td>\n    </tr>\n    <tr>\n      <td>2016-01-06</td>\n      <td>0.195870</td>\n      <td>-0.364358</td>\n      <td>-0.442326</td>\n    </tr>\n  </tbody>\n</table>\n</div>",
      "text/plain": "                   B         C         D\n2016-01-01 -0.312377 -0.839038 -0.721511\n2016-01-02 -0.703198  0.606135  2.212736\n2016-01-03  1.678127 -2.346891  1.222404\n2016-01-04 -0.343537 -0.029914 -1.117301\n2016-01-05  0.292088  0.769916  0.454676\n2016-01-06  0.195870 -0.364358 -0.442326"
     },
     "execution_count": 29,
     "metadata": {},
     "output_type": "execute_result"
    }
   ],
   "source": [
    "df"
   ]
  },
  {
   "cell_type": "code",
   "execution_count": 30,
   "metadata": {},
   "outputs": [],
   "source": [
    "df.loc[dates[2], 'C'] = 0"
   ]
  },
  {
   "cell_type": "code",
   "execution_count": 31,
   "metadata": {},
   "outputs": [
    {
     "data": {
      "text/html": "<div>\n<style scoped>\n    .dataframe tbody tr th:only-of-type {\n        vertical-align: middle;\n    }\n\n    .dataframe tbody tr th {\n        vertical-align: top;\n    }\n\n    .dataframe thead th {\n        text-align: right;\n    }\n</style>\n<table border=\"1\" class=\"dataframe\">\n  <thead>\n    <tr style=\"text-align: right;\">\n      <th></th>\n      <th>B</th>\n      <th>C</th>\n      <th>D</th>\n    </tr>\n  </thead>\n  <tbody>\n    <tr>\n      <td>2016-01-01</td>\n      <td>3.0</td>\n      <td>1.0</td>\n      <td>2.0</td>\n    </tr>\n    <tr>\n      <td>2016-01-02</td>\n      <td>1.0</td>\n      <td>5.0</td>\n      <td>6.0</td>\n    </tr>\n    <tr>\n      <td>2016-01-03</td>\n      <td>6.0</td>\n      <td>4.0</td>\n      <td>5.0</td>\n    </tr>\n    <tr>\n      <td>2016-01-04</td>\n      <td>2.0</td>\n      <td>3.0</td>\n      <td>1.0</td>\n    </tr>\n    <tr>\n      <td>2016-01-05</td>\n      <td>5.0</td>\n      <td>6.0</td>\n      <td>4.0</td>\n    </tr>\n    <tr>\n      <td>2016-01-06</td>\n      <td>4.0</td>\n      <td>2.0</td>\n      <td>3.0</td>\n    </tr>\n  </tbody>\n</table>\n</div>",
      "text/plain": "              B    C    D\n2016-01-01  3.0  1.0  2.0\n2016-01-02  1.0  5.0  6.0\n2016-01-03  6.0  4.0  5.0\n2016-01-04  2.0  3.0  1.0\n2016-01-05  5.0  6.0  4.0\n2016-01-06  4.0  2.0  3.0"
     },
     "execution_count": 31,
     "metadata": {},
     "output_type": "execute_result"
    }
   ],
   "source": [
    "df.rank(axis=0)"
   ]
  },
  {
   "cell_type": "code",
   "execution_count": 32,
   "metadata": {},
   "outputs": [],
   "source": [
    "df['E'] = s1"
   ]
  },
  {
   "cell_type": "code",
   "execution_count": 33,
   "metadata": {},
   "outputs": [
    {
     "data": {
      "text/html": "<div>\n<style scoped>\n    .dataframe tbody tr th:only-of-type {\n        vertical-align: middle;\n    }\n\n    .dataframe tbody tr th {\n        vertical-align: top;\n    }\n\n    .dataframe thead th {\n        text-align: right;\n    }\n</style>\n<table border=\"1\" class=\"dataframe\">\n  <thead>\n    <tr style=\"text-align: right;\">\n      <th></th>\n      <th>B</th>\n      <th>C</th>\n      <th>D</th>\n      <th>E</th>\n    </tr>\n  </thead>\n  <tbody>\n    <tr>\n      <td>2016-01-01</td>\n      <td>-0.312377</td>\n      <td>-0.839038</td>\n      <td>-0.721511</td>\n      <td>NaN</td>\n    </tr>\n    <tr>\n      <td>2016-01-02</td>\n      <td>-0.703198</td>\n      <td>0.606135</td>\n      <td>2.212736</td>\n      <td>1.0</td>\n    </tr>\n    <tr>\n      <td>2016-01-03</td>\n      <td>1.678127</td>\n      <td>0.000000</td>\n      <td>1.222404</td>\n      <td>2.0</td>\n    </tr>\n    <tr>\n      <td>2016-01-04</td>\n      <td>-0.343537</td>\n      <td>-0.029914</td>\n      <td>-1.117301</td>\n      <td>3.0</td>\n    </tr>\n    <tr>\n      <td>2016-01-05</td>\n      <td>0.292088</td>\n      <td>0.769916</td>\n      <td>0.454676</td>\n      <td>4.0</td>\n    </tr>\n    <tr>\n      <td>2016-01-06</td>\n      <td>0.195870</td>\n      <td>-0.364358</td>\n      <td>-0.442326</td>\n      <td>5.0</td>\n    </tr>\n  </tbody>\n</table>\n</div>",
      "text/plain": "                   B         C         D    E\n2016-01-01 -0.312377 -0.839038 -0.721511  NaN\n2016-01-02 -0.703198  0.606135  2.212736  1.0\n2016-01-03  1.678127  0.000000  1.222404  2.0\n2016-01-04 -0.343537 -0.029914 -1.117301  3.0\n2016-01-05  0.292088  0.769916  0.454676  4.0\n2016-01-06  0.195870 -0.364358 -0.442326  5.0"
     },
     "execution_count": 33,
     "metadata": {},
     "output_type": "execute_result"
    }
   ],
   "source": [
    "df"
   ]
  },
  {
   "cell_type": "code",
   "execution_count": 34,
   "metadata": {},
   "outputs": [],
   "source": [
    "df1=pd.DataFrame({'A':[1,2,3], 'B': [4,5,6], 'C':[7,8,9]},\n",
    "index=pd.date_range('20160110', periods=3))"
   ]
  },
  {
   "cell_type": "code",
   "execution_count": 35,
   "metadata": {},
   "outputs": [
    {
     "data": {
      "text/html": "<div>\n<style scoped>\n    .dataframe tbody tr th:only-of-type {\n        vertical-align: middle;\n    }\n\n    .dataframe tbody tr th {\n        vertical-align: top;\n    }\n\n    .dataframe thead th {\n        text-align: right;\n    }\n</style>\n<table border=\"1\" class=\"dataframe\">\n  <thead>\n    <tr style=\"text-align: right;\">\n      <th></th>\n      <th>A</th>\n      <th>B</th>\n      <th>C</th>\n    </tr>\n  </thead>\n  <tbody>\n    <tr>\n      <td>2016-01-10</td>\n      <td>1</td>\n      <td>4</td>\n      <td>7</td>\n    </tr>\n    <tr>\n      <td>2016-01-11</td>\n      <td>2</td>\n      <td>5</td>\n      <td>8</td>\n    </tr>\n    <tr>\n      <td>2016-01-12</td>\n      <td>3</td>\n      <td>6</td>\n      <td>9</td>\n    </tr>\n  </tbody>\n</table>\n</div>",
      "text/plain": "            A  B  C\n2016-01-10  1  4  7\n2016-01-11  2  5  8\n2016-01-12  3  6  9"
     },
     "execution_count": 35,
     "metadata": {},
     "output_type": "execute_result"
    }
   ],
   "source": [
    "df1"
   ]
  },
  {
   "cell_type": "code",
   "execution_count": 36,
   "metadata": {},
   "outputs": [
    {
     "data": {
      "text/html": "<div>\n<style scoped>\n    .dataframe tbody tr th:only-of-type {\n        vertical-align: middle;\n    }\n\n    .dataframe tbody tr th {\n        vertical-align: top;\n    }\n\n    .dataframe thead th {\n        text-align: right;\n    }\n</style>\n<table border=\"1\" class=\"dataframe\">\n  <thead>\n    <tr style=\"text-align: right;\">\n      <th></th>\n      <th>B</th>\n      <th>C</th>\n      <th>D</th>\n      <th>E</th>\n    </tr>\n  </thead>\n  <tbody>\n    <tr>\n      <td>2016-01-01</td>\n      <td>-0.312377</td>\n      <td>-0.839038</td>\n      <td>-0.721511</td>\n      <td>NaN</td>\n    </tr>\n    <tr>\n      <td>2016-01-02</td>\n      <td>-0.703198</td>\n      <td>0.606135</td>\n      <td>2.212736</td>\n      <td>1.0</td>\n    </tr>\n    <tr>\n      <td>2016-01-03</td>\n      <td>1.678127</td>\n      <td>0.000000</td>\n      <td>1.222404</td>\n      <td>2.0</td>\n    </tr>\n    <tr>\n      <td>2016-01-04</td>\n      <td>-0.343537</td>\n      <td>-0.029914</td>\n      <td>-1.117301</td>\n      <td>3.0</td>\n    </tr>\n    <tr>\n      <td>2016-01-05</td>\n      <td>0.292088</td>\n      <td>0.769916</td>\n      <td>0.454676</td>\n      <td>4.0</td>\n    </tr>\n    <tr>\n      <td>2016-01-06</td>\n      <td>0.195870</td>\n      <td>-0.364358</td>\n      <td>-0.442326</td>\n      <td>5.0</td>\n    </tr>\n  </tbody>\n</table>\n</div>",
      "text/plain": "                   B         C         D    E\n2016-01-01 -0.312377 -0.839038 -0.721511  NaN\n2016-01-02 -0.703198  0.606135  2.212736  1.0\n2016-01-03  1.678127  0.000000  1.222404  2.0\n2016-01-04 -0.343537 -0.029914 -1.117301  3.0\n2016-01-05  0.292088  0.769916  0.454676  4.0\n2016-01-06  0.195870 -0.364358 -0.442326  5.0"
     },
     "execution_count": 36,
     "metadata": {},
     "output_type": "execute_result"
    }
   ],
   "source": [
    "df"
   ]
  },
  {
   "cell_type": "code",
   "execution_count": 37,
   "metadata": {},
   "outputs": [
    {
     "data": {
      "text/html": "<div>\n<style scoped>\n    .dataframe tbody tr th:only-of-type {\n        vertical-align: middle;\n    }\n\n    .dataframe tbody tr th {\n        vertical-align: top;\n    }\n\n    .dataframe thead th {\n        text-align: right;\n    }\n</style>\n<table border=\"1\" class=\"dataframe\">\n  <thead>\n    <tr style=\"text-align: right;\">\n      <th></th>\n      <th>B</th>\n      <th>C</th>\n    </tr>\n  </thead>\n  <tbody>\n    <tr>\n      <td>2016-01-01</td>\n      <td>-0.312377</td>\n      <td>-0.839038</td>\n    </tr>\n    <tr>\n      <td>2016-01-02</td>\n      <td>-0.703198</td>\n      <td>0.606135</td>\n    </tr>\n    <tr>\n      <td>2016-01-03</td>\n      <td>1.678127</td>\n      <td>0.000000</td>\n    </tr>\n    <tr>\n      <td>2016-01-04</td>\n      <td>-0.343537</td>\n      <td>-0.029914</td>\n    </tr>\n    <tr>\n      <td>2016-01-05</td>\n      <td>0.292088</td>\n      <td>0.769916</td>\n    </tr>\n    <tr>\n      <td>2016-01-06</td>\n      <td>0.195870</td>\n      <td>-0.364358</td>\n    </tr>\n    <tr>\n      <td>2016-01-10</td>\n      <td>4.000000</td>\n      <td>7.000000</td>\n    </tr>\n    <tr>\n      <td>2016-01-11</td>\n      <td>5.000000</td>\n      <td>8.000000</td>\n    </tr>\n    <tr>\n      <td>2016-01-12</td>\n      <td>6.000000</td>\n      <td>9.000000</td>\n    </tr>\n  </tbody>\n</table>\n</div>",
      "text/plain": "                   B         C\n2016-01-01 -0.312377 -0.839038\n2016-01-02 -0.703198  0.606135\n2016-01-03  1.678127  0.000000\n2016-01-04 -0.343537 -0.029914\n2016-01-05  0.292088  0.769916\n2016-01-06  0.195870 -0.364358\n2016-01-10  4.000000  7.000000\n2016-01-11  5.000000  8.000000\n2016-01-12  6.000000  9.000000"
     },
     "execution_count": 37,
     "metadata": {},
     "output_type": "execute_result"
    }
   ],
   "source": [
    "pd.concat([df,df1], join='inner')"
   ]
  },
  {
   "cell_type": "code",
   "execution_count": 38,
   "metadata": {},
   "outputs": [
    {
     "data": {
      "text/html": "<div>\n<style scoped>\n    .dataframe tbody tr th:only-of-type {\n        vertical-align: middle;\n    }\n\n    .dataframe tbody tr th {\n        vertical-align: top;\n    }\n\n    .dataframe thead th {\n        text-align: right;\n    }\n</style>\n<table border=\"1\" class=\"dataframe\">\n  <thead>\n    <tr style=\"text-align: right;\">\n      <th></th>\n      <th>B</th>\n      <th>D</th>\n      <th>E</th>\n    </tr>\n  </thead>\n  <tbody>\n    <tr>\n      <td>2016-01-01</td>\n      <td>-0.312377</td>\n      <td>-0.721511</td>\n      <td>NaN</td>\n    </tr>\n    <tr>\n      <td>2016-01-02</td>\n      <td>-0.703198</td>\n      <td>2.212736</td>\n      <td>1.0</td>\n    </tr>\n    <tr>\n      <td>2016-01-03</td>\n      <td>1.678127</td>\n      <td>1.222404</td>\n      <td>2.0</td>\n    </tr>\n    <tr>\n      <td>2016-01-04</td>\n      <td>-0.343537</td>\n      <td>-1.117301</td>\n      <td>3.0</td>\n    </tr>\n    <tr>\n      <td>2016-01-05</td>\n      <td>0.292088</td>\n      <td>0.454676</td>\n      <td>4.0</td>\n    </tr>\n    <tr>\n      <td>2016-01-06</td>\n      <td>0.195870</td>\n      <td>-0.442326</td>\n      <td>5.0</td>\n    </tr>\n  </tbody>\n</table>\n</div>",
      "text/plain": "                   B         D    E\n2016-01-01 -0.312377 -0.721511  NaN\n2016-01-02 -0.703198  2.212736  1.0\n2016-01-03  1.678127  1.222404  2.0\n2016-01-04 -0.343537 -1.117301  3.0\n2016-01-05  0.292088  0.454676  4.0\n2016-01-06  0.195870 -0.442326  5.0"
     },
     "execution_count": 38,
     "metadata": {},
     "output_type": "execute_result"
    }
   ],
   "source": [
    "df.drop('C', axis=1)"
   ]
  },
  {
   "cell_type": "code",
   "execution_count": 39,
   "metadata": {},
   "outputs": [
    {
     "data": {
      "text/html": "<div>\n<style scoped>\n    .dataframe tbody tr th:only-of-type {\n        vertical-align: middle;\n    }\n\n    .dataframe tbody tr th {\n        vertical-align: top;\n    }\n\n    .dataframe thead th {\n        text-align: right;\n    }\n</style>\n<table border=\"1\" class=\"dataframe\">\n  <thead>\n    <tr style=\"text-align: right;\">\n      <th></th>\n      <th>B</th>\n      <th>C</th>\n      <th>D</th>\n      <th>E</th>\n    </tr>\n  </thead>\n  <tbody>\n    <tr>\n      <td>2016-01-01</td>\n      <td>-0.312377</td>\n      <td>-0.839038</td>\n      <td>-0.721511</td>\n      <td>NaN</td>\n    </tr>\n    <tr>\n      <td>2016-01-02</td>\n      <td>-0.703198</td>\n      <td>0.606135</td>\n      <td>2.212736</td>\n      <td>1.0</td>\n    </tr>\n    <tr>\n      <td>2016-01-03</td>\n      <td>1.678127</td>\n      <td>0.000000</td>\n      <td>1.222404</td>\n      <td>2.0</td>\n    </tr>\n    <tr>\n      <td>2016-01-04</td>\n      <td>-0.343537</td>\n      <td>-0.029914</td>\n      <td>-1.117301</td>\n      <td>3.0</td>\n    </tr>\n    <tr>\n      <td>2016-01-05</td>\n      <td>0.292088</td>\n      <td>0.769916</td>\n      <td>0.454676</td>\n      <td>4.0</td>\n    </tr>\n    <tr>\n      <td>2016-01-06</td>\n      <td>0.195870</td>\n      <td>-0.364358</td>\n      <td>-0.442326</td>\n      <td>5.0</td>\n    </tr>\n  </tbody>\n</table>\n</div>",
      "text/plain": "                   B         C         D    E\n2016-01-01 -0.312377 -0.839038 -0.721511  NaN\n2016-01-02 -0.703198  0.606135  2.212736  1.0\n2016-01-03  1.678127  0.000000  1.222404  2.0\n2016-01-04 -0.343537 -0.029914 -1.117301  3.0\n2016-01-05  0.292088  0.769916  0.454676  4.0\n2016-01-06  0.195870 -0.364358 -0.442326  5.0"
     },
     "execution_count": 39,
     "metadata": {},
     "output_type": "execute_result"
    }
   ],
   "source": [
    "df"
   ]
  },
  {
   "cell_type": "code",
   "execution_count": 40,
   "metadata": {},
   "outputs": [
    {
     "data": {
      "text/plain": "DatetimeIndex(['2016-01-01', '2016-01-02', '2016-01-03', '2016-01-04',\n               '2016-01-05', '2016-01-06'],\n              dtype='datetime64[ns]', freq=None)"
     },
     "execution_count": 40,
     "metadata": {},
     "output_type": "execute_result"
    }
   ],
   "source": [
    "dates"
   ]
  },
  {
   "cell_type": "code",
   "execution_count": 47,
   "metadata": {},
   "outputs": [],
   "source": [
    "# 替换操作\n",
    "df.loc[dates[2],'B'] = 0"
   ]
  },
  {
   "cell_type": "code",
   "execution_count": null,
   "metadata": {},
   "outputs": [],
   "source": [
    "df.iloc[0:4] = 0"
   ]
  },
  {
   "cell_type": "code",
   "execution_count": null,
   "metadata": {},
   "outputs": [],
   "source": [
    "df"
   ]
  },
  {
   "cell_type": "code",
   "execution_count": null,
   "metadata": {},
   "outputs": [],
   "source": [
    "# 重新索引\n",
    "new_index = pd.date_range('20160102', periods=7)"
   ]
  },
  {
   "cell_type": "code",
   "execution_count": null,
   "metadata": {},
   "outputs": [],
   "source": [
    "df.reindex(new_index)"
   ]
  },
  {
   "cell_type": "code",
   "execution_count": 48,
   "metadata": {},
   "outputs": [],
   "source": [
    "test = pd.DataFrame(np.random.rand(4,4))"
   ]
  },
  {
   "cell_type": "code",
   "execution_count": 49,
   "metadata": {},
   "outputs": [
    {
     "data": {
      "text/html": "<div>\n<style scoped>\n    .dataframe tbody tr th:only-of-type {\n        vertical-align: middle;\n    }\n\n    .dataframe tbody tr th {\n        vertical-align: top;\n    }\n\n    .dataframe thead th {\n        text-align: right;\n    }\n</style>\n<table border=\"1\" class=\"dataframe\">\n  <thead>\n    <tr style=\"text-align: right;\">\n      <th></th>\n      <th>0</th>\n      <th>1</th>\n      <th>2</th>\n      <th>3</th>\n    </tr>\n  </thead>\n  <tbody>\n    <tr>\n      <td>0</td>\n      <td>0.251929</td>\n      <td>0.540384</td>\n      <td>0.432398</td>\n      <td>0.752480</td>\n    </tr>\n    <tr>\n      <td>1</td>\n      <td>0.468929</td>\n      <td>0.345769</td>\n      <td>0.855000</td>\n      <td>0.853566</td>\n    </tr>\n    <tr>\n      <td>2</td>\n      <td>0.474640</td>\n      <td>0.119401</td>\n      <td>0.167835</td>\n      <td>0.867599</td>\n    </tr>\n    <tr>\n      <td>3</td>\n      <td>0.102077</td>\n      <td>0.208989</td>\n      <td>0.212649</td>\n      <td>0.080837</td>\n    </tr>\n  </tbody>\n</table>\n</div>",
      "text/plain": "          0         1         2         3\n0  0.251929  0.540384  0.432398  0.752480\n1  0.468929  0.345769  0.855000  0.853566\n2  0.474640  0.119401  0.167835  0.867599\n3  0.102077  0.208989  0.212649  0.080837"
     },
     "execution_count": 49,
     "metadata": {},
     "output_type": "execute_result"
    }
   ],
   "source": [
    "test"
   ]
  },
  {
   "cell_type": "code",
   "execution_count": null,
   "metadata": {},
   "outputs": [],
   "source": []
  }
 ]
}