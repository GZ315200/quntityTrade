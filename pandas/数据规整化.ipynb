{
 "nbformat": 4,
 "nbformat_minor": 2,
 "metadata": {
  "language_info": {
   "name": "python",
   "codemirror_mode": {
    "name": "ipython",
    "version": 3
   },
   "version": "3.7.4-final"
  },
  "orig_nbformat": 2,
  "file_extension": ".py",
  "mimetype": "text/x-python",
  "name": "python",
  "npconvert_exporter": "python",
  "pygments_lexer": "ipython3",
  "version": 3,
  "kernelspec": {
   "name": "python37464bitbaseconda66695521631d4bbc9bdbdac638dcafef",
   "display_name": "Python 3.7.4 64-bit ('base': conda)"
  }
 },
 "cells": [
  {
   "cell_type": "code",
   "execution_count": 2,
   "metadata": {},
   "outputs": [],
   "source": [
    "import pandas as pd\n",
    "import numpy as np"
   ]
  },
  {
   "cell_type": "code",
   "execution_count": 3,
   "metadata": {},
   "outputs": [],
   "source": [
    "df1 = pd.DataFrame(np.arange(1,13).reshape(3,4), index=list('abc'), columns=list('ABCD'))"
   ]
  },
  {
   "cell_type": "code",
   "execution_count": 4,
   "metadata": {},
   "outputs": [],
   "source": [
    "df2 = pd.DataFrame(np.arange(1,13).reshape(4,3), index=list('bcde'),\n",
    "columns=list('CDE'))"
   ]
  },
  {
   "cell_type": "code",
   "execution_count": 5,
   "metadata": {},
   "outputs": [
    {
     "data": {
      "text/html": "<div>\n<style scoped>\n    .dataframe tbody tr th:only-of-type {\n        vertical-align: middle;\n    }\n\n    .dataframe tbody tr th {\n        vertical-align: top;\n    }\n\n    .dataframe thead th {\n        text-align: right;\n    }\n</style>\n<table border=\"1\" class=\"dataframe\">\n  <thead>\n    <tr style=\"text-align: right;\">\n      <th></th>\n      <th>A</th>\n      <th>B</th>\n      <th>C</th>\n      <th>D</th>\n    </tr>\n  </thead>\n  <tbody>\n    <tr>\n      <td>a</td>\n      <td>1</td>\n      <td>2</td>\n      <td>3</td>\n      <td>4</td>\n    </tr>\n    <tr>\n      <td>b</td>\n      <td>5</td>\n      <td>6</td>\n      <td>7</td>\n      <td>8</td>\n    </tr>\n    <tr>\n      <td>c</td>\n      <td>9</td>\n      <td>10</td>\n      <td>11</td>\n      <td>12</td>\n    </tr>\n  </tbody>\n</table>\n</div>",
      "text/plain": "   A   B   C   D\na  1   2   3   4\nb  5   6   7   8\nc  9  10  11  12"
     },
     "execution_count": 5,
     "metadata": {},
     "output_type": "execute_result"
    }
   ],
   "source": [
    "df1"
   ]
  },
  {
   "cell_type": "code",
   "execution_count": 6,
   "metadata": {},
   "outputs": [
    {
     "data": {
      "text/html": "<div>\n<style scoped>\n    .dataframe tbody tr th:only-of-type {\n        vertical-align: middle;\n    }\n\n    .dataframe tbody tr th {\n        vertical-align: top;\n    }\n\n    .dataframe thead th {\n        text-align: right;\n    }\n</style>\n<table border=\"1\" class=\"dataframe\">\n  <thead>\n    <tr style=\"text-align: right;\">\n      <th></th>\n      <th>C</th>\n      <th>D</th>\n      <th>E</th>\n    </tr>\n  </thead>\n  <tbody>\n    <tr>\n      <td>b</td>\n      <td>1</td>\n      <td>2</td>\n      <td>3</td>\n    </tr>\n    <tr>\n      <td>c</td>\n      <td>4</td>\n      <td>5</td>\n      <td>6</td>\n    </tr>\n    <tr>\n      <td>d</td>\n      <td>7</td>\n      <td>8</td>\n      <td>9</td>\n    </tr>\n    <tr>\n      <td>e</td>\n      <td>10</td>\n      <td>11</td>\n      <td>12</td>\n    </tr>\n  </tbody>\n</table>\n</div>",
      "text/plain": "    C   D   E\nb   1   2   3\nc   4   5   6\nd   7   8   9\ne  10  11  12"
     },
     "execution_count": 6,
     "metadata": {},
     "output_type": "execute_result"
    }
   ],
   "source": [
    "df2"
   ]
  },
  {
   "cell_type": "code",
   "execution_count": 7,
   "metadata": {},
   "outputs": [],
   "source": [
    "df3 = df1.mul(df2, fill_value=0)"
   ]
  },
  {
   "cell_type": "code",
   "execution_count": 8,
   "metadata": {},
   "outputs": [
    {
     "data": {
      "text/html": "<div>\n<style scoped>\n    .dataframe tbody tr th:only-of-type {\n        vertical-align: middle;\n    }\n\n    .dataframe tbody tr th {\n        vertical-align: top;\n    }\n\n    .dataframe thead th {\n        text-align: right;\n    }\n</style>\n<table border=\"1\" class=\"dataframe\">\n  <thead>\n    <tr style=\"text-align: right;\">\n      <th></th>\n      <th>A</th>\n      <th>B</th>\n      <th>C</th>\n      <th>D</th>\n      <th>E</th>\n    </tr>\n  </thead>\n  <tbody>\n    <tr>\n      <td>a</td>\n      <td>0.0</td>\n      <td>0.0</td>\n      <td>0.0</td>\n      <td>0.0</td>\n      <td>NaN</td>\n    </tr>\n    <tr>\n      <td>b</td>\n      <td>0.0</td>\n      <td>0.0</td>\n      <td>7.0</td>\n      <td>16.0</td>\n      <td>0.0</td>\n    </tr>\n    <tr>\n      <td>c</td>\n      <td>0.0</td>\n      <td>0.0</td>\n      <td>44.0</td>\n      <td>60.0</td>\n      <td>0.0</td>\n    </tr>\n    <tr>\n      <td>d</td>\n      <td>NaN</td>\n      <td>NaN</td>\n      <td>0.0</td>\n      <td>0.0</td>\n      <td>0.0</td>\n    </tr>\n    <tr>\n      <td>e</td>\n      <td>NaN</td>\n      <td>NaN</td>\n      <td>0.0</td>\n      <td>0.0</td>\n      <td>0.0</td>\n    </tr>\n  </tbody>\n</table>\n</div>",
      "text/plain": "     A    B     C     D    E\na  0.0  0.0   0.0   0.0  NaN\nb  0.0  0.0   7.0  16.0  0.0\nc  0.0  0.0  44.0  60.0  0.0\nd  NaN  NaN   0.0   0.0  0.0\ne  NaN  NaN   0.0   0.0  0.0"
     },
     "execution_count": 8,
     "metadata": {},
     "output_type": "execute_result"
    }
   ],
   "source": [
    "df3"
   ]
  },
  {
   "cell_type": "code",
   "execution_count": 9,
   "metadata": {},
   "outputs": [],
   "source": [
    "#　pandas包中的isnull() 和 notnull()方法都可以用于判断数据是否为缺失值（ＮａＮ　或者　Ｎｏｎｅ），如果是缺失值，isnull() 返回值为True，notnull()返回值为Ｆａｌｓｅ\n"
   ]
  },
  {
   "cell_type": "code",
   "execution_count": 10,
   "metadata": {},
   "outputs": [
    {
     "data": {
      "text/html": "<div>\n<style scoped>\n    .dataframe tbody tr th:only-of-type {\n        vertical-align: middle;\n    }\n\n    .dataframe tbody tr th {\n        vertical-align: top;\n    }\n\n    .dataframe thead th {\n        text-align: right;\n    }\n</style>\n<table border=\"1\" class=\"dataframe\">\n  <thead>\n    <tr style=\"text-align: right;\">\n      <th></th>\n      <th>A</th>\n      <th>B</th>\n      <th>C</th>\n      <th>D</th>\n      <th>E</th>\n    </tr>\n  </thead>\n  <tbody>\n    <tr>\n      <td>a</td>\n      <td>False</td>\n      <td>False</td>\n      <td>False</td>\n      <td>False</td>\n      <td>True</td>\n    </tr>\n    <tr>\n      <td>b</td>\n      <td>False</td>\n      <td>False</td>\n      <td>False</td>\n      <td>False</td>\n      <td>False</td>\n    </tr>\n    <tr>\n      <td>c</td>\n      <td>False</td>\n      <td>False</td>\n      <td>False</td>\n      <td>False</td>\n      <td>False</td>\n    </tr>\n    <tr>\n      <td>d</td>\n      <td>True</td>\n      <td>True</td>\n      <td>False</td>\n      <td>False</td>\n      <td>False</td>\n    </tr>\n    <tr>\n      <td>e</td>\n      <td>True</td>\n      <td>True</td>\n      <td>False</td>\n      <td>False</td>\n      <td>False</td>\n    </tr>\n  </tbody>\n</table>\n</div>",
      "text/plain": "       A      B      C      D      E\na  False  False  False  False   True\nb  False  False  False  False  False\nc  False  False  False  False  False\nd   True   True  False  False  False\ne   True   True  False  False  False"
     },
     "execution_count": 10,
     "metadata": {},
     "output_type": "execute_result"
    }
   ],
   "source": [
    "df3.isnull()"
   ]
  },
  {
   "cell_type": "code",
   "execution_count": 11,
   "metadata": {},
   "outputs": [
    {
     "data": {
      "text/html": "<div>\n<style scoped>\n    .dataframe tbody tr th:only-of-type {\n        vertical-align: middle;\n    }\n\n    .dataframe tbody tr th {\n        vertical-align: top;\n    }\n\n    .dataframe thead th {\n        text-align: right;\n    }\n</style>\n<table border=\"1\" class=\"dataframe\">\n  <thead>\n    <tr style=\"text-align: right;\">\n      <th></th>\n      <th>A</th>\n      <th>B</th>\n      <th>C</th>\n      <th>D</th>\n      <th>E</th>\n    </tr>\n  </thead>\n  <tbody>\n    <tr>\n      <td>a</td>\n      <td>True</td>\n      <td>True</td>\n      <td>True</td>\n      <td>True</td>\n      <td>False</td>\n    </tr>\n    <tr>\n      <td>b</td>\n      <td>True</td>\n      <td>True</td>\n      <td>True</td>\n      <td>True</td>\n      <td>True</td>\n    </tr>\n    <tr>\n      <td>c</td>\n      <td>True</td>\n      <td>True</td>\n      <td>True</td>\n      <td>True</td>\n      <td>True</td>\n    </tr>\n    <tr>\n      <td>d</td>\n      <td>False</td>\n      <td>False</td>\n      <td>True</td>\n      <td>True</td>\n      <td>True</td>\n    </tr>\n    <tr>\n      <td>e</td>\n      <td>False</td>\n      <td>False</td>\n      <td>True</td>\n      <td>True</td>\n      <td>True</td>\n    </tr>\n  </tbody>\n</table>\n</div>",
      "text/plain": "       A      B     C     D      E\na   True   True  True  True  False\nb   True   True  True  True   True\nc   True   True  True  True   True\nd  False  False  True  True   True\ne  False  False  True  True   True"
     },
     "execution_count": 11,
     "metadata": {},
     "output_type": "execute_result"
    }
   ],
   "source": [
    "df3.notnull()"
   ]
  },
  {
   "cell_type": "code",
   "execution_count": 12,
   "metadata": {},
   "outputs": [
    {
     "data": {
      "text/plain": "a    0.0\nb    0.0\nc    0.0\nName: B, dtype: float64"
     },
     "execution_count": 12,
     "metadata": {},
     "output_type": "execute_result"
    }
   ],
   "source": [
    "# 选出不是缺失值的数据\n",
    "df3.B[df3.B.notnull()]"
   ]
  },
  {
   "cell_type": "code",
   "execution_count": 13,
   "metadata": {},
   "outputs": [],
   "source": [
    "# 缺失值的填充\n",
    "df4 = pd.DataFrame(np.random.rand(5,4), index=list('abcde'), columns=list('ABCD'))"
   ]
  },
  {
   "cell_type": "code",
   "execution_count": 14,
   "metadata": {},
   "outputs": [
    {
     "data": {
      "text/html": "<div>\n<style scoped>\n    .dataframe tbody tr th:only-of-type {\n        vertical-align: middle;\n    }\n\n    .dataframe tbody tr th {\n        vertical-align: top;\n    }\n\n    .dataframe thead th {\n        text-align: right;\n    }\n</style>\n<table border=\"1\" class=\"dataframe\">\n  <thead>\n    <tr style=\"text-align: right;\">\n      <th></th>\n      <th>A</th>\n      <th>B</th>\n      <th>C</th>\n      <th>D</th>\n    </tr>\n  </thead>\n  <tbody>\n    <tr>\n      <td>a</td>\n      <td>0.162368</td>\n      <td>0.076158</td>\n      <td>0.387308</td>\n      <td>0.496984</td>\n    </tr>\n    <tr>\n      <td>b</td>\n      <td>0.979414</td>\n      <td>0.502230</td>\n      <td>0.756083</td>\n      <td>0.625226</td>\n    </tr>\n    <tr>\n      <td>c</td>\n      <td>0.040117</td>\n      <td>0.425248</td>\n      <td>0.489753</td>\n      <td>0.890388</td>\n    </tr>\n    <tr>\n      <td>d</td>\n      <td>0.407977</td>\n      <td>0.335268</td>\n      <td>0.655206</td>\n      <td>0.560663</td>\n    </tr>\n    <tr>\n      <td>e</td>\n      <td>0.154087</td>\n      <td>0.430670</td>\n      <td>0.018348</td>\n      <td>0.143374</td>\n    </tr>\n  </tbody>\n</table>\n</div>",
      "text/plain": "          A         B         C         D\na  0.162368  0.076158  0.387308  0.496984\nb  0.979414  0.502230  0.756083  0.625226\nc  0.040117  0.425248  0.489753  0.890388\nd  0.407977  0.335268  0.655206  0.560663\ne  0.154087  0.430670  0.018348  0.143374"
     },
     "execution_count": 14,
     "metadata": {},
     "output_type": "execute_result"
    }
   ],
   "source": [
    "df4"
   ]
  },
  {
   "cell_type": "code",
   "execution_count": 19,
   "metadata": {},
   "outputs": [],
   "source": [
    "df4.ix['c', 'A'] = np.NAN\n",
    "df4.ix['b':'d', 'C'] = np.NAN"
   ]
  },
  {
   "cell_type": "code",
   "execution_count": 20,
   "metadata": {},
   "outputs": [
    {
     "data": {
      "text/html": "<div>\n<style scoped>\n    .dataframe tbody tr th:only-of-type {\n        vertical-align: middle;\n    }\n\n    .dataframe tbody tr th {\n        vertical-align: top;\n    }\n\n    .dataframe thead th {\n        text-align: right;\n    }\n</style>\n<table border=\"1\" class=\"dataframe\">\n  <thead>\n    <tr style=\"text-align: right;\">\n      <th></th>\n      <th>A</th>\n      <th>B</th>\n      <th>C</th>\n      <th>D</th>\n    </tr>\n  </thead>\n  <tbody>\n    <tr>\n      <td>a</td>\n      <td>0.162368</td>\n      <td>0.076158</td>\n      <td>0.387308</td>\n      <td>0.496984</td>\n    </tr>\n    <tr>\n      <td>b</td>\n      <td>0.979414</td>\n      <td>0.502230</td>\n      <td>NaN</td>\n      <td>0.625226</td>\n    </tr>\n    <tr>\n      <td>c</td>\n      <td>NaN</td>\n      <td>0.425248</td>\n      <td>NaN</td>\n      <td>0.890388</td>\n    </tr>\n    <tr>\n      <td>d</td>\n      <td>0.407977</td>\n      <td>0.335268</td>\n      <td>NaN</td>\n      <td>0.560663</td>\n    </tr>\n    <tr>\n      <td>e</td>\n      <td>0.154087</td>\n      <td>0.430670</td>\n      <td>0.018348</td>\n      <td>0.143374</td>\n    </tr>\n  </tbody>\n</table>\n</div>",
      "text/plain": "          A         B         C         D\na  0.162368  0.076158  0.387308  0.496984\nb  0.979414  0.502230       NaN  0.625226\nc       NaN  0.425248       NaN  0.890388\nd  0.407977  0.335268       NaN  0.560663\ne  0.154087  0.430670  0.018348  0.143374"
     },
     "execution_count": 20,
     "metadata": {},
     "output_type": "execute_result"
    }
   ],
   "source": [
    "df4"
   ]
  },
  {
   "cell_type": "code",
   "execution_count": 21,
   "metadata": {},
   "outputs": [
    {
     "data": {
      "text/html": "<div>\n<style scoped>\n    .dataframe tbody tr th:only-of-type {\n        vertical-align: middle;\n    }\n\n    .dataframe tbody tr th {\n        vertical-align: top;\n    }\n\n    .dataframe thead th {\n        text-align: right;\n    }\n</style>\n<table border=\"1\" class=\"dataframe\">\n  <thead>\n    <tr style=\"text-align: right;\">\n      <th></th>\n      <th>A</th>\n      <th>B</th>\n      <th>C</th>\n      <th>D</th>\n    </tr>\n  </thead>\n  <tbody>\n    <tr>\n      <td>a</td>\n      <td>0.162368</td>\n      <td>0.076158</td>\n      <td>0.387308</td>\n      <td>0.496984</td>\n    </tr>\n    <tr>\n      <td>b</td>\n      <td>0.979414</td>\n      <td>0.502230</td>\n      <td>0.000000</td>\n      <td>0.625226</td>\n    </tr>\n    <tr>\n      <td>c</td>\n      <td>0.000000</td>\n      <td>0.425248</td>\n      <td>0.000000</td>\n      <td>0.890388</td>\n    </tr>\n    <tr>\n      <td>d</td>\n      <td>0.407977</td>\n      <td>0.335268</td>\n      <td>0.000000</td>\n      <td>0.560663</td>\n    </tr>\n    <tr>\n      <td>e</td>\n      <td>0.154087</td>\n      <td>0.430670</td>\n      <td>0.018348</td>\n      <td>0.143374</td>\n    </tr>\n  </tbody>\n</table>\n</div>",
      "text/plain": "          A         B         C         D\na  0.162368  0.076158  0.387308  0.496984\nb  0.979414  0.502230  0.000000  0.625226\nc  0.000000  0.425248  0.000000  0.890388\nd  0.407977  0.335268  0.000000  0.560663\ne  0.154087  0.430670  0.018348  0.143374"
     },
     "execution_count": 21,
     "metadata": {},
     "output_type": "execute_result"
    }
   ],
   "source": [
    "df4.fillna(0)"
   ]
  },
  {
   "cell_type": "code",
   "execution_count": 22,
   "metadata": {},
   "outputs": [
    {
     "data": {
      "text/html": "<div>\n<style scoped>\n    .dataframe tbody tr th:only-of-type {\n        vertical-align: middle;\n    }\n\n    .dataframe tbody tr th {\n        vertical-align: top;\n    }\n\n    .dataframe thead th {\n        text-align: right;\n    }\n</style>\n<table border=\"1\" class=\"dataframe\">\n  <thead>\n    <tr style=\"text-align: right;\">\n      <th></th>\n      <th>A</th>\n      <th>B</th>\n      <th>C</th>\n      <th>D</th>\n    </tr>\n  </thead>\n  <tbody>\n    <tr>\n      <td>a</td>\n      <td>0.162368</td>\n      <td>0.076158</td>\n      <td>0.387308</td>\n      <td>0.496984</td>\n    </tr>\n    <tr>\n      <td>b</td>\n      <td>0.979414</td>\n      <td>0.502230</td>\n      <td>0.387308</td>\n      <td>0.625226</td>\n    </tr>\n    <tr>\n      <td>c</td>\n      <td>0.979414</td>\n      <td>0.425248</td>\n      <td>0.387308</td>\n      <td>0.890388</td>\n    </tr>\n    <tr>\n      <td>d</td>\n      <td>0.407977</td>\n      <td>0.335268</td>\n      <td>0.387308</td>\n      <td>0.560663</td>\n    </tr>\n    <tr>\n      <td>e</td>\n      <td>0.154087</td>\n      <td>0.430670</td>\n      <td>0.018348</td>\n      <td>0.143374</td>\n    </tr>\n  </tbody>\n</table>\n</div>",
      "text/plain": "          A         B         C         D\na  0.162368  0.076158  0.387308  0.496984\nb  0.979414  0.502230  0.387308  0.625226\nc  0.979414  0.425248  0.387308  0.890388\nd  0.407977  0.335268  0.387308  0.560663\ne  0.154087  0.430670  0.018348  0.143374"
     },
     "execution_count": 22,
     "metadata": {},
     "output_type": "execute_result"
    }
   ],
   "source": [
    "# 前一个观测填充,列方向上的\n",
    "df4.fillna(method='ffill')"
   ]
  },
  {
   "cell_type": "code",
   "execution_count": 23,
   "metadata": {},
   "outputs": [
    {
     "data": {
      "text/html": "<div>\n<style scoped>\n    .dataframe tbody tr th:only-of-type {\n        vertical-align: middle;\n    }\n\n    .dataframe tbody tr th {\n        vertical-align: top;\n    }\n\n    .dataframe thead th {\n        text-align: right;\n    }\n</style>\n<table border=\"1\" class=\"dataframe\">\n  <thead>\n    <tr style=\"text-align: right;\">\n      <th></th>\n      <th>A</th>\n      <th>B</th>\n      <th>C</th>\n      <th>D</th>\n    </tr>\n  </thead>\n  <tbody>\n    <tr>\n      <td>a</td>\n      <td>0.162368</td>\n      <td>0.076158</td>\n      <td>0.387308</td>\n      <td>0.496984</td>\n    </tr>\n    <tr>\n      <td>b</td>\n      <td>0.979414</td>\n      <td>0.502230</td>\n      <td>0.018348</td>\n      <td>0.625226</td>\n    </tr>\n    <tr>\n      <td>c</td>\n      <td>0.407977</td>\n      <td>0.425248</td>\n      <td>0.018348</td>\n      <td>0.890388</td>\n    </tr>\n    <tr>\n      <td>d</td>\n      <td>0.407977</td>\n      <td>0.335268</td>\n      <td>0.018348</td>\n      <td>0.560663</td>\n    </tr>\n    <tr>\n      <td>e</td>\n      <td>0.154087</td>\n      <td>0.430670</td>\n      <td>0.018348</td>\n      <td>0.143374</td>\n    </tr>\n  </tbody>\n</table>\n</div>",
      "text/plain": "          A         B         C         D\na  0.162368  0.076158  0.387308  0.496984\nb  0.979414  0.502230  0.018348  0.625226\nc  0.407977  0.425248  0.018348  0.890388\nd  0.407977  0.335268  0.018348  0.560663\ne  0.154087  0.430670  0.018348  0.143374"
     },
     "execution_count": 23,
     "metadata": {},
     "output_type": "execute_result"
    }
   ],
   "source": [
    "# 后一个观测值填充,列方向下的\n",
    "df4.fillna(method='bfill')"
   ]
  },
  {
   "cell_type": "code",
   "execution_count": 25,
   "metadata": {},
   "outputs": [
    {
     "data": {
      "text/html": "<div>\n<style scoped>\n    .dataframe tbody tr th:only-of-type {\n        vertical-align: middle;\n    }\n\n    .dataframe tbody tr th {\n        vertical-align: top;\n    }\n\n    .dataframe thead th {\n        text-align: right;\n    }\n</style>\n<table border=\"1\" class=\"dataframe\">\n  <thead>\n    <tr style=\"text-align: right;\">\n      <th></th>\n      <th>A</th>\n      <th>B</th>\n      <th>C</th>\n      <th>D</th>\n    </tr>\n  </thead>\n  <tbody>\n    <tr>\n      <td>a</td>\n      <td>0.162368</td>\n      <td>0.076158</td>\n      <td>0.387308</td>\n      <td>0.496984</td>\n    </tr>\n    <tr>\n      <td>b</td>\n      <td>0.979414</td>\n      <td>0.502230</td>\n      <td>0.625226</td>\n      <td>0.625226</td>\n    </tr>\n    <tr>\n      <td>c</td>\n      <td>0.425248</td>\n      <td>0.425248</td>\n      <td>0.890388</td>\n      <td>0.890388</td>\n    </tr>\n    <tr>\n      <td>d</td>\n      <td>0.407977</td>\n      <td>0.335268</td>\n      <td>0.560663</td>\n      <td>0.560663</td>\n    </tr>\n    <tr>\n      <td>e</td>\n      <td>0.154087</td>\n      <td>0.430670</td>\n      <td>0.018348</td>\n      <td>0.143374</td>\n    </tr>\n  </tbody>\n</table>\n</div>",
      "text/plain": "          A         B         C         D\na  0.162368  0.076158  0.387308  0.496984\nb  0.979414  0.502230  0.625226  0.625226\nc  0.425248  0.425248  0.890388  0.890388\nd  0.407977  0.335268  0.560663  0.560663\ne  0.154087  0.430670  0.018348  0.143374"
     },
     "execution_count": 25,
     "metadata": {},
     "output_type": "execute_result"
    }
   ],
   "source": [
    "# 后一个观测值填充, 行方向上\n",
    "df4.fillna(method='backfill', axis=1)"
   ]
  },
  {
   "cell_type": "code",
   "execution_count": 26,
   "metadata": {},
   "outputs": [
    {
     "data": {
      "text/html": "<div>\n<style scoped>\n    .dataframe tbody tr th:only-of-type {\n        vertical-align: middle;\n    }\n\n    .dataframe tbody tr th {\n        vertical-align: top;\n    }\n\n    .dataframe thead th {\n        text-align: right;\n    }\n</style>\n<table border=\"1\" class=\"dataframe\">\n  <thead>\n    <tr style=\"text-align: right;\">\n      <th></th>\n      <th>A</th>\n      <th>B</th>\n      <th>C</th>\n      <th>D</th>\n    </tr>\n  </thead>\n  <tbody>\n    <tr>\n      <td>a</td>\n      <td>0.162368</td>\n      <td>0.076158</td>\n      <td>0.387308</td>\n      <td>0.496984</td>\n    </tr>\n    <tr>\n      <td>b</td>\n      <td>0.979414</td>\n      <td>0.502230</td>\n      <td>0.018348</td>\n      <td>0.625226</td>\n    </tr>\n    <tr>\n      <td>c</td>\n      <td>0.407977</td>\n      <td>0.425248</td>\n      <td>0.018348</td>\n      <td>0.890388</td>\n    </tr>\n    <tr>\n      <td>d</td>\n      <td>0.407977</td>\n      <td>0.335268</td>\n      <td>0.018348</td>\n      <td>0.560663</td>\n    </tr>\n    <tr>\n      <td>e</td>\n      <td>0.154087</td>\n      <td>0.430670</td>\n      <td>0.018348</td>\n      <td>0.143374</td>\n    </tr>\n  </tbody>\n</table>\n</div>",
      "text/plain": "          A         B         C         D\na  0.162368  0.076158  0.387308  0.496984\nb  0.979414  0.502230  0.018348  0.625226\nc  0.407977  0.425248  0.018348  0.890388\nd  0.407977  0.335268  0.018348  0.560663\ne  0.154087  0.430670  0.018348  0.143374"
     },
     "execution_count": 26,
     "metadata": {},
     "output_type": "execute_result"
    }
   ],
   "source": [
    "df4.fillna(method='backfill', axis=0)"
   ]
  },
  {
   "cell_type": "code",
   "execution_count": 27,
   "metadata": {},
   "outputs": [
    {
     "data": {
      "text/html": "<div>\n<style scoped>\n    .dataframe tbody tr th:only-of-type {\n        vertical-align: middle;\n    }\n\n    .dataframe tbody tr th {\n        vertical-align: top;\n    }\n\n    .dataframe thead th {\n        text-align: right;\n    }\n</style>\n<table border=\"1\" class=\"dataframe\">\n  <thead>\n    <tr style=\"text-align: right;\">\n      <th></th>\n      <th>A</th>\n      <th>B</th>\n      <th>C</th>\n      <th>D</th>\n    </tr>\n  </thead>\n  <tbody>\n    <tr>\n      <td>a</td>\n      <td>0.162368</td>\n      <td>0.076158</td>\n      <td>0.387308</td>\n      <td>0.496984</td>\n    </tr>\n    <tr>\n      <td>b</td>\n      <td>0.979414</td>\n      <td>0.502230</td>\n      <td>0.387308</td>\n      <td>0.625226</td>\n    </tr>\n    <tr>\n      <td>c</td>\n      <td>0.979414</td>\n      <td>0.425248</td>\n      <td>0.387308</td>\n      <td>0.890388</td>\n    </tr>\n    <tr>\n      <td>d</td>\n      <td>0.407977</td>\n      <td>0.335268</td>\n      <td>0.387308</td>\n      <td>0.560663</td>\n    </tr>\n    <tr>\n      <td>e</td>\n      <td>0.154087</td>\n      <td>0.430670</td>\n      <td>0.018348</td>\n      <td>0.143374</td>\n    </tr>\n  </tbody>\n</table>\n</div>",
      "text/plain": "          A         B         C         D\na  0.162368  0.076158  0.387308  0.496984\nb  0.979414  0.502230  0.387308  0.625226\nc  0.979414  0.425248  0.387308  0.890388\nd  0.407977  0.335268  0.387308  0.560663\ne  0.154087  0.430670  0.018348  0.143374"
     },
     "execution_count": 27,
     "metadata": {},
     "output_type": "execute_result"
    }
   ],
   "source": [
    "#连续的ＮａＮ值按照ｌｉｍｉｔ指定个数填充\n",
    "df4.fillna(method='pad', limit=4)"
   ]
  },
  {
   "cell_type": "code",
   "execution_count": 28,
   "metadata": {},
   "outputs": [
    {
     "data": {
      "text/html": "<div>\n<style scoped>\n    .dataframe tbody tr th:only-of-type {\n        vertical-align: middle;\n    }\n\n    .dataframe tbody tr th {\n        vertical-align: top;\n    }\n\n    .dataframe thead th {\n        text-align: right;\n    }\n</style>\n<table border=\"1\" class=\"dataframe\">\n  <thead>\n    <tr style=\"text-align: right;\">\n      <th></th>\n      <th>A</th>\n      <th>B</th>\n      <th>C</th>\n      <th>D</th>\n    </tr>\n  </thead>\n  <tbody>\n    <tr>\n      <td>a</td>\n      <td>0.162368</td>\n      <td>0.076158</td>\n      <td>0.387308</td>\n      <td>0.496984</td>\n    </tr>\n    <tr>\n      <td>b</td>\n      <td>0.979414</td>\n      <td>0.502230</td>\n      <td>0.387308</td>\n      <td>0.625226</td>\n    </tr>\n    <tr>\n      <td>c</td>\n      <td>0.979414</td>\n      <td>0.425248</td>\n      <td>0.387308</td>\n      <td>0.890388</td>\n    </tr>\n    <tr>\n      <td>d</td>\n      <td>0.407977</td>\n      <td>0.335268</td>\n      <td>NaN</td>\n      <td>0.560663</td>\n    </tr>\n    <tr>\n      <td>e</td>\n      <td>0.154087</td>\n      <td>0.430670</td>\n      <td>0.018348</td>\n      <td>0.143374</td>\n    </tr>\n  </tbody>\n</table>\n</div>",
      "text/plain": "          A         B         C         D\na  0.162368  0.076158  0.387308  0.496984\nb  0.979414  0.502230  0.387308  0.625226\nc  0.979414  0.425248  0.387308  0.890388\nd  0.407977  0.335268       NaN  0.560663\ne  0.154087  0.430670  0.018348  0.143374"
     },
     "execution_count": 28,
     "metadata": {},
     "output_type": "execute_result"
    }
   ],
   "source": [
    "df4.fillna(method='pad', limit=2)"
   ]
  },
  {
   "cell_type": "code",
   "execution_count": 29,
   "metadata": {},
   "outputs": [],
   "source": [
    "# 填充完的替代原ＤａｔａＦｒａｍｅｄ\n",
    "df4.fillna('missing', inplace=True)"
   ]
  },
  {
   "cell_type": "code",
   "execution_count": 30,
   "metadata": {},
   "outputs": [
    {
     "data": {
      "text/html": "<div>\n<style scoped>\n    .dataframe tbody tr th:only-of-type {\n        vertical-align: middle;\n    }\n\n    .dataframe tbody tr th {\n        vertical-align: top;\n    }\n\n    .dataframe thead th {\n        text-align: right;\n    }\n</style>\n<table border=\"1\" class=\"dataframe\">\n  <thead>\n    <tr style=\"text-align: right;\">\n      <th></th>\n      <th>A</th>\n      <th>B</th>\n      <th>C</th>\n      <th>D</th>\n    </tr>\n  </thead>\n  <tbody>\n    <tr>\n      <td>a</td>\n      <td>0.162368</td>\n      <td>0.076158</td>\n      <td>0.387308</td>\n      <td>0.496984</td>\n    </tr>\n    <tr>\n      <td>b</td>\n      <td>0.979414</td>\n      <td>0.502230</td>\n      <td>missing</td>\n      <td>0.625226</td>\n    </tr>\n    <tr>\n      <td>c</td>\n      <td>missing</td>\n      <td>0.425248</td>\n      <td>missing</td>\n      <td>0.890388</td>\n    </tr>\n    <tr>\n      <td>d</td>\n      <td>0.407977</td>\n      <td>0.335268</td>\n      <td>missing</td>\n      <td>0.560663</td>\n    </tr>\n    <tr>\n      <td>e</td>\n      <td>0.154087</td>\n      <td>0.430670</td>\n      <td>0.0183485</td>\n      <td>0.143374</td>\n    </tr>\n  </tbody>\n</table>\n</div>",
      "text/plain": "          A         B          C         D\na  0.162368  0.076158   0.387308  0.496984\nb  0.979414  0.502230    missing  0.625226\nc   missing  0.425248    missing  0.890388\nd  0.407977  0.335268    missing  0.560663\ne  0.154087  0.430670  0.0183485  0.143374"
     },
     "execution_count": 30,
     "metadata": {},
     "output_type": "execute_result"
    }
   ],
   "source": [
    "df4"
   ]
  },
  {
   "cell_type": "code",
   "execution_count": 31,
   "metadata": {},
   "outputs": [],
   "source": [
    "# 缺失值的选择删除\n",
    "# DataFrame.dropna(axis=0, how='any', trash=None)\n",
    "# axis = 0 指删除包含缺失值的行，axis = 1指删除包含缺失值的列，默认为0\n",
    "# how: how = any 表示只要有一个缺失值就删除该行（列），how = all表示只有当所有的元素都为缺失值时才删除该行或列，ｈｏｗ默认取值为ａｎｙ\n",
    "# thresh 比如thresh=5表示只有当某行（列）缺失值的数量大于或等于５时删除该行或列，默认为Ｎｏｎｅ"
   ]
  },
  {
   "cell_type": "code",
   "execution_count": 32,
   "metadata": {},
   "outputs": [],
   "source": [
    "df4.ix['c', 'A'] = np.NAN"
   ]
  },
  {
   "cell_type": "code",
   "execution_count": 33,
   "metadata": {},
   "outputs": [],
   "source": [
    "df4.ix['b':'d', 'C'] = np.NAN"
   ]
  },
  {
   "cell_type": "code",
   "execution_count": 34,
   "metadata": {},
   "outputs": [
    {
     "data": {
      "text/html": "<div>\n<style scoped>\n    .dataframe tbody tr th:only-of-type {\n        vertical-align: middle;\n    }\n\n    .dataframe tbody tr th {\n        vertical-align: top;\n    }\n\n    .dataframe thead th {\n        text-align: right;\n    }\n</style>\n<table border=\"1\" class=\"dataframe\">\n  <thead>\n    <tr style=\"text-align: right;\">\n      <th></th>\n      <th>A</th>\n      <th>B</th>\n      <th>C</th>\n      <th>D</th>\n    </tr>\n  </thead>\n  <tbody>\n    <tr>\n      <td>a</td>\n      <td>0.162368</td>\n      <td>0.076158</td>\n      <td>0.387308</td>\n      <td>0.496984</td>\n    </tr>\n    <tr>\n      <td>b</td>\n      <td>0.979414</td>\n      <td>0.502230</td>\n      <td>NaN</td>\n      <td>0.625226</td>\n    </tr>\n    <tr>\n      <td>c</td>\n      <td>NaN</td>\n      <td>0.425248</td>\n      <td>NaN</td>\n      <td>0.890388</td>\n    </tr>\n    <tr>\n      <td>d</td>\n      <td>0.407977</td>\n      <td>0.335268</td>\n      <td>NaN</td>\n      <td>0.560663</td>\n    </tr>\n    <tr>\n      <td>e</td>\n      <td>0.154087</td>\n      <td>0.430670</td>\n      <td>0.0183485</td>\n      <td>0.143374</td>\n    </tr>\n  </tbody>\n</table>\n</div>",
      "text/plain": "          A         B          C         D\na  0.162368  0.076158   0.387308  0.496984\nb  0.979414  0.502230        NaN  0.625226\nc       NaN  0.425248        NaN  0.890388\nd  0.407977  0.335268        NaN  0.560663\ne  0.154087  0.430670  0.0183485  0.143374"
     },
     "execution_count": 34,
     "metadata": {},
     "output_type": "execute_result"
    }
   ],
   "source": [
    "df4"
   ]
  },
  {
   "cell_type": "code",
   "execution_count": 35,
   "metadata": {},
   "outputs": [
    {
     "data": {
      "text/html": "<div>\n<style scoped>\n    .dataframe tbody tr th:only-of-type {\n        vertical-align: middle;\n    }\n\n    .dataframe tbody tr th {\n        vertical-align: top;\n    }\n\n    .dataframe thead th {\n        text-align: right;\n    }\n</style>\n<table border=\"1\" class=\"dataframe\">\n  <thead>\n    <tr style=\"text-align: right;\">\n      <th></th>\n      <th>A</th>\n      <th>B</th>\n      <th>D</th>\n    </tr>\n  </thead>\n  <tbody>\n    <tr>\n      <td>a</td>\n      <td>0.162368</td>\n      <td>0.076158</td>\n      <td>0.496984</td>\n    </tr>\n    <tr>\n      <td>b</td>\n      <td>0.979414</td>\n      <td>0.502230</td>\n      <td>0.625226</td>\n    </tr>\n    <tr>\n      <td>c</td>\n      <td>NaN</td>\n      <td>0.425248</td>\n      <td>0.890388</td>\n    </tr>\n    <tr>\n      <td>d</td>\n      <td>0.407977</td>\n      <td>0.335268</td>\n      <td>0.560663</td>\n    </tr>\n    <tr>\n      <td>e</td>\n      <td>0.154087</td>\n      <td>0.430670</td>\n      <td>0.143374</td>\n    </tr>\n  </tbody>\n</table>\n</div>",
      "text/plain": "          A         B         D\na  0.162368  0.076158  0.496984\nb  0.979414  0.502230  0.625226\nc       NaN  0.425248  0.890388\nd  0.407977  0.335268  0.560663\ne  0.154087  0.430670  0.143374"
     },
     "execution_count": 35,
     "metadata": {},
     "output_type": "execute_result"
    }
   ],
   "source": [
    "df4.dropna(axis=1, thresh=3)"
   ]
  },
  {
   "cell_type": "code",
   "execution_count": 36,
   "metadata": {},
   "outputs": [
    {
     "data": {
      "text/html": "<div>\n<style scoped>\n    .dataframe tbody tr th:only-of-type {\n        vertical-align: middle;\n    }\n\n    .dataframe tbody tr th {\n        vertical-align: top;\n    }\n\n    .dataframe thead th {\n        text-align: right;\n    }\n</style>\n<table border=\"1\" class=\"dataframe\">\n  <thead>\n    <tr style=\"text-align: right;\">\n      <th></th>\n      <th>A</th>\n      <th>B</th>\n      <th>C</th>\n      <th>D</th>\n    </tr>\n  </thead>\n  <tbody>\n    <tr>\n      <td>a</td>\n      <td>0.162368</td>\n      <td>0.076158</td>\n      <td>0.387308</td>\n      <td>0.496984</td>\n    </tr>\n    <tr>\n      <td>b</td>\n      <td>0.979414</td>\n      <td>0.502230</td>\n      <td>NaN</td>\n      <td>0.625226</td>\n    </tr>\n    <tr>\n      <td>c</td>\n      <td>NaN</td>\n      <td>0.425248</td>\n      <td>NaN</td>\n      <td>0.890388</td>\n    </tr>\n    <tr>\n      <td>d</td>\n      <td>0.407977</td>\n      <td>0.335268</td>\n      <td>NaN</td>\n      <td>0.560663</td>\n    </tr>\n    <tr>\n      <td>e</td>\n      <td>0.154087</td>\n      <td>0.430670</td>\n      <td>0.0183485</td>\n      <td>0.143374</td>\n    </tr>\n  </tbody>\n</table>\n</div>",
      "text/plain": "          A         B          C         D\na  0.162368  0.076158   0.387308  0.496984\nb  0.979414  0.502230        NaN  0.625226\nc       NaN  0.425248        NaN  0.890388\nd  0.407977  0.335268        NaN  0.560663\ne  0.154087  0.430670  0.0183485  0.143374"
     },
     "execution_count": 36,
     "metadata": {},
     "output_type": "execute_result"
    }
   ],
   "source": [
    "df4.dropna(axis=1, how='all')"
   ]
  },
  {
   "cell_type": "code",
   "execution_count": 37,
   "metadata": {},
   "outputs": [],
   "source": [
    "# 删除重复数据\n",
    "df5 = pd.DataFrame({'c1':['apple'] * 3 + ['banana'] * 3 + ['apple'], \n",
    "'c2': ['a', 'a', 3, 3, 'b', 'b', 'a']})"
   ]
  },
  {
   "cell_type": "code",
   "execution_count": 38,
   "metadata": {},
   "outputs": [
    {
     "data": {
      "text/html": "<div>\n<style scoped>\n    .dataframe tbody tr th:only-of-type {\n        vertical-align: middle;\n    }\n\n    .dataframe tbody tr th {\n        vertical-align: top;\n    }\n\n    .dataframe thead th {\n        text-align: right;\n    }\n</style>\n<table border=\"1\" class=\"dataframe\">\n  <thead>\n    <tr style=\"text-align: right;\">\n      <th></th>\n      <th>c1</th>\n      <th>c2</th>\n    </tr>\n  </thead>\n  <tbody>\n    <tr>\n      <td>0</td>\n      <td>apple</td>\n      <td>a</td>\n    </tr>\n    <tr>\n      <td>1</td>\n      <td>apple</td>\n      <td>a</td>\n    </tr>\n    <tr>\n      <td>2</td>\n      <td>apple</td>\n      <td>3</td>\n    </tr>\n    <tr>\n      <td>3</td>\n      <td>banana</td>\n      <td>3</td>\n    </tr>\n    <tr>\n      <td>4</td>\n      <td>banana</td>\n      <td>b</td>\n    </tr>\n    <tr>\n      <td>5</td>\n      <td>banana</td>\n      <td>b</td>\n    </tr>\n    <tr>\n      <td>6</td>\n      <td>apple</td>\n      <td>a</td>\n    </tr>\n  </tbody>\n</table>\n</div>",
      "text/plain": "       c1 c2\n0   apple  a\n1   apple  a\n2   apple  3\n3  banana  3\n4  banana  b\n5  banana  b\n6   apple  a"
     },
     "execution_count": 38,
     "metadata": {},
     "output_type": "execute_result"
    }
   ],
   "source": [
    "df5"
   ]
  },
  {
   "cell_type": "code",
   "execution_count": 39,
   "metadata": {},
   "outputs": [
    {
     "data": {
      "text/plain": "0    False\n1     True\n2    False\n3    False\n4    False\n5     True\n6     True\ndtype: bool"
     },
     "execution_count": 39,
     "metadata": {},
     "output_type": "execute_result"
    }
   ],
   "source": [
    "df5.duplicated()"
   ]
  },
  {
   "cell_type": "code",
   "execution_count": 40,
   "metadata": {},
   "outputs": [
    {
     "data": {
      "text/html": "<div>\n<style scoped>\n    .dataframe tbody tr th:only-of-type {\n        vertical-align: middle;\n    }\n\n    .dataframe tbody tr th {\n        vertical-align: top;\n    }\n\n    .dataframe thead th {\n        text-align: right;\n    }\n</style>\n<table border=\"1\" class=\"dataframe\">\n  <thead>\n    <tr style=\"text-align: right;\">\n      <th></th>\n      <th>c1</th>\n      <th>c2</th>\n    </tr>\n  </thead>\n  <tbody>\n    <tr>\n      <td>0</td>\n      <td>apple</td>\n      <td>a</td>\n    </tr>\n    <tr>\n      <td>2</td>\n      <td>apple</td>\n      <td>3</td>\n    </tr>\n    <tr>\n      <td>3</td>\n      <td>banana</td>\n      <td>3</td>\n    </tr>\n    <tr>\n      <td>4</td>\n      <td>banana</td>\n      <td>b</td>\n    </tr>\n  </tbody>\n</table>\n</div>",
      "text/plain": "       c1 c2\n0   apple  a\n2   apple  3\n3  banana  3\n4  banana  b"
     },
     "execution_count": 40,
     "metadata": {},
     "output_type": "execute_result"
    }
   ],
   "source": [
    "df5.drop_duplicates()"
   ]
  },
  {
   "cell_type": "code",
   "execution_count": 41,
   "metadata": {},
   "outputs": [],
   "source": [
    "# 以上两种方法都是默认方法"
   ]
  },
  {
   "cell_type": "code",
   "execution_count": 42,
   "metadata": {},
   "outputs": [
    {
     "data": {
      "text/plain": "0    False\n1     True\n2    False\n3     True\n4    False\n5     True\n6     True\ndtype: bool"
     },
     "execution_count": 42,
     "metadata": {},
     "output_type": "execute_result"
    }
   ],
   "source": [
    "df5.duplicated(['c2'])"
   ]
  },
  {
   "cell_type": "code",
   "execution_count": 43,
   "metadata": {},
   "outputs": [
    {
     "data": {
      "text/html": "<div>\n<style scoped>\n    .dataframe tbody tr th:only-of-type {\n        vertical-align: middle;\n    }\n\n    .dataframe tbody tr th {\n        vertical-align: top;\n    }\n\n    .dataframe thead th {\n        text-align: right;\n    }\n</style>\n<table border=\"1\" class=\"dataframe\">\n  <thead>\n    <tr style=\"text-align: right;\">\n      <th></th>\n      <th>c1</th>\n      <th>c2</th>\n    </tr>\n  </thead>\n  <tbody>\n    <tr>\n      <td>0</td>\n      <td>apple</td>\n      <td>a</td>\n    </tr>\n    <tr>\n      <td>2</td>\n      <td>apple</td>\n      <td>3</td>\n    </tr>\n    <tr>\n      <td>4</td>\n      <td>banana</td>\n      <td>b</td>\n    </tr>\n  </tbody>\n</table>\n</div>",
      "text/plain": "       c1 c2\n0   apple  a\n2   apple  3\n4  banana  b"
     },
     "execution_count": 43,
     "metadata": {},
     "output_type": "execute_result"
    }
   ],
   "source": [
    "df5.drop_duplicates(['c2'])"
   ]
  },
  {
   "cell_type": "code",
   "execution_count": null,
   "metadata": {},
   "outputs": [],
   "source": []
  }
 ]
}