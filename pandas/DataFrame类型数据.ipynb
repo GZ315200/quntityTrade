{
 "nbformat": 4,
 "nbformat_minor": 2,
 "metadata": {
  "language_info": {
   "name": "python",
   "codemirror_mode": {
    "name": "ipython",
    "version": 3
   },
   "version": "3.7.4-final"
  },
  "orig_nbformat": 2,
  "file_extension": ".py",
  "mimetype": "text/x-python",
  "name": "python",
  "npconvert_exporter": "python",
  "pygments_lexer": "ipython3",
  "version": 3,
  "kernelspec": {
   "name": "python37464bitbaseconda66695521631d4bbc9bdbdac638dcafef",
   "display_name": "Python 3.7.4 64-bit ('base': conda)"
  }
 },
 "cells": [
  {
   "cell_type": "code",
   "execution_count": 3,
   "metadata": {},
   "outputs": [],
   "source": [
    "# 创建DataFrame对象"
   ]
  },
  {
   "cell_type": "code",
   "execution_count": 4,
   "metadata": {},
   "outputs": [],
   "source": [
    "import pandas as pd\n",
    "import numpy as np"
   ]
  },
  {
   "cell_type": "code",
   "execution_count": 5,
   "metadata": {},
   "outputs": [],
   "source": [
    "dates = ['2016-01-01','2016-01-02','2016-01-03','2016-01-04',\n",
    "'2016-01-05','2016-01-06']"
   ]
  },
  {
   "cell_type": "code",
   "execution_count": 6,
   "metadata": {},
   "outputs": [],
   "source": [
    "dates = pd.to_datetime(dates)"
   ]
  },
  {
   "cell_type": "code",
   "execution_count": 7,
   "metadata": {},
   "outputs": [
    {
     "data": {
      "text/plain": "DatetimeIndex(['2016-01-01', '2016-01-02', '2016-01-03', '2016-01-04',\n               '2016-01-05', '2016-01-06'],\n              dtype='datetime64[ns]', freq=None)"
     },
     "execution_count": 7,
     "metadata": {},
     "output_type": "execute_result"
    }
   ],
   "source": [
    "dates"
   ]
  },
  {
   "cell_type": "code",
   "execution_count": 8,
   "metadata": {},
   "outputs": [],
   "source": [
    "#　在此基础上创建一个6 x 4的数据，索引为刚刚创建dates\n",
    "\n",
    "df = pd.DataFrame(np.random.randn(6,4), index=dates, columns=list('ABCD'))"
   ]
  },
  {
   "cell_type": "code",
   "execution_count": 10,
   "metadata": {},
   "outputs": [
    {
     "data": {
      "text/html": "<div>\n<style scoped>\n    .dataframe tbody tr th:only-of-type {\n        vertical-align: middle;\n    }\n\n    .dataframe tbody tr th {\n        vertical-align: top;\n    }\n\n    .dataframe thead th {\n        text-align: right;\n    }\n</style>\n<table border=\"1\" class=\"dataframe\">\n  <thead>\n    <tr style=\"text-align: right;\">\n      <th></th>\n      <th>0</th>\n      <th>1</th>\n      <th>2</th>\n      <th>3</th>\n      <th>4</th>\n    </tr>\n  </thead>\n  <tbody>\n    <tr>\n      <td>0</td>\n      <td>2016-01-01</td>\n      <td>-0.700614</td>\n      <td>-0.497926</td>\n      <td>-1.575815</td>\n      <td>-0.124825</td>\n    </tr>\n    <tr>\n      <td>1</td>\n      <td>2016-01-02</td>\n      <td>0.527900</td>\n      <td>-0.171895</td>\n      <td>0.507163</td>\n      <td>-0.643841</td>\n    </tr>\n    <tr>\n      <td>2</td>\n      <td>2016-01-03</td>\n      <td>0.712705</td>\n      <td>-0.200171</td>\n      <td>1.370069</td>\n      <td>0.436875</td>\n    </tr>\n    <tr>\n      <td>3</td>\n      <td>2016-01-04</td>\n      <td>-0.865489</td>\n      <td>-1.387902</td>\n      <td>0.727358</td>\n      <td>-0.583044</td>\n    </tr>\n    <tr>\n      <td>4</td>\n      <td>2016-01-05</td>\n      <td>-0.233993</td>\n      <td>1.413461</td>\n      <td>-0.696632</td>\n      <td>-0.746930</td>\n    </tr>\n    <tr>\n      <td>5</td>\n      <td>2016-01-06</td>\n      <td>1.530952</td>\n      <td>-1.145595</td>\n      <td>0.922075</td>\n      <td>0.027192</td>\n    </tr>\n  </tbody>\n</table>\n</div>",
      "text/plain": "            0         1         2         3         4\n0  2016-01-01 -0.700614 -0.497926 -1.575815 -0.124825\n1  2016-01-02  0.527900 -0.171895  0.507163 -0.643841\n2  2016-01-03  0.712705 -0.200171  1.370069  0.436875\n3  2016-01-04 -0.865489 -1.387902  0.727358 -0.583044\n4  2016-01-05 -0.233993  1.413461 -0.696632 -0.746930\n5  2016-01-06  1.530952 -1.145595  0.922075  0.027192"
     },
     "execution_count": 10,
     "metadata": {},
     "output_type": "execute_result"
    }
   ],
   "source": [
    "# read_table()函数\n",
    "pd.read_table('F:\\github\\quntityTrade\\data\\\\test.txt', sep=',', header=None, names=None)"
   ]
  },
  {
   "cell_type": "code",
   "execution_count": 11,
   "metadata": {},
   "outputs": [],
   "source": [
    "df = pd.read_csv('F:\\github\\quntityTrade\\data\\\\test.csv', header=None, sep=',', names=None)"
   ]
  },
  {
   "cell_type": "code",
   "execution_count": 12,
   "metadata": {},
   "outputs": [
    {
     "data": {
      "text/html": "<div>\n<style scoped>\n    .dataframe tbody tr th:only-of-type {\n        vertical-align: middle;\n    }\n\n    .dataframe tbody tr th {\n        vertical-align: top;\n    }\n\n    .dataframe thead th {\n        text-align: right;\n    }\n</style>\n<table border=\"1\" class=\"dataframe\">\n  <thead>\n    <tr style=\"text-align: right;\">\n      <th></th>\n      <th>0</th>\n      <th>1</th>\n      <th>2</th>\n      <th>3</th>\n      <th>4</th>\n    </tr>\n  </thead>\n  <tbody>\n    <tr>\n      <td>0</td>\n      <td>time</td>\n      <td>A</td>\n      <td>B</td>\n      <td>C</td>\n      <td>D</td>\n    </tr>\n    <tr>\n      <td>1</td>\n      <td>2016-01-01</td>\n      <td>-0.700614</td>\n      <td>-0.497926</td>\n      <td>-1.575815</td>\n      <td>-0.124825</td>\n    </tr>\n    <tr>\n      <td>2</td>\n      <td>2016-01-02</td>\n      <td>0.527900</td>\n      <td>-0.171895</td>\n      <td>0.507163</td>\n      <td>-0.643841</td>\n    </tr>\n    <tr>\n      <td>3</td>\n      <td>2016-01-03</td>\n      <td>0.712705</td>\n      <td>-0.200171</td>\n      <td>1.370069</td>\n      <td>0.436875</td>\n    </tr>\n    <tr>\n      <td>4</td>\n      <td>2016-01-04</td>\n      <td>-0.865489</td>\n      <td>-1.387902</td>\n      <td>0.727358</td>\n      <td>-0.583044</td>\n    </tr>\n    <tr>\n      <td>5</td>\n      <td>2016-01-05</td>\n      <td>-0.233993</td>\n      <td>1.413461</td>\n      <td>-0.696632</td>\n      <td>-0.746930</td>\n    </tr>\n    <tr>\n      <td>6</td>\n      <td>2016-01-06</td>\n      <td>1.530952</td>\n      <td>-1.145595</td>\n      <td>0.922075</td>\n      <td>0.027192</td>\n    </tr>\n  </tbody>\n</table>\n</div>",
      "text/plain": "            0          1          2          3          4\n0        time          A          B          C          D\n1  2016-01-01  -0.700614  -0.497926  -1.575815  -0.124825\n2  2016-01-02   0.527900  -0.171895   0.507163  -0.643841\n3  2016-01-03   0.712705  -0.200171   1.370069   0.436875\n4  2016-01-04  -0.865489  -1.387902   0.727358  -0.583044\n5  2016-01-05  -0.233993   1.413461  -0.696632  -0.746930\n6  2016-01-06   1.530952  -1.145595   0.922075   0.027192"
     },
     "execution_count": 12,
     "metadata": {},
     "output_type": "execute_result"
    }
   ],
   "source": [
    "df"
   ]
  },
  {
   "cell_type": "code",
   "execution_count": 15,
   "metadata": {},
   "outputs": [],
   "source": [
    "import MySQLdb"
   ]
  },
  {
   "cell_type": "code",
   "execution_count": 18,
   "metadata": {},
   "outputs": [],
   "source": [
    "msyql_cn = MySQLdb.connect(host='192.168.78.1', port=3306, user='root', passwd='2241883', db='vnpy')"
   ]
  },
  {
   "cell_type": "code",
   "execution_count": 19,
   "metadata": {},
   "outputs": [],
   "source": [
    "df = pd.read_sql('select * from dbbardata limit 10;', con=msyql_cn)\n",
    "msyql_cn.close()"
   ]
  },
  {
   "cell_type": "code",
   "execution_count": 20,
   "metadata": {},
   "outputs": [
    {
     "data": {
      "text/html": "<div>\n<style scoped>\n    .dataframe tbody tr th:only-of-type {\n        vertical-align: middle;\n    }\n\n    .dataframe tbody tr th {\n        vertical-align: top;\n    }\n\n    .dataframe thead th {\n        text-align: right;\n    }\n</style>\n<table border=\"1\" class=\"dataframe\">\n  <thead>\n    <tr style=\"text-align: right;\">\n      <th></th>\n      <th>id</th>\n      <th>symbol</th>\n      <th>exchange</th>\n      <th>datetime</th>\n      <th>interval</th>\n      <th>volume</th>\n      <th>open_interest</th>\n      <th>open_price</th>\n      <th>high_price</th>\n      <th>low_price</th>\n      <th>close_price</th>\n    </tr>\n  </thead>\n  <tbody>\n    <tr>\n      <td>0</td>\n      <td>1</td>\n      <td>IF88</td>\n      <td>CFFEX</td>\n      <td>2017-02-22 09:30:00</td>\n      <td>1m</td>\n      <td>302.0</td>\n      <td>37677.0</td>\n      <td>3461.8</td>\n      <td>3462.8</td>\n      <td>3460.0</td>\n      <td>3461.6</td>\n    </tr>\n    <tr>\n      <td>1</td>\n      <td>2</td>\n      <td>IF88</td>\n      <td>CFFEX</td>\n      <td>2017-02-22 09:31:00</td>\n      <td>1m</td>\n      <td>128.0</td>\n      <td>37616.0</td>\n      <td>3461.4</td>\n      <td>3463.6</td>\n      <td>3459.4</td>\n      <td>3463.6</td>\n    </tr>\n    <tr>\n      <td>2</td>\n      <td>3</td>\n      <td>IF88</td>\n      <td>CFFEX</td>\n      <td>2017-02-22 09:32:00</td>\n      <td>1m</td>\n      <td>115.0</td>\n      <td>37555.0</td>\n      <td>3463.6</td>\n      <td>3463.6</td>\n      <td>3458.4</td>\n      <td>3461.0</td>\n    </tr>\n    <tr>\n      <td>3</td>\n      <td>4</td>\n      <td>IF88</td>\n      <td>CFFEX</td>\n      <td>2017-02-22 09:33:00</td>\n      <td>1m</td>\n      <td>61.0</td>\n      <td>37514.0</td>\n      <td>3460.4</td>\n      <td>3460.6</td>\n      <td>3459.2</td>\n      <td>3460.6</td>\n    </tr>\n    <tr>\n      <td>4</td>\n      <td>5</td>\n      <td>IF88</td>\n      <td>CFFEX</td>\n      <td>2017-02-22 09:34:00</td>\n      <td>1m</td>\n      <td>52.0</td>\n      <td>37486.0</td>\n      <td>3460.0</td>\n      <td>3460.4</td>\n      <td>3458.8</td>\n      <td>3460.2</td>\n    </tr>\n    <tr>\n      <td>5</td>\n      <td>6</td>\n      <td>IF88</td>\n      <td>CFFEX</td>\n      <td>2017-02-22 09:35:00</td>\n      <td>1m</td>\n      <td>74.0</td>\n      <td>37437.0</td>\n      <td>3460.2</td>\n      <td>3460.2</td>\n      <td>3458.8</td>\n      <td>3459.8</td>\n    </tr>\n    <tr>\n      <td>6</td>\n      <td>7</td>\n      <td>IF88</td>\n      <td>CFFEX</td>\n      <td>2017-02-22 09:36:00</td>\n      <td>1m</td>\n      <td>72.0</td>\n      <td>37399.0</td>\n      <td>3459.0</td>\n      <td>3460.4</td>\n      <td>3459.0</td>\n      <td>3459.4</td>\n    </tr>\n    <tr>\n      <td>7</td>\n      <td>8</td>\n      <td>IF88</td>\n      <td>CFFEX</td>\n      <td>2017-02-22 09:37:00</td>\n      <td>1m</td>\n      <td>132.0</td>\n      <td>37378.0</td>\n      <td>3459.4</td>\n      <td>3459.4</td>\n      <td>3456.6</td>\n      <td>3456.8</td>\n    </tr>\n    <tr>\n      <td>8</td>\n      <td>9</td>\n      <td>IF88</td>\n      <td>CFFEX</td>\n      <td>2017-02-22 09:38:00</td>\n      <td>1m</td>\n      <td>160.0</td>\n      <td>37305.0</td>\n      <td>3456.8</td>\n      <td>3457.4</td>\n      <td>3455.0</td>\n      <td>3457.2</td>\n    </tr>\n    <tr>\n      <td>9</td>\n      <td>10</td>\n      <td>IF88</td>\n      <td>CFFEX</td>\n      <td>2017-02-22 09:39:00</td>\n      <td>1m</td>\n      <td>97.0</td>\n      <td>37259.0</td>\n      <td>3458.0</td>\n      <td>3458.6</td>\n      <td>3455.2</td>\n      <td>3455.8</td>\n    </tr>\n  </tbody>\n</table>\n</div>",
      "text/plain": "   id symbol exchange            datetime interval  volume  open_interest  \\\n0   1   IF88    CFFEX 2017-02-22 09:30:00       1m   302.0        37677.0   \n1   2   IF88    CFFEX 2017-02-22 09:31:00       1m   128.0        37616.0   \n2   3   IF88    CFFEX 2017-02-22 09:32:00       1m   115.0        37555.0   \n3   4   IF88    CFFEX 2017-02-22 09:33:00       1m    61.0        37514.0   \n4   5   IF88    CFFEX 2017-02-22 09:34:00       1m    52.0        37486.0   \n5   6   IF88    CFFEX 2017-02-22 09:35:00       1m    74.0        37437.0   \n6   7   IF88    CFFEX 2017-02-22 09:36:00       1m    72.0        37399.0   \n7   8   IF88    CFFEX 2017-02-22 09:37:00       1m   132.0        37378.0   \n8   9   IF88    CFFEX 2017-02-22 09:38:00       1m   160.0        37305.0   \n9  10   IF88    CFFEX 2017-02-22 09:39:00       1m    97.0        37259.0   \n\n   open_price  high_price  low_price  close_price  \n0      3461.8      3462.8     3460.0       3461.6  \n1      3461.4      3463.6     3459.4       3463.6  \n2      3463.6      3463.6     3458.4       3461.0  \n3      3460.4      3460.6     3459.2       3460.6  \n4      3460.0      3460.4     3458.8       3460.2  \n5      3460.2      3460.2     3458.8       3459.8  \n6      3459.0      3460.4     3459.0       3459.4  \n7      3459.4      3459.4     3456.6       3456.8  \n8      3456.8      3457.4     3455.0       3457.2  \n9      3458.0      3458.6     3455.2       3455.8  "
     },
     "execution_count": 20,
     "metadata": {},
     "output_type": "execute_result"
    }
   ],
   "source": [
    "df"
   ]
  },
  {
   "cell_type": "code",
   "execution_count": 21,
   "metadata": {},
   "outputs": [],
   "source": [
    "df = pd.DataFrame(np.random.randn(6,4), index=dates, columns=list('ABCD'))"
   ]
  },
  {
   "cell_type": "code",
   "execution_count": 22,
   "metadata": {},
   "outputs": [
    {
     "data": {
      "text/html": "<div>\n<style scoped>\n    .dataframe tbody tr th:only-of-type {\n        vertical-align: middle;\n    }\n\n    .dataframe tbody tr th {\n        vertical-align: top;\n    }\n\n    .dataframe thead th {\n        text-align: right;\n    }\n</style>\n<table border=\"1\" class=\"dataframe\">\n  <thead>\n    <tr style=\"text-align: right;\">\n      <th></th>\n      <th>A</th>\n      <th>B</th>\n      <th>C</th>\n      <th>D</th>\n    </tr>\n  </thead>\n  <tbody>\n    <tr>\n      <td>2016-01-01</td>\n      <td>0.260114</td>\n      <td>-2.106529</td>\n      <td>0.552100</td>\n      <td>0.421264</td>\n    </tr>\n    <tr>\n      <td>2016-01-02</td>\n      <td>0.367788</td>\n      <td>0.415501</td>\n      <td>-0.415147</td>\n      <td>-1.420777</td>\n    </tr>\n    <tr>\n      <td>2016-01-03</td>\n      <td>0.815407</td>\n      <td>-0.187797</td>\n      <td>0.193925</td>\n      <td>-2.091588</td>\n    </tr>\n    <tr>\n      <td>2016-01-04</td>\n      <td>0.263283</td>\n      <td>0.100470</td>\n      <td>0.383428</td>\n      <td>-1.235696</td>\n    </tr>\n    <tr>\n      <td>2016-01-05</td>\n      <td>-0.727021</td>\n      <td>1.107235</td>\n      <td>-1.076279</td>\n      <td>-0.338145</td>\n    </tr>\n    <tr>\n      <td>2016-01-06</td>\n      <td>1.085417</td>\n      <td>-0.697706</td>\n      <td>0.004307</td>\n      <td>-0.817405</td>\n    </tr>\n  </tbody>\n</table>\n</div>",
      "text/plain": "                   A         B         C         D\n2016-01-01  0.260114 -2.106529  0.552100  0.421264\n2016-01-02  0.367788  0.415501 -0.415147 -1.420777\n2016-01-03  0.815407 -0.187797  0.193925 -2.091588\n2016-01-04  0.263283  0.100470  0.383428 -1.235696\n2016-01-05 -0.727021  1.107235 -1.076279 -0.338145\n2016-01-06  1.085417 -0.697706  0.004307 -0.817405"
     },
     "execution_count": 22,
     "metadata": {},
     "output_type": "execute_result"
    }
   ],
   "source": [
    "df"
   ]
  },
  {
   "cell_type": "code",
   "execution_count": 23,
   "metadata": {},
   "outputs": [
    {
     "data": {
      "text/html": "<div>\n<style scoped>\n    .dataframe tbody tr th:only-of-type {\n        vertical-align: middle;\n    }\n\n    .dataframe tbody tr th {\n        vertical-align: top;\n    }\n\n    .dataframe thead th {\n        text-align: right;\n    }\n</style>\n<table border=\"1\" class=\"dataframe\">\n  <thead>\n    <tr style=\"text-align: right;\">\n      <th></th>\n      <th>A</th>\n      <th>B</th>\n      <th>C</th>\n      <th>D</th>\n    </tr>\n  </thead>\n  <tbody>\n    <tr>\n      <td>2016-01-01</td>\n      <td>0.260114</td>\n      <td>-2.106529</td>\n      <td>0.552100</td>\n      <td>0.421264</td>\n    </tr>\n    <tr>\n      <td>2016-01-02</td>\n      <td>0.367788</td>\n      <td>0.415501</td>\n      <td>-0.415147</td>\n      <td>-1.420777</td>\n    </tr>\n    <tr>\n      <td>2016-01-03</td>\n      <td>0.815407</td>\n      <td>-0.187797</td>\n      <td>0.193925</td>\n      <td>-2.091588</td>\n    </tr>\n  </tbody>\n</table>\n</div>",
      "text/plain": "                   A         B         C         D\n2016-01-01  0.260114 -2.106529  0.552100  0.421264\n2016-01-02  0.367788  0.415501 -0.415147 -1.420777\n2016-01-03  0.815407 -0.187797  0.193925 -2.091588"
     },
     "execution_count": 23,
     "metadata": {},
     "output_type": "execute_result"
    }
   ],
   "source": [
    "df.head(3)"
   ]
  },
  {
   "cell_type": "code",
   "execution_count": 25,
   "metadata": {},
   "outputs": [
    {
     "data": {
      "text/html": "<div>\n<style scoped>\n    .dataframe tbody tr th:only-of-type {\n        vertical-align: middle;\n    }\n\n    .dataframe tbody tr th {\n        vertical-align: top;\n    }\n\n    .dataframe thead th {\n        text-align: right;\n    }\n</style>\n<table border=\"1\" class=\"dataframe\">\n  <thead>\n    <tr style=\"text-align: right;\">\n      <th></th>\n      <th>A</th>\n      <th>B</th>\n      <th>C</th>\n      <th>D</th>\n    </tr>\n  </thead>\n  <tbody>\n    <tr>\n      <td>2016-01-03</td>\n      <td>0.815407</td>\n      <td>-0.187797</td>\n      <td>0.193925</td>\n      <td>-2.091588</td>\n    </tr>\n    <tr>\n      <td>2016-01-04</td>\n      <td>0.263283</td>\n      <td>0.100470</td>\n      <td>0.383428</td>\n      <td>-1.235696</td>\n    </tr>\n    <tr>\n      <td>2016-01-05</td>\n      <td>-0.727021</td>\n      <td>1.107235</td>\n      <td>-1.076279</td>\n      <td>-0.338145</td>\n    </tr>\n    <tr>\n      <td>2016-01-06</td>\n      <td>1.085417</td>\n      <td>-0.697706</td>\n      <td>0.004307</td>\n      <td>-0.817405</td>\n    </tr>\n  </tbody>\n</table>\n</div>",
      "text/plain": "                   A         B         C         D\n2016-01-03  0.815407 -0.187797  0.193925 -2.091588\n2016-01-04  0.263283  0.100470  0.383428 -1.235696\n2016-01-05 -0.727021  1.107235 -1.076279 -0.338145\n2016-01-06  1.085417 -0.697706  0.004307 -0.817405"
     },
     "execution_count": 25,
     "metadata": {},
     "output_type": "execute_result"
    }
   ],
   "source": [
    "df.tail(4)"
   ]
  },
  {
   "cell_type": "code",
   "execution_count": 26,
   "metadata": {},
   "outputs": [
    {
     "data": {
      "text/plain": "Index(['A', 'B', 'C', 'D'], dtype='object')"
     },
     "execution_count": 26,
     "metadata": {},
     "output_type": "execute_result"
    }
   ],
   "source": [
    "df.columns"
   ]
  },
  {
   "cell_type": "code",
   "execution_count": 27,
   "metadata": {},
   "outputs": [
    {
     "data": {
      "text/plain": "DatetimeIndex(['2016-01-01', '2016-01-02', '2016-01-03', '2016-01-04',\n               '2016-01-05', '2016-01-06'],\n              dtype='datetime64[ns]', freq=None)"
     },
     "execution_count": 27,
     "metadata": {},
     "output_type": "execute_result"
    }
   ],
   "source": [
    "df.index"
   ]
  },
  {
   "cell_type": "code",
   "execution_count": 28,
   "metadata": {},
   "outputs": [
    {
     "data": {
      "text/plain": "array([[ 0.26011356, -2.10652921,  0.55209992,  0.421264  ],\n       [ 0.36778766,  0.41550062, -0.41514692, -1.42077682],\n       [ 0.81540743, -0.18779741,  0.1939252 , -2.09158757],\n       [ 0.26328302,  0.10047006,  0.38342777, -1.23569597],\n       [-0.72702091,  1.10723471, -1.07627896, -0.33814542],\n       [ 1.08541738, -0.69770637,  0.00430661, -0.81740503]])"
     },
     "execution_count": 28,
     "metadata": {},
     "output_type": "execute_result"
    }
   ],
   "source": [
    "df.values"
   ]
  },
  {
   "cell_type": "code",
   "execution_count": 30,
   "metadata": {},
   "outputs": [
    {
     "data": {
      "text/html": "<div>\n<style scoped>\n    .dataframe tbody tr th:only-of-type {\n        vertical-align: middle;\n    }\n\n    .dataframe tbody tr th {\n        vertical-align: top;\n    }\n\n    .dataframe thead th {\n        text-align: right;\n    }\n</style>\n<table border=\"1\" class=\"dataframe\">\n  <thead>\n    <tr style=\"text-align: right;\">\n      <th></th>\n      <th>A</th>\n      <th>B</th>\n      <th>C</th>\n      <th>D</th>\n    </tr>\n  </thead>\n  <tbody>\n    <tr>\n      <td>count</td>\n      <td>6.000000</td>\n      <td>6.000000</td>\n      <td>6.000000</td>\n      <td>6.000000</td>\n    </tr>\n    <tr>\n      <td>mean</td>\n      <td>0.344165</td>\n      <td>-0.228138</td>\n      <td>-0.059611</td>\n      <td>-0.913724</td>\n    </tr>\n    <tr>\n      <td>std</td>\n      <td>0.621792</td>\n      <td>1.100541</td>\n      <td>0.599810</td>\n      <td>0.879874</td>\n    </tr>\n    <tr>\n      <td>min</td>\n      <td>-0.727021</td>\n      <td>-2.106529</td>\n      <td>-1.076279</td>\n      <td>-2.091588</td>\n    </tr>\n    <tr>\n      <td>25%</td>\n      <td>0.260906</td>\n      <td>-0.570229</td>\n      <td>-0.310284</td>\n      <td>-1.374507</td>\n    </tr>\n    <tr>\n      <td>50%</td>\n      <td>0.315535</td>\n      <td>-0.043664</td>\n      <td>0.099116</td>\n      <td>-1.026551</td>\n    </tr>\n    <tr>\n      <td>75%</td>\n      <td>0.703502</td>\n      <td>0.336743</td>\n      <td>0.336052</td>\n      <td>-0.457960</td>\n    </tr>\n    <tr>\n      <td>max</td>\n      <td>1.085417</td>\n      <td>1.107235</td>\n      <td>0.552100</td>\n      <td>0.421264</td>\n    </tr>\n  </tbody>\n</table>\n</div>",
      "text/plain": "              A         B         C         D\ncount  6.000000  6.000000  6.000000  6.000000\nmean   0.344165 -0.228138 -0.059611 -0.913724\nstd    0.621792  1.100541  0.599810  0.879874\nmin   -0.727021 -2.106529 -1.076279 -2.091588\n25%    0.260906 -0.570229 -0.310284 -1.374507\n50%    0.315535 -0.043664  0.099116 -1.026551\n75%    0.703502  0.336743  0.336052 -0.457960\nmax    1.085417  1.107235  0.552100  0.421264"
     },
     "execution_count": 30,
     "metadata": {},
     "output_type": "execute_result"
    }
   ],
   "source": [
    "df.describe()"
   ]
  },
  {
   "cell_type": "code",
   "execution_count": 31,
   "metadata": {},
   "outputs": [
    {
     "data": {
      "text/html": "<div>\n<style scoped>\n    .dataframe tbody tr th:only-of-type {\n        vertical-align: middle;\n    }\n\n    .dataframe tbody tr th {\n        vertical-align: top;\n    }\n\n    .dataframe thead th {\n        text-align: right;\n    }\n</style>\n<table border=\"1\" class=\"dataframe\">\n  <thead>\n    <tr style=\"text-align: right;\">\n      <th></th>\n      <th>A</th>\n      <th>B</th>\n      <th>C</th>\n      <th>D</th>\n    </tr>\n  </thead>\n  <tbody>\n    <tr>\n      <td>2016-01-02</td>\n      <td>0.367788</td>\n      <td>0.415501</td>\n      <td>-0.415147</td>\n      <td>-1.420777</td>\n    </tr>\n    <tr>\n      <td>2016-01-03</td>\n      <td>0.815407</td>\n      <td>-0.187797</td>\n      <td>0.193925</td>\n      <td>-2.091588</td>\n    </tr>\n  </tbody>\n</table>\n</div>",
      "text/plain": "                   A         B         C         D\n2016-01-02  0.367788  0.415501 -0.415147 -1.420777\n2016-01-03  0.815407 -0.187797  0.193925 -2.091588"
     },
     "execution_count": 31,
     "metadata": {},
     "output_type": "execute_result"
    }
   ],
   "source": [
    "df[1:3]"
   ]
  },
  {
   "cell_type": "code",
   "execution_count": 32,
   "metadata": {},
   "outputs": [
    {
     "data": {
      "text/plain": "2016-01-01    0.260114\n2016-01-02    0.367788\n2016-01-03    0.815407\n2016-01-04    0.263283\n2016-01-05   -0.727021\n2016-01-06    1.085417\nName: A, dtype: float64"
     },
     "execution_count": 32,
     "metadata": {},
     "output_type": "execute_result"
    }
   ],
   "source": [
    "df['A']"
   ]
  },
  {
   "cell_type": "code",
   "execution_count": 33,
   "metadata": {},
   "outputs": [
    {
     "data": {
      "text/html": "<div>\n<style scoped>\n    .dataframe tbody tr th:only-of-type {\n        vertical-align: middle;\n    }\n\n    .dataframe tbody tr th {\n        vertical-align: top;\n    }\n\n    .dataframe thead th {\n        text-align: right;\n    }\n</style>\n<table border=\"1\" class=\"dataframe\">\n  <thead>\n    <tr style=\"text-align: right;\">\n      <th></th>\n      <th>A</th>\n      <th>C</th>\n    </tr>\n  </thead>\n  <tbody>\n    <tr>\n      <td>2016-01-01</td>\n      <td>0.260114</td>\n      <td>0.552100</td>\n    </tr>\n    <tr>\n      <td>2016-01-02</td>\n      <td>0.367788</td>\n      <td>-0.415147</td>\n    </tr>\n    <tr>\n      <td>2016-01-03</td>\n      <td>0.815407</td>\n      <td>0.193925</td>\n    </tr>\n    <tr>\n      <td>2016-01-04</td>\n      <td>0.263283</td>\n      <td>0.383428</td>\n    </tr>\n    <tr>\n      <td>2016-01-05</td>\n      <td>-0.727021</td>\n      <td>-1.076279</td>\n    </tr>\n    <tr>\n      <td>2016-01-06</td>\n      <td>1.085417</td>\n      <td>0.004307</td>\n    </tr>\n  </tbody>\n</table>\n</div>",
      "text/plain": "                   A         C\n2016-01-01  0.260114  0.552100\n2016-01-02  0.367788 -0.415147\n2016-01-03  0.815407  0.193925\n2016-01-04  0.263283  0.383428\n2016-01-05 -0.727021 -1.076279\n2016-01-06  1.085417  0.004307"
     },
     "execution_count": 33,
     "metadata": {},
     "output_type": "execute_result"
    }
   ],
   "source": [
    "df[['A', 'C']]"
   ]
  },
  {
   "cell_type": "code",
   "execution_count": 34,
   "metadata": {},
   "outputs": [
    {
     "data": {
      "text/html": "<div>\n<style scoped>\n    .dataframe tbody tr th:only-of-type {\n        vertical-align: middle;\n    }\n\n    .dataframe tbody tr th {\n        vertical-align: top;\n    }\n\n    .dataframe thead th {\n        text-align: right;\n    }\n</style>\n<table border=\"1\" class=\"dataframe\">\n  <thead>\n    <tr style=\"text-align: right;\">\n      <th></th>\n      <th>A</th>\n      <th>B</th>\n      <th>C</th>\n      <th>D</th>\n    </tr>\n  </thead>\n  <tbody>\n    <tr>\n      <td>2016-01-01</td>\n      <td>0.260114</td>\n      <td>-2.106529</td>\n      <td>0.552100</td>\n      <td>0.421264</td>\n    </tr>\n    <tr>\n      <td>2016-01-02</td>\n      <td>0.367788</td>\n      <td>0.415501</td>\n      <td>-0.415147</td>\n      <td>-1.420777</td>\n    </tr>\n    <tr>\n      <td>2016-01-03</td>\n      <td>0.815407</td>\n      <td>-0.187797</td>\n      <td>0.193925</td>\n      <td>-2.091588</td>\n    </tr>\n    <tr>\n      <td>2016-01-04</td>\n      <td>0.263283</td>\n      <td>0.100470</td>\n      <td>0.383428</td>\n      <td>-1.235696</td>\n    </tr>\n    <tr>\n      <td>2016-01-06</td>\n      <td>1.085417</td>\n      <td>-0.697706</td>\n      <td>0.004307</td>\n      <td>-0.817405</td>\n    </tr>\n  </tbody>\n</table>\n</div>",
      "text/plain": "                   A         B         C         D\n2016-01-01  0.260114 -2.106529  0.552100  0.421264\n2016-01-02  0.367788  0.415501 -0.415147 -1.420777\n2016-01-03  0.815407 -0.187797  0.193925 -2.091588\n2016-01-04  0.263283  0.100470  0.383428 -1.235696\n2016-01-06  1.085417 -0.697706  0.004307 -0.817405"
     },
     "execution_count": 34,
     "metadata": {},
     "output_type": "execute_result"
    }
   ],
   "source": [
    "df[df['A'] > 0]"
   ]
  },
  {
   "cell_type": "code",
   "execution_count": 35,
   "metadata": {},
   "outputs": [
    {
     "data": {
      "text/html": "<div>\n<style scoped>\n    .dataframe tbody tr th:only-of-type {\n        vertical-align: middle;\n    }\n\n    .dataframe tbody tr th {\n        vertical-align: top;\n    }\n\n    .dataframe thead th {\n        text-align: right;\n    }\n</style>\n<table border=\"1\" class=\"dataframe\">\n  <thead>\n    <tr style=\"text-align: right;\">\n      <th></th>\n      <th>A</th>\n      <th>B</th>\n      <th>C</th>\n      <th>D</th>\n    </tr>\n  </thead>\n  <tbody>\n    <tr>\n      <td>2016-01-02</td>\n      <td>0.367788</td>\n      <td>0.415501</td>\n      <td>-0.415147</td>\n      <td>-1.420777</td>\n    </tr>\n    <tr>\n      <td>2016-01-04</td>\n      <td>0.263283</td>\n      <td>0.100470</td>\n      <td>0.383428</td>\n      <td>-1.235696</td>\n    </tr>\n    <tr>\n      <td>2016-01-05</td>\n      <td>-0.727021</td>\n      <td>1.107235</td>\n      <td>-1.076279</td>\n      <td>-0.338145</td>\n    </tr>\n  </tbody>\n</table>\n</div>",
      "text/plain": "                   A         B         C         D\n2016-01-02  0.367788  0.415501 -0.415147 -1.420777\n2016-01-04  0.263283  0.100470  0.383428 -1.235696\n2016-01-05 -0.727021  1.107235 -1.076279 -0.338145"
     },
     "execution_count": 35,
     "metadata": {},
     "output_type": "execute_result"
    }
   ],
   "source": [
    "df[df['B'] > 0]"
   ]
  },
  {
   "cell_type": "code",
   "execution_count": 36,
   "metadata": {},
   "outputs": [
    {
     "data": {
      "text/html": "<div>\n<style scoped>\n    .dataframe tbody tr th:only-of-type {\n        vertical-align: middle;\n    }\n\n    .dataframe tbody tr th {\n        vertical-align: top;\n    }\n\n    .dataframe thead th {\n        text-align: right;\n    }\n</style>\n<table border=\"1\" class=\"dataframe\">\n  <thead>\n    <tr style=\"text-align: right;\">\n      <th></th>\n      <th>A</th>\n      <th>C</th>\n    </tr>\n  </thead>\n  <tbody>\n    <tr>\n      <td>2016-01-01</td>\n      <td>0.260114</td>\n      <td>0.552100</td>\n    </tr>\n    <tr>\n      <td>2016-01-02</td>\n      <td>0.367788</td>\n      <td>-0.415147</td>\n    </tr>\n    <tr>\n      <td>2016-01-03</td>\n      <td>0.815407</td>\n      <td>0.193925</td>\n    </tr>\n    <tr>\n      <td>2016-01-04</td>\n      <td>0.263283</td>\n      <td>0.383428</td>\n    </tr>\n    <tr>\n      <td>2016-01-05</td>\n      <td>-0.727021</td>\n      <td>-1.076279</td>\n    </tr>\n    <tr>\n      <td>2016-01-06</td>\n      <td>1.085417</td>\n      <td>0.004307</td>\n    </tr>\n  </tbody>\n</table>\n</div>",
      "text/plain": "                   A         C\n2016-01-01  0.260114  0.552100\n2016-01-02  0.367788 -0.415147\n2016-01-03  0.815407  0.193925\n2016-01-04  0.263283  0.383428\n2016-01-05 -0.727021 -1.076279\n2016-01-06  1.085417  0.004307"
     },
     "execution_count": 36,
     "metadata": {},
     "output_type": "execute_result"
    }
   ],
   "source": [
    "df[['A','C']]"
   ]
  },
  {
   "cell_type": "code",
   "execution_count": 37,
   "metadata": {},
   "outputs": [
    {
     "ename": "TypeError",
     "evalue": "'(slice(1, 3, None), 'A')' is an invalid key",
     "output_type": "error",
     "traceback": [
      "\u001b[1;31m---------------------------------------------------------------------------\u001b[0m",
      "\u001b[1;31mTypeError\u001b[0m                                 Traceback (most recent call last)",
      "\u001b[1;32m<ipython-input-37-7df15ddad666>\u001b[0m in \u001b[0;36m<module>\u001b[1;34m\u001b[0m\n\u001b[1;32m----> 1\u001b[1;33m \u001b[0mdf\u001b[0m\u001b[1;33m[\u001b[0m\u001b[1;36m1\u001b[0m\u001b[1;33m:\u001b[0m\u001b[1;36m3\u001b[0m\u001b[1;33m,\u001b[0m \u001b[1;34m'A'\u001b[0m\u001b[1;33m]\u001b[0m\u001b[1;33m\u001b[0m\u001b[1;33m\u001b[0m\u001b[0m\n\u001b[0m",
      "\u001b[1;32mD:\\app\\anaconda3\\lib\\site-packages\\pandas\\core\\frame.py\u001b[0m in \u001b[0;36m__getitem__\u001b[1;34m(self, key)\u001b[0m\n\u001b[0;32m   2978\u001b[0m             \u001b[1;32mif\u001b[0m \u001b[0mself\u001b[0m\u001b[1;33m.\u001b[0m\u001b[0mcolumns\u001b[0m\u001b[1;33m.\u001b[0m\u001b[0mnlevels\u001b[0m \u001b[1;33m>\u001b[0m \u001b[1;36m1\u001b[0m\u001b[1;33m:\u001b[0m\u001b[1;33m\u001b[0m\u001b[1;33m\u001b[0m\u001b[0m\n\u001b[0;32m   2979\u001b[0m                 \u001b[1;32mreturn\u001b[0m \u001b[0mself\u001b[0m\u001b[1;33m.\u001b[0m\u001b[0m_getitem_multilevel\u001b[0m\u001b[1;33m(\u001b[0m\u001b[0mkey\u001b[0m\u001b[1;33m)\u001b[0m\u001b[1;33m\u001b[0m\u001b[1;33m\u001b[0m\u001b[0m\n\u001b[1;32m-> 2980\u001b[1;33m             \u001b[0mindexer\u001b[0m \u001b[1;33m=\u001b[0m \u001b[0mself\u001b[0m\u001b[1;33m.\u001b[0m\u001b[0mcolumns\u001b[0m\u001b[1;33m.\u001b[0m\u001b[0mget_loc\u001b[0m\u001b[1;33m(\u001b[0m\u001b[0mkey\u001b[0m\u001b[1;33m)\u001b[0m\u001b[1;33m\u001b[0m\u001b[1;33m\u001b[0m\u001b[0m\n\u001b[0m\u001b[0;32m   2981\u001b[0m             \u001b[1;32mif\u001b[0m \u001b[0mis_integer\u001b[0m\u001b[1;33m(\u001b[0m\u001b[0mindexer\u001b[0m\u001b[1;33m)\u001b[0m\u001b[1;33m:\u001b[0m\u001b[1;33m\u001b[0m\u001b[1;33m\u001b[0m\u001b[0m\n\u001b[0;32m   2982\u001b[0m                 \u001b[0mindexer\u001b[0m \u001b[1;33m=\u001b[0m \u001b[1;33m[\u001b[0m\u001b[0mindexer\u001b[0m\u001b[1;33m]\u001b[0m\u001b[1;33m\u001b[0m\u001b[1;33m\u001b[0m\u001b[0m\n",
      "\u001b[1;32mD:\\app\\anaconda3\\lib\\site-packages\\pandas\\core\\indexes\\base.py\u001b[0m in \u001b[0;36mget_loc\u001b[1;34m(self, key, method, tolerance)\u001b[0m\n\u001b[0;32m   2895\u001b[0m                 )\n\u001b[0;32m   2896\u001b[0m             \u001b[1;32mtry\u001b[0m\u001b[1;33m:\u001b[0m\u001b[1;33m\u001b[0m\u001b[1;33m\u001b[0m\u001b[0m\n\u001b[1;32m-> 2897\u001b[1;33m                 \u001b[1;32mreturn\u001b[0m \u001b[0mself\u001b[0m\u001b[1;33m.\u001b[0m\u001b[0m_engine\u001b[0m\u001b[1;33m.\u001b[0m\u001b[0mget_loc\u001b[0m\u001b[1;33m(\u001b[0m\u001b[0mkey\u001b[0m\u001b[1;33m)\u001b[0m\u001b[1;33m\u001b[0m\u001b[1;33m\u001b[0m\u001b[0m\n\u001b[0m\u001b[0;32m   2898\u001b[0m             \u001b[1;32mexcept\u001b[0m \u001b[0mKeyError\u001b[0m\u001b[1;33m:\u001b[0m\u001b[1;33m\u001b[0m\u001b[1;33m\u001b[0m\u001b[0m\n\u001b[0;32m   2899\u001b[0m                 \u001b[1;32mreturn\u001b[0m \u001b[0mself\u001b[0m\u001b[1;33m.\u001b[0m\u001b[0m_engine\u001b[0m\u001b[1;33m.\u001b[0m\u001b[0mget_loc\u001b[0m\u001b[1;33m(\u001b[0m\u001b[0mself\u001b[0m\u001b[1;33m.\u001b[0m\u001b[0m_maybe_cast_indexer\u001b[0m\u001b[1;33m(\u001b[0m\u001b[0mkey\u001b[0m\u001b[1;33m)\u001b[0m\u001b[1;33m)\u001b[0m\u001b[1;33m\u001b[0m\u001b[1;33m\u001b[0m\u001b[0m\n",
      "\u001b[1;32mpandas\\_libs\\index.pyx\u001b[0m in \u001b[0;36mpandas._libs.index.IndexEngine.get_loc\u001b[1;34m()\u001b[0m\n",
      "\u001b[1;32mpandas\\_libs\\index.pyx\u001b[0m in \u001b[0;36mpandas._libs.index.IndexEngine.get_loc\u001b[1;34m()\u001b[0m\n",
      "\u001b[1;31mTypeError\u001b[0m: '(slice(1, 3, None), 'A')' is an invalid key"
     ]
    }
   ],
   "source": [
    "df[1:3, 'A']"
   ]
  },
  {
   "cell_type": "code",
   "execution_count": 38,
   "metadata": {},
   "outputs": [
    {
     "data": {
      "text/plain": "2016-01-01    0.260114\n2016-01-02    0.367788\n2016-01-03    0.815407\n2016-01-04    0.263283\n2016-01-05   -0.727021\n2016-01-06    1.085417\nName: A, dtype: float64"
     },
     "execution_count": 38,
     "metadata": {},
     "output_type": "execute_result"
    }
   ],
   "source": [
    "# 标签索引和切片\n",
    "\n",
    "df.loc[:, 'A']"
   ]
  },
  {
   "cell_type": "code",
   "execution_count": 40,
   "metadata": {},
   "outputs": [
    {
     "data": {
      "text/html": "<div>\n<style scoped>\n    .dataframe tbody tr th:only-of-type {\n        vertical-align: middle;\n    }\n\n    .dataframe tbody tr th {\n        vertical-align: top;\n    }\n\n    .dataframe thead th {\n        text-align: right;\n    }\n</style>\n<table border=\"1\" class=\"dataframe\">\n  <thead>\n    <tr style=\"text-align: right;\">\n      <th></th>\n      <th>A</th>\n      <th>B</th>\n      <th>C</th>\n    </tr>\n  </thead>\n  <tbody>\n    <tr>\n      <td>2016-01-01</td>\n      <td>0.260114</td>\n      <td>-2.106529</td>\n      <td>0.552100</td>\n    </tr>\n    <tr>\n      <td>2016-01-02</td>\n      <td>0.367788</td>\n      <td>0.415501</td>\n      <td>-0.415147</td>\n    </tr>\n    <tr>\n      <td>2016-01-03</td>\n      <td>0.815407</td>\n      <td>-0.187797</td>\n      <td>0.193925</td>\n    </tr>\n    <tr>\n      <td>2016-01-04</td>\n      <td>0.263283</td>\n      <td>0.100470</td>\n      <td>0.383428</td>\n    </tr>\n    <tr>\n      <td>2016-01-05</td>\n      <td>-0.727021</td>\n      <td>1.107235</td>\n      <td>-1.076279</td>\n    </tr>\n    <tr>\n      <td>2016-01-06</td>\n      <td>1.085417</td>\n      <td>-0.697706</td>\n      <td>0.004307</td>\n    </tr>\n  </tbody>\n</table>\n</div>",
      "text/plain": "                   A         B         C\n2016-01-01  0.260114 -2.106529  0.552100\n2016-01-02  0.367788  0.415501 -0.415147\n2016-01-03  0.815407 -0.187797  0.193925\n2016-01-04  0.263283  0.100470  0.383428\n2016-01-05 -0.727021  1.107235 -1.076279\n2016-01-06  1.085417 -0.697706  0.004307"
     },
     "execution_count": 40,
     "metadata": {},
     "output_type": "execute_result"
    }
   ],
   "source": [
    "df.loc[:, 'A':'C']"
   ]
  },
  {
   "cell_type": "code",
   "execution_count": 42,
   "metadata": {},
   "outputs": [
    {
     "data": {
      "text/html": "<div>\n<style scoped>\n    .dataframe tbody tr th:only-of-type {\n        vertical-align: middle;\n    }\n\n    .dataframe tbody tr th {\n        vertical-align: top;\n    }\n\n    .dataframe thead th {\n        text-align: right;\n    }\n</style>\n<table border=\"1\" class=\"dataframe\">\n  <thead>\n    <tr style=\"text-align: right;\">\n      <th></th>\n      <th>A</th>\n      <th>B</th>\n    </tr>\n  </thead>\n  <tbody>\n    <tr>\n      <td>2016-01-01</td>\n      <td>0.260114</td>\n      <td>-2.106529</td>\n    </tr>\n    <tr>\n      <td>2016-01-02</td>\n      <td>0.367788</td>\n      <td>0.415501</td>\n    </tr>\n  </tbody>\n</table>\n</div>",
      "text/plain": "                   A         B\n2016-01-01  0.260114 -2.106529\n2016-01-02  0.367788  0.415501"
     },
     "execution_count": 42,
     "metadata": {},
     "output_type": "execute_result"
    }
   ],
   "source": [
    "df.loc[dates[0:2], 'A': 'B']"
   ]
  },
  {
   "cell_type": "code",
   "execution_count": 43,
   "metadata": {},
   "outputs": [
    {
     "data": {
      "text/plain": "0.26011355952803206"
     },
     "execution_count": 43,
     "metadata": {},
     "output_type": "execute_result"
    }
   ],
   "source": [
    "df.loc[dates[0], 'A']"
   ]
  },
  {
   "cell_type": "code",
   "execution_count": 44,
   "metadata": {},
   "outputs": [
    {
     "data": {
      "text/plain": "0.26011355952803206"
     },
     "execution_count": 44,
     "metadata": {},
     "output_type": "execute_result"
    }
   ],
   "source": [
    "df.at[dates[0], 'A']"
   ]
  },
  {
   "cell_type": "code",
   "execution_count": 46,
   "metadata": {},
   "outputs": [
    {
     "data": {
      "text/html": "<div>\n<style scoped>\n    .dataframe tbody tr th:only-of-type {\n        vertical-align: middle;\n    }\n\n    .dataframe tbody tr th {\n        vertical-align: top;\n    }\n\n    .dataframe thead th {\n        text-align: right;\n    }\n</style>\n<table border=\"1\" class=\"dataframe\">\n  <thead>\n    <tr style=\"text-align: right;\">\n      <th></th>\n      <th>A</th>\n      <th>B</th>\n      <th>C</th>\n      <th>D</th>\n    </tr>\n  </thead>\n  <tbody>\n    <tr>\n      <td>2016-01-02</td>\n      <td>0.367788</td>\n      <td>0.415501</td>\n      <td>-0.415147</td>\n      <td>-1.420777</td>\n    </tr>\n    <tr>\n      <td>2016-01-04</td>\n      <td>0.263283</td>\n      <td>0.100470</td>\n      <td>0.383428</td>\n      <td>-1.235696</td>\n    </tr>\n    <tr>\n      <td>2016-01-05</td>\n      <td>-0.727021</td>\n      <td>1.107235</td>\n      <td>-1.076279</td>\n      <td>-0.338145</td>\n    </tr>\n  </tbody>\n</table>\n</div>",
      "text/plain": "                   A         B         C         D\n2016-01-02  0.367788  0.415501 -0.415147 -1.420777\n2016-01-04  0.263283  0.100470  0.383428 -1.235696\n2016-01-05 -0.727021  1.107235 -1.076279 -0.338145"
     },
     "execution_count": 46,
     "metadata": {},
     "output_type": "execute_result"
    }
   ],
   "source": [
    "df.loc[df.loc[:, 'B'] > 0]"
   ]
  },
  {
   "cell_type": "code",
   "execution_count": 47,
   "metadata": {},
   "outputs": [
    {
     "data": {
      "text/plain": "A    0.815407\nB   -0.187797\nC    0.193925\nD   -2.091588\nName: 2016-01-03 00:00:00, dtype: float64"
     },
     "execution_count": 47,
     "metadata": {},
     "output_type": "execute_result"
    }
   ],
   "source": [
    "# 位置索引与切片\n",
    "# 提取某行\n",
    "df.iloc[2]"
   ]
  },
  {
   "cell_type": "code",
   "execution_count": 51,
   "metadata": {},
   "outputs": [
    {
     "data": {
      "text/plain": "2016-01-01    0.552100\n2016-01-02   -0.415147\n2016-01-03    0.193925\n2016-01-04    0.383428\n2016-01-05   -1.076279\n2016-01-06    0.004307\nName: C, dtype: float64"
     },
     "execution_count": 51,
     "metadata": {},
     "output_type": "execute_result"
    }
   ],
   "source": [
    "# 提取某几行与某几列\n",
    "df.iloc[:, 2]"
   ]
  },
  {
   "cell_type": "code",
   "execution_count": 49,
   "metadata": {},
   "outputs": [
    {
     "data": {
      "text/html": "<div>\n<style scoped>\n    .dataframe tbody tr th:only-of-type {\n        vertical-align: middle;\n    }\n\n    .dataframe tbody tr th {\n        vertical-align: top;\n    }\n\n    .dataframe thead th {\n        text-align: right;\n    }\n</style>\n<table border=\"1\" class=\"dataframe\">\n  <thead>\n    <tr style=\"text-align: right;\">\n      <th></th>\n      <th>C</th>\n      <th>D</th>\n    </tr>\n  </thead>\n  <tbody>\n    <tr>\n      <td>2016-01-02</td>\n      <td>-0.415147</td>\n      <td>-1.420777</td>\n    </tr>\n    <tr>\n      <td>2016-01-05</td>\n      <td>-1.076279</td>\n      <td>-0.338145</td>\n    </tr>\n  </tbody>\n</table>\n</div>",
      "text/plain": "                   C         D\n2016-01-02 -0.415147 -1.420777\n2016-01-05 -1.076279 -0.338145"
     },
     "execution_count": 49,
     "metadata": {},
     "output_type": "execute_result"
    }
   ],
   "source": [
    "# 提取某几行与某几列\n",
    "df.iloc[[1,4],[2,3]]"
   ]
  },
  {
   "cell_type": "code",
   "execution_count": 50,
   "metadata": {},
   "outputs": [
    {
     "data": {
      "text/html": "<div>\n<style scoped>\n    .dataframe tbody tr th:only-of-type {\n        vertical-align: middle;\n    }\n\n    .dataframe tbody tr th {\n        vertical-align: top;\n    }\n\n    .dataframe thead th {\n        text-align: right;\n    }\n</style>\n<table border=\"1\" class=\"dataframe\">\n  <thead>\n    <tr style=\"text-align: right;\">\n      <th></th>\n      <th>C</th>\n      <th>D</th>\n    </tr>\n  </thead>\n  <tbody>\n    <tr>\n      <td>2016-01-02</td>\n      <td>-0.415147</td>\n      <td>-1.420777</td>\n    </tr>\n    <tr>\n      <td>2016-01-03</td>\n      <td>0.193925</td>\n      <td>-2.091588</td>\n    </tr>\n    <tr>\n      <td>2016-01-04</td>\n      <td>0.383428</td>\n      <td>-1.235696</td>\n    </tr>\n  </tbody>\n</table>\n</div>",
      "text/plain": "                   C         D\n2016-01-02 -0.415147 -1.420777\n2016-01-03  0.193925 -2.091588\n2016-01-04  0.383428 -1.235696"
     },
     "execution_count": 50,
     "metadata": {},
     "output_type": "execute_result"
    }
   ],
   "source": [
    "# 切片\n",
    "df.iloc[1:4, 2:4]"
   ]
  },
  {
   "cell_type": "code",
   "execution_count": 52,
   "metadata": {},
   "outputs": [
    {
     "data": {
      "text/plain": "-1.2356959735468116"
     },
     "execution_count": 52,
     "metadata": {},
     "output_type": "execute_result"
    }
   ],
   "source": [
    "#提取特定标量\n",
    "df.iloc[3,3]"
   ]
  },
  {
   "cell_type": "code",
   "execution_count": 53,
   "metadata": {},
   "outputs": [
    {
     "data": {
      "text/plain": "-1.2356959735468116"
     },
     "execution_count": 53,
     "metadata": {},
     "output_type": "execute_result"
    }
   ],
   "source": [
    "df.iat[3,3]"
   ]
  },
  {
   "cell_type": "code",
   "execution_count": 55,
   "metadata": {},
   "outputs": [
    {
     "data": {
      "text/html": "<div>\n<style scoped>\n    .dataframe tbody tr th:only-of-type {\n        vertical-align: middle;\n    }\n\n    .dataframe tbody tr th {\n        vertical-align: top;\n    }\n\n    .dataframe thead th {\n        text-align: right;\n    }\n</style>\n<table border=\"1\" class=\"dataframe\">\n  <thead>\n    <tr style=\"text-align: right;\">\n      <th></th>\n      <th>A</th>\n      <th>B</th>\n      <th>C</th>\n    </tr>\n  </thead>\n  <tbody>\n    <tr>\n      <td>2016-01-01</td>\n      <td>0.260114</td>\n      <td>-2.106529</td>\n      <td>0.552100</td>\n    </tr>\n    <tr>\n      <td>2016-01-02</td>\n      <td>0.367788</td>\n      <td>0.415501</td>\n      <td>-0.415147</td>\n    </tr>\n    <tr>\n      <td>2016-01-03</td>\n      <td>0.815407</td>\n      <td>-0.187797</td>\n      <td>0.193925</td>\n    </tr>\n    <tr>\n      <td>2016-01-04</td>\n      <td>0.263283</td>\n      <td>0.100470</td>\n      <td>0.383428</td>\n    </tr>\n    <tr>\n      <td>2016-01-05</td>\n      <td>-0.727021</td>\n      <td>1.107235</td>\n      <td>-1.076279</td>\n    </tr>\n    <tr>\n      <td>2016-01-06</td>\n      <td>1.085417</td>\n      <td>-0.697706</td>\n      <td>0.004307</td>\n    </tr>\n  </tbody>\n</table>\n</div>",
      "text/plain": "                   A         B         C\n2016-01-01  0.260114 -2.106529  0.552100\n2016-01-02  0.367788  0.415501 -0.415147\n2016-01-03  0.815407 -0.187797  0.193925\n2016-01-04  0.263283  0.100470  0.383428\n2016-01-05 -0.727021  1.107235 -1.076279\n2016-01-06  1.085417 -0.697706  0.004307"
     },
     "execution_count": 55,
     "metadata": {},
     "output_type": "execute_result"
    }
   ],
   "source": [
    "# 根据boolean值提取\n",
    "df.loc[:, df.iloc[3] > 0]"
   ]
  },
  {
   "cell_type": "code",
   "execution_count": 56,
   "metadata": {},
   "outputs": [
    {
     "data": {
      "text/html": "<div>\n<style scoped>\n    .dataframe tbody tr th:only-of-type {\n        vertical-align: middle;\n    }\n\n    .dataframe tbody tr th {\n        vertical-align: top;\n    }\n\n    .dataframe thead th {\n        text-align: right;\n    }\n</style>\n<table border=\"1\" class=\"dataframe\">\n  <thead>\n    <tr style=\"text-align: right;\">\n      <th></th>\n      <th>A</th>\n      <th>B</th>\n      <th>C</th>\n      <th>D</th>\n    </tr>\n  </thead>\n  <tbody>\n    <tr>\n      <td>2016-01-03</td>\n      <td>0.815407</td>\n      <td>-0.187797</td>\n      <td>0.193925</td>\n      <td>-2.091588</td>\n    </tr>\n    <tr>\n      <td>2016-01-04</td>\n      <td>0.263283</td>\n      <td>0.100470</td>\n      <td>0.383428</td>\n      <td>-1.235696</td>\n    </tr>\n    <tr>\n      <td>2016-01-05</td>\n      <td>-0.727021</td>\n      <td>1.107235</td>\n      <td>-1.076279</td>\n      <td>-0.338145</td>\n    </tr>\n  </tbody>\n</table>\n</div>",
      "text/plain": "                   A         B         C         D\n2016-01-03  0.815407 -0.187797  0.193925 -2.091588\n2016-01-04  0.263283  0.100470  0.383428 -1.235696\n2016-01-05 -0.727021  1.107235 -1.076279 -0.338145"
     },
     "execution_count": 56,
     "metadata": {},
     "output_type": "execute_result"
    }
   ],
   "source": [
    "# 广义索引与切片\n",
    "\n",
    "df.ix[2:5]"
   ]
  },
  {
   "cell_type": "code",
   "execution_count": 57,
   "metadata": {},
   "outputs": [
    {
     "data": {
      "text/plain": "2016-01-02   -0.415147\n2016-01-04    0.383428\nName: C, dtype: float64"
     },
     "execution_count": 57,
     "metadata": {},
     "output_type": "execute_result"
    }
   ],
   "source": [
    "df.ix[[1,3],2]"
   ]
  },
  {
   "cell_type": "code",
   "execution_count": 58,
   "metadata": {},
   "outputs": [
    {
     "data": {
      "text/html": "<div>\n<style scoped>\n    .dataframe tbody tr th:only-of-type {\n        vertical-align: middle;\n    }\n\n    .dataframe tbody tr th {\n        vertical-align: top;\n    }\n\n    .dataframe thead th {\n        text-align: right;\n    }\n</style>\n<table border=\"1\" class=\"dataframe\">\n  <thead>\n    <tr style=\"text-align: right;\">\n      <th></th>\n      <th>A</th>\n      <th>B</th>\n      <th>C</th>\n      <th>D</th>\n    </tr>\n  </thead>\n  <tbody>\n    <tr>\n      <td>2016-01-01</td>\n      <td>0.260114</td>\n      <td>-2.106529</td>\n      <td>0.552100</td>\n      <td>0.421264</td>\n    </tr>\n    <tr>\n      <td>2016-01-02</td>\n      <td>0.367788</td>\n      <td>0.415501</td>\n      <td>-0.415147</td>\n      <td>-1.420777</td>\n    </tr>\n    <tr>\n      <td>2016-01-03</td>\n      <td>0.815407</td>\n      <td>-0.187797</td>\n      <td>0.193925</td>\n      <td>-2.091588</td>\n    </tr>\n    <tr>\n      <td>2016-01-04</td>\n      <td>0.263283</td>\n      <td>0.100470</td>\n      <td>0.383428</td>\n      <td>-1.235696</td>\n    </tr>\n    <tr>\n      <td>2016-01-05</td>\n      <td>-0.727021</td>\n      <td>1.107235</td>\n      <td>-1.076279</td>\n      <td>-0.338145</td>\n    </tr>\n    <tr>\n      <td>2016-01-06</td>\n      <td>1.085417</td>\n      <td>-0.697706</td>\n      <td>0.004307</td>\n      <td>-0.817405</td>\n    </tr>\n  </tbody>\n</table>\n</div>",
      "text/plain": "                   A         B         C         D\n2016-01-01  0.260114 -2.106529  0.552100  0.421264\n2016-01-02  0.367788  0.415501 -0.415147 -1.420777\n2016-01-03  0.815407 -0.187797  0.193925 -2.091588\n2016-01-04  0.263283  0.100470  0.383428 -1.235696\n2016-01-05 -0.727021  1.107235 -1.076279 -0.338145\n2016-01-06  1.085417 -0.697706  0.004307 -0.817405"
     },
     "execution_count": 58,
     "metadata": {},
     "output_type": "execute_result"
    }
   ],
   "source": [
    "df"
   ]
  },
  {
   "cell_type": "code",
   "execution_count": 59,
   "metadata": {},
   "outputs": [
    {
     "data": {
      "text/plain": "2016-01-02   -0.415147\n2016-01-04    0.383428\nName: C, dtype: float64"
     },
     "execution_count": 59,
     "metadata": {},
     "output_type": "execute_result"
    }
   ],
   "source": [
    "df.ix[[1,3],'C']"
   ]
  },
  {
   "cell_type": "code",
   "execution_count": 60,
   "metadata": {},
   "outputs": [
    {
     "data": {
      "text/html": "<div>\n<style scoped>\n    .dataframe tbody tr th:only-of-type {\n        vertical-align: middle;\n    }\n\n    .dataframe tbody tr th {\n        vertical-align: top;\n    }\n\n    .dataframe thead th {\n        text-align: right;\n    }\n</style>\n<table border=\"1\" class=\"dataframe\">\n  <thead>\n    <tr style=\"text-align: right;\">\n      <th></th>\n      <th>A</th>\n      <th>B</th>\n      <th>C</th>\n    </tr>\n  </thead>\n  <tbody>\n    <tr>\n      <td>2016-01-02</td>\n      <td>0.367788</td>\n      <td>0.415501</td>\n      <td>-0.415147</td>\n    </tr>\n    <tr>\n      <td>2016-01-03</td>\n      <td>0.815407</td>\n      <td>-0.187797</td>\n      <td>0.193925</td>\n    </tr>\n  </tbody>\n</table>\n</div>",
      "text/plain": "                   A         B         C\n2016-01-02  0.367788  0.415501 -0.415147\n2016-01-03  0.815407 -0.187797  0.193925"
     },
     "execution_count": 60,
     "metadata": {},
     "output_type": "execute_result"
    }
   ],
   "source": [
    "df.ix[1:3, 'A':'C']"
   ]
  },
  {
   "cell_type": "code",
   "execution_count": 61,
   "metadata": {},
   "outputs": [
    {
     "data": {
      "text/html": "<div>\n<style scoped>\n    .dataframe tbody tr th:only-of-type {\n        vertical-align: middle;\n    }\n\n    .dataframe tbody tr th {\n        vertical-align: top;\n    }\n\n    .dataframe thead th {\n        text-align: right;\n    }\n</style>\n<table border=\"1\" class=\"dataframe\">\n  <thead>\n    <tr style=\"text-align: right;\">\n      <th></th>\n      <th>A</th>\n      <th>B</th>\n      <th>C</th>\n    </tr>\n  </thead>\n  <tbody>\n    <tr>\n      <td>2016-01-02</td>\n      <td>0.367788</td>\n      <td>0.415501</td>\n      <td>-0.415147</td>\n    </tr>\n    <tr>\n      <td>2016-01-03</td>\n      <td>0.815407</td>\n      <td>-0.187797</td>\n      <td>0.193925</td>\n    </tr>\n  </tbody>\n</table>\n</div>",
      "text/plain": "                   A         B         C\n2016-01-02  0.367788  0.415501 -0.415147\n2016-01-03  0.815407 -0.187797  0.193925"
     },
     "execution_count": 61,
     "metadata": {},
     "output_type": "execute_result"
    }
   ],
   "source": [
    "df.ix[1:3, df.iloc[3] > 0]"
   ]
  },
  {
   "cell_type": "code",
   "execution_count": null,
   "metadata": {},
   "outputs": [],
   "source": []
  }
 ]
}