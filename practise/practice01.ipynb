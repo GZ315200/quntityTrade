{
 "nbformat": 4,
 "nbformat_minor": 2,
 "metadata": {
  "language_info": {
   "name": "python",
   "codemirror_mode": {
    "name": "ipython",
    "version": 3
   },
   "version": "3.7.4-final"
  },
  "orig_nbformat": 2,
  "file_extension": ".py",
  "mimetype": "text/x-python",
  "name": "python",
  "npconvert_exporter": "python",
  "pygments_lexer": "ipython3",
  "version": 3,
  "kernelspec": {
   "name": "python37464bitbaseconda66695521631d4bbc9bdbdac638dcafef",
   "display_name": "Python 3.7.4 64-bit ('base': conda)"
  }
 },
 "cells": [
  {
   "cell_type": "code",
   "execution_count": 19,
   "metadata": {},
   "outputs": [],
   "source": [
    "# 题目１\n",
    "import datetime as dt"
   ]
  },
  {
   "cell_type": "code",
   "execution_count": 20,
   "metadata": {},
   "outputs": [],
   "source": [
    "dates = [dt.datetime(2015,1,13)+dt.timedelta(i) for i in range(5)]"
   ]
  },
  {
   "cell_type": "code",
   "execution_count": 21,
   "metadata": {},
   "outputs": [
    {
     "data": {
      "text/plain": "[datetime.datetime(2015, 1, 13, 0, 0),\n datetime.datetime(2015, 1, 14, 0, 0),\n datetime.datetime(2015, 1, 15, 0, 0),\n datetime.datetime(2015, 1, 16, 0, 0),\n datetime.datetime(2015, 1, 17, 0, 0)]"
     },
     "execution_count": 21,
     "metadata": {},
     "output_type": "execute_result"
    }
   ],
   "source": [
    "dates"
   ]
  },
  {
   "cell_type": "code",
   "execution_count": 22,
   "metadata": {},
   "outputs": [],
   "source": [
    "closes = [7.31,7.28,7.40,7.43,7.41]"
   ]
  },
  {
   "cell_type": "code",
   "execution_count": 23,
   "metadata": {},
   "outputs": [],
   "source": [
    "prices = {dates[i]:closes[i] for i in range(5)}"
   ]
  },
  {
   "cell_type": "code",
   "execution_count": 24,
   "metadata": {},
   "outputs": [
    {
     "data": {
      "text/plain": "{datetime.datetime(2015, 1, 13, 0, 0): 7.31,\n datetime.datetime(2015, 1, 14, 0, 0): 7.28,\n datetime.datetime(2015, 1, 15, 0, 0): 7.4,\n datetime.datetime(2015, 1, 16, 0, 0): 7.43,\n datetime.datetime(2015, 1, 17, 0, 0): 7.41}"
     },
     "execution_count": 24,
     "metadata": {},
     "output_type": "execute_result"
    }
   ],
   "source": [
    "prices"
   ]
  },
  {
   "cell_type": "code",
   "execution_count": 25,
   "metadata": {},
   "outputs": [],
   "source": [
    "prices[dt.datetime(2015,1,20)] = 7.44"
   ]
  },
  {
   "cell_type": "code",
   "execution_count": 26,
   "metadata": {},
   "outputs": [],
   "source": [
    "dates.append(dt.datetime(2015, 1, 20))"
   ]
  },
  {
   "cell_type": "code",
   "execution_count": 27,
   "metadata": {},
   "outputs": [
    {
     "data": {
      "text/plain": "{datetime.datetime(2015, 1, 13, 0, 0): 7.31,\n datetime.datetime(2015, 1, 14, 0, 0): 7.28,\n datetime.datetime(2015, 1, 15, 0, 0): 7.4,\n datetime.datetime(2015, 1, 16, 0, 0): 7.43,\n datetime.datetime(2015, 1, 17, 0, 0): 7.41,\n datetime.datetime(2015, 1, 20, 0, 0): 7.44}"
     },
     "execution_count": 27,
     "metadata": {},
     "output_type": "execute_result"
    }
   ],
   "source": [
    "prices"
   ]
  },
  {
   "cell_type": "code",
   "execution_count": 28,
   "metadata": {},
   "outputs": [
    {
     "data": {
      "text/plain": "7.41"
     },
     "execution_count": 28,
     "metadata": {},
     "output_type": "execute_result"
    }
   ],
   "source": [
    "prices[dt.datetime(2015,1,21) - dt.timedelta(4)]"
   ]
  },
  {
   "cell_type": "code",
   "execution_count": 29,
   "metadata": {},
   "outputs": [],
   "source": [
    "prices[dt.datetime(2015,1,16)] = 7.50"
   ]
  },
  {
   "cell_type": "code",
   "execution_count": 30,
   "metadata": {},
   "outputs": [
    {
     "data": {
      "text/plain": "{datetime.datetime(2015, 1, 13, 0, 0): 7.31,\n datetime.datetime(2015, 1, 14, 0, 0): 7.28,\n datetime.datetime(2015, 1, 15, 0, 0): 7.4,\n datetime.datetime(2015, 1, 16, 0, 0): 7.5,\n datetime.datetime(2015, 1, 17, 0, 0): 7.41,\n datetime.datetime(2015, 1, 20, 0, 0): 7.44}"
     },
     "execution_count": 30,
     "metadata": {},
     "output_type": "execute_result"
    }
   ],
   "source": [
    "prices"
   ]
  },
  {
   "cell_type": "code",
   "execution_count": 31,
   "metadata": {},
   "outputs": [],
   "source": [
    "# 题目二\n",
    "import math"
   ]
  },
  {
   "cell_type": "code",
   "execution_count": 32,
   "metadata": {},
   "outputs": [],
   "source": [
    "cash = 10000"
   ]
  },
  {
   "cell_type": "code",
   "execution_count": 33,
   "metadata": {},
   "outputs": [],
   "source": [
    "share = {dates[0]:0}"
   ]
  },
  {
   "cell_type": "code",
   "execution_count": 34,
   "metadata": {},
   "outputs": [],
   "source": [
    "for i in range(1, 6):\n",
    "    if prices[dates[i]] > prices[dates[i-1]]:\n",
    "        buyshare = math.floor(0.5*cash/prices[dates[i]])\n",
    "        share[dates[i]] = buyshare\n",
    "        cash = cash - buyshare * prices[dates[i]] + share[dates[i-1]]*prices[dates[i]]\n",
    "    else:\n",
    "        share[dates[i]] = 0"
   ]
  },
  {
   "cell_type": "code",
   "execution_count": 35,
   "metadata": {},
   "outputs": [
    {
     "data": {
      "text/plain": "{datetime.datetime(2015, 1, 13, 0, 0): 0,\n datetime.datetime(2015, 1, 14, 0, 0): 0,\n datetime.datetime(2015, 1, 15, 0, 0): 675,\n datetime.datetime(2015, 1, 16, 0, 0): 333,\n datetime.datetime(2015, 1, 17, 0, 0): 0,\n datetime.datetime(2015, 1, 20, 0, 0): 508}"
     },
     "execution_count": 35,
     "metadata": {},
     "output_type": "execute_result"
    }
   ],
   "source": [
    "share"
   ]
  },
  {
   "cell_type": "code",
   "execution_count": null,
   "metadata": {},
   "outputs": [],
   "source": []
  }
 ]
}