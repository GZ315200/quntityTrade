{
 "nbformat": 4,
 "nbformat_minor": 2,
 "metadata": {
  "language_info": {
   "name": "python",
   "codemirror_mode": {
    "name": "ipython",
    "version": 3
   },
   "version": "3.7.4-final"
  },
  "orig_nbformat": 2,
  "file_extension": ".py",
  "mimetype": "text/x-python",
  "name": "python",
  "npconvert_exporter": "python",
  "pygments_lexer": "ipython3",
  "version": 3,
  "kernelspec": {
   "name": "python37464bitbaseconda66695521631d4bbc9bdbdac638dcafef",
   "display_name": "Python 3.7.4 64-bit ('base': conda)"
  }
 },
 "cells": [
  {
   "cell_type": "code",
   "execution_count": 1,
   "metadata": {},
   "outputs": [],
   "source": [
    "import numpy as np \n",
    "hilbert = 1 / (np.arange(4) + np.arange(1,5)[:,np.newaxis])"
   ]
  },
  {
   "cell_type": "code",
   "execution_count": 2,
   "metadata": {},
   "outputs": [
    {
     "data": {
      "text/plain": "array([[1.        , 0.5       , 0.33333333, 0.25      ],\n       [0.5       , 0.33333333, 0.25      , 0.2       ],\n       [0.33333333, 0.25      , 0.2       , 0.16666667],\n       [0.25      , 0.2       , 0.16666667, 0.14285714]])"
     },
     "execution_count": 2,
     "metadata": {},
     "output_type": "execute_result"
    }
   ],
   "source": [
    "hilbert"
   ]
  },
  {
   "cell_type": "code",
   "execution_count": 3,
   "metadata": {},
   "outputs": [],
   "source": [
    "import datetime as dt \n",
    "import numpy as np \n",
    "import math\n",
    "dates = [dt.datetime(2015,1,13) + dt.timedelta(i) for i in range(5)]"
   ]
  },
  {
   "cell_type": "code",
   "execution_count": 4,
   "metadata": {},
   "outputs": [],
   "source": [
    "closes = [7.31,7.28,7.40,7.43,7.41]\n",
    "prices = {dates[i]:closes[i] for i in range(5)}\n",
    "prices[dt.datetime(2015,1,20)] = 7.44\n",
    "dates.append(dt.datetime(2015,1,20))\n",
    "cash = 10000\n",
    "share = {dates[0]:0}\n",
    "for i in range(1,6):\n",
    "    if prices[dates[i]] > price[dates[i -1]]:\n",
    "        buyshare = math.floor(0.5*cash/prices[i])\n",
    "        share[dates[i]] = buyshare\n",
    "        cash = cash - buyshare * prices[dates[i]] + share[dates[i - 1]] * prices[dates]"
   ]
  },
  {
   "cell_type": "code",
   "execution_count": null,
   "metadata": {},
   "outputs": [],
   "source": []
  }
 ]
}